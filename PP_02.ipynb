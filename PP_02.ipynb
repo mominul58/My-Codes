{
  "nbformat": 4,
  "nbformat_minor": 0,
  "metadata": {
    "colab": {
      "provenance": [],
      "collapsed_sections": [
        "lL6IKS9mSngZ",
        "b8QH_Ocl7o6S",
        "m50q3lGUg1TN",
        "49kwqYtxNGfD",
        "hUxjtwnLIjRc",
        "zrTEkrHhZpHc",
        "Y8TRI9sN8Kyk",
        "Q-lqMUsl9FKx",
        "XBR-52yLS3Fz",
        "TW7eyHSjNSoq",
        "itf8MJLmOddp",
        "vm6xIXLXeooZ"
      ]
    },
    "kernelspec": {
      "name": "python3",
      "display_name": "Python 3"
    },
    "language_info": {
      "name": "python"
    }
  },
  "cells": [
    {
      "cell_type": "markdown",
      "source": [
        "# Lecture 01\n"
      ],
      "metadata": {
        "id": "lL6IKS9mSngZ"
      }
    },
    {
      "cell_type": "code",
      "source": [
        "a = 5\n",
        "b = 10\n",
        "print(a, b)\n",
        "print(a+b)"
      ],
      "metadata": {
        "colab": {
          "base_uri": "https://localhost:8080/"
        },
        "id": "vCxJ6j3ZWI0A",
        "outputId": "a01d6b46-b625-42bc-e4ee-a085aa89d371"
      },
      "execution_count": null,
      "outputs": [
        {
          "output_type": "stream",
          "name": "stdout",
          "text": [
            "5 10\n",
            "15\n"
          ]
        }
      ]
    },
    {
      "cell_type": "code",
      "source": [
        "radius = 5\n",
        "area = 3.1416 * radius * radius\n",
        "print(area)"
      ],
      "metadata": {
        "colab": {
          "base_uri": "https://localhost:8080/"
        },
        "id": "JNwLyuSpWa4M",
        "outputId": "093daa75-2bdd-499a-c59b-6a6a51e13ed9"
      },
      "execution_count": null,
      "outputs": [
        {
          "output_type": "stream",
          "name": "stdout",
          "text": [
            "78.54\n"
          ]
        }
      ]
    },
    {
      "cell_type": "code",
      "source": [
        "# Different print formatting\n",
        "\n",
        "name = 'abc'\n",
        "age = 26\n",
        "\n",
        "print('The instructor\\'s name is :', name, 'and his age is :',age)\n",
        "print(f'The instructor\\'s name is : {name} and his age is :{age}')\n",
        "print('The instructor\\'s name is : {} and his age is :{}'.format(name, age))"
      ],
      "metadata": {
        "colab": {
          "base_uri": "https://localhost:8080/"
        },
        "id": "R81-3r5wXY4m",
        "outputId": "25222b8f-1b86-476e-f591-265bdd723cfd"
      },
      "execution_count": null,
      "outputs": [
        {
          "output_type": "stream",
          "name": "stdout",
          "text": [
            "The instructor's name is : Raihan and his age is : 26\n",
            "The instructor's name is : Raihan and his age is :26\n",
            "The instructor's name is : Raihan and his age is :26\n"
          ]
        }
      ]
    },
    {
      "cell_type": "markdown",
      "metadata": {
        "id": "b8QH_Ocl7o6S"
      },
      "source": [
        "# Lecture 02\n"
      ]
    },
    {
      "cell_type": "markdown",
      "source": [
        "**Variables**\n",
        "One of the most powerful features of a programming language is the ability to manipulate variables.\n",
        "A variable is a name that refers to a value.\n",
        "An assignment statement creates new variables and gives them values:"
      ],
      "metadata": {
        "id": "B6JQaWS3j4mn"
      }
    },
    {
      "cell_type": "code",
      "execution_count": null,
      "metadata": {
        "id": "bL4fCzv75lRq",
        "colab": {
          "base_uri": "https://localhost:8080/"
        },
        "outputId": "b457ae72-99bc-4097-fa76-925edb4a1943"
      },
      "outputs": [
        {
          "output_type": "stream",
          "name": "stdout",
          "text": [
            "And now for something completely different\n",
            "<class 'str'>\n",
            "<class 'int'>\n",
            "<class 'float'>\n"
          ]
        }
      ],
      "source": [
        "message = 'And now for something completely different'\n",
        "n=17\n",
        "pi = 3.1415926535897931\n",
        "\n",
        "print(message)\n",
        "\n",
        "print(type(message))\n",
        "print(type(n))\n",
        "print(type(pi))"
      ]
    },
    {
      "cell_type": "markdown",
      "metadata": {
        "id": "ERHDvpNl8JuU"
      },
      "source": [
        "**Identifier:** An identifier in programming is a name given to elements such as variables, functions, classes, and other entities within the code. Identifiers are used to uniquely identify and reference these elements, allowing developers to manipulate and interact with them.\n",
        "\n",
        "Programmers generally choose names for their variables that are meaningful—they document what the variable is used for.  \n",
        "\n",
        "Variable names can be arbitrarily long. They can contain both letters and numbers, but they have to begin with a letter.  \n",
        "\n",
        "It is **legal** to use **uppercase letters**, but it is a **good idea to begin variable names with a lowercase letter** (you’ll see why later).\n",
        "**The underscore character (_) can appear in a name. It is often used in names with multiple words**.\n",
        "\n",
        "If you give a variable an illegal name, you get a syntax error.\n",
        "\n",
        "**Can't use python keywords as variable, there are 31 keywords in python:**\n",
        "- `and`\n",
        "- `del`\n",
        "- `from`\n",
        "- `as`\n",
        "- `elif`\n",
        "- `global`\n",
        "- `assert`\n",
        "- `else`\n",
        "- `if`\n",
        "- `break`\n",
        "- `except`\n",
        "- `import`\n",
        "- `class`\n",
        "- `exec`\n",
        "- `in`\n",
        "- `continue`\n",
        "- `finally`\n",
        "- `is`\n",
        "- `def`\n",
        "- `for`\n",
        "- `lambda`\n",
        "- `not`\n",
        "- `while`\n",
        "- `or`\n",
        "- `with`\n",
        "- `pass`\n",
        "- `yield`\n",
        "- `print`\n",
        "- `raise`\n",
        "- `return`\n",
        "- `try`"
      ]
    },
    {
      "cell_type": "code",
      "execution_count": null,
      "metadata": {
        "id": "ug9bmnvt72R_",
        "colab": {
          "base_uri": "https://localhost:8080/",
          "height": 109
        },
        "outputId": "e418d1e3-b9d4-42ca-ac78-187aaf4831d8"
      },
      "outputs": [
        {
          "output_type": "error",
          "ename": "SyntaxError",
          "evalue": "invalid syntax (<ipython-input-58-6c030c72a048>, line 1)",
          "traceback": [
            "\u001b[0;36m  File \u001b[0;32m\"<ipython-input-58-6c030c72a048>\"\u001b[0;36m, line \u001b[0;32m1\u001b[0m\n\u001b[0;31m    first name = \"invalid variable\"\u001b[0m\n\u001b[0m          ^\u001b[0m\n\u001b[0;31mSyntaxError\u001b[0m\u001b[0;31m:\u001b[0m invalid syntax\n"
          ]
        }
      ],
      "source": [
        "first name = \"invalid variable\"\n",
        "andd = 4\n",
        "a = 5\n",
        "A = 8"
      ]
    },
    {
      "cell_type": "markdown",
      "metadata": {
        "id": "QlgbfJwL9IO2"
      },
      "source": [
        "**Variable Types in python**\n",
        "\n",
        "- **Text Type**: `str`\n",
        "- **Numeric Types**: `int`, `float`, `complex`\n",
        "- **Sequence Types**: `list`, `tuple`, `range`\n",
        "- **Mapping Type**: `dict`\n",
        "- **Set Types**: `set`, `frozenset`\n",
        "- **Boolean Type**: `bool`\n",
        "- **Binary Types**: `bytes`, `bytearray`, `memoryview`\n",
        "- **None Type**: `NoneType`"
      ]
    },
    {
      "cell_type": "markdown",
      "source": [
        "##Expression vs Statement\n",
        "\n",
        "###Expressions\n",
        "\n",
        "**Definition**: An expression is a combination of values, variables, operators, and function calls that produces a result.\n",
        "\n",
        "**Evaluation**: Expressions are evaluated to yield a value. For example, 2 + 3 is an expression that evaluates to 5.\n",
        "Side Effects: Expressions may have side effects, but their primary purpose is to compute a value.\n",
        "\n",
        "**Examples**: Arithmetic expressions (5 + 3, x * y), function calls (len(my_list), my_function()), and conditional expressions (True if x > 0 else False) are all examples of expressions.\n",
        "\n",
        "\n",
        "\n",
        "\n",
        "###Statements\n",
        "\n",
        "\n",
        "**Definition**: A statement is a unit of code that performs an action, such as assignment, control flow, or function definition.\n",
        "\n",
        "**Execution**: Statements are executed by the Python interpreter to perform tasks like variable assignment, loop iteration, or function invocation.\n",
        "No Result: Unlike expressions, statements do not produce a value.\n",
        "\n",
        "**Examples**: Assignment statements (x = 5, my_list.append(10)), control flow statements (if, while, for), and function definition statements (def my_function():) are all examples of statements.\n",
        "\n",
        "\n",
        "###Key Differences\n",
        "**Evaluation vs Execution**: Expressions are evaluated to produce a value, while statements are executed to perform actions.\n",
        "\n",
        "**Value vs Action**: Expressions produce a value, while statements perform actions such as assignment, control flow, or function invocation.\n",
        "\n",
        "**Combination**: Statements often contain expressions, but not all expressions are statements. For example, an arithmetic expression (5 + 3) is not a statement, but an assignment statement (x = 5) contains an expression (5) on the right-hand side."
      ],
      "metadata": {
        "id": "rwVmLcgbx5Sk"
      }
    },
    {
      "cell_type": "markdown",
      "source": [
        "**Run Python program on a local IDE**\n",
        "\n",
        "\n",
        "\n",
        "1.   First download [PyCharm Community Edition](https://www.jetbrains.com/pycharm/download/?section=mac)\n",
        "2.   Now follow the following tutorial to run your first Python Program on Pycharm: [Create Your First Project on Python](https://www.jetbrains.com/help/pycharm/creating-and-running-your-first-python-project.html#edit-file)\n",
        "\n"
      ],
      "metadata": {
        "id": "pnr3GEbCbpeh"
      }
    },
    {
      "cell_type": "markdown",
      "source": [
        "# Lecture 03"
      ],
      "metadata": {
        "id": "m50q3lGUg1TN"
      }
    },
    {
      "cell_type": "markdown",
      "source": [
        "## Taking input in python"
      ],
      "metadata": {
        "id": "YaTlCqGdg_WT"
      }
    },
    {
      "cell_type": "code",
      "source": [
        "name = input(\"Enter your name \")\n",
        "ageAsString = input(\"Enter you Age \")\n",
        "print(type(ageAsString))\n",
        "age = int(ageAsString)\n",
        "print(type(age))\n",
        "\n",
        "# print(f\"{name} is {age} years old.\")\n",
        "print(\"{} is {} years old.\".format(name, age))\n",
        "print(\"{1} is {0} years old.\".format(name, age))"
      ],
      "metadata": {
        "colab": {
          "base_uri": "https://localhost:8080/"
        },
        "id": "r9qi1B-NhIkn",
        "outputId": "7bacdc8a-a4a9-4f45-fc6a-06ac28b2c40c"
      },
      "execution_count": null,
      "outputs": [
        {
          "output_type": "stream",
          "name": "stdout",
          "text": [
            "Enter your name kajlsdk\n",
            "Enter you Age 56\n",
            "<class 'str'>\n",
            "<class 'int'>\n",
            "kajlsdk is 56 years old.\n",
            "kajlsdk is 56 years old.\n"
          ]
        }
      ]
    },
    {
      "cell_type": "markdown",
      "source": [
        "## Output Formatting (Recap)"
      ],
      "metadata": {
        "id": "Kso8ZtUghUiL"
      }
    },
    {
      "cell_type": "code",
      "source": [
        "#using sep parameter in print()\n",
        "\n",
        "print(\"Hello\", \"World\")\n",
        "print(\"Hello\", \"World\", \"From SUST\", sep=\", \")"
      ],
      "metadata": {
        "colab": {
          "base_uri": "https://localhost:8080/"
        },
        "id": "FiOm20wahOd4",
        "outputId": "bf4cddb4-e945-47ac-a8ab-3ed9570ccb5e"
      },
      "execution_count": null,
      "outputs": [
        {
          "output_type": "stream",
          "name": "stdout",
          "text": [
            "Hello World\n",
            "Hello, World, From SUST\n"
          ]
        }
      ]
    },
    {
      "cell_type": "code",
      "source": [
        "#print without new line\n",
        "\n",
        "print(\"This is first line\")\n",
        "print(\"This is second line\")\n",
        "\n",
        "print(\"This is third line\", end=\" ||| \")\n",
        "print(\"This is fourth line\")"
      ],
      "metadata": {
        "colab": {
          "base_uri": "https://localhost:8080/"
        },
        "id": "vzWaOF4uhJJ0",
        "outputId": "960d3a02-768c-43f6-e139-f7f91bd1549d"
      },
      "execution_count": null,
      "outputs": [
        {
          "output_type": "stream",
          "name": "stdout",
          "text": [
            "This is first line\n",
            "This is second line\n",
            "This is third line ||| This is fourth line\n"
          ]
        }
      ]
    },
    {
      "cell_type": "code",
      "source": [
        "# Using format Method\n",
        "\n",
        "print('We are completing our {} degree from {}!'.format('Honours', 'SUST'))\n",
        "\n",
        "print('{0} and {1}'.format('Sylhet', 'Bangladesh'))\n",
        "\n",
        "print('{1} and {0}'.format('Sylhet', 'Bangladesh'))"
      ],
      "metadata": {
        "colab": {
          "base_uri": "https://localhost:8080/"
        },
        "id": "7A_MCRHNhZL1",
        "outputId": "7a136986-36b7-4195-f2a3-329c5b68ee83"
      },
      "execution_count": null,
      "outputs": [
        {
          "output_type": "stream",
          "name": "stdout",
          "text": [
            "We are completing our Honours degree from SUST!\n",
            "Sylhet and Bangladesh\n",
            "Bangladesh and Sylhet\n"
          ]
        }
      ]
    },
    {
      "cell_type": "code",
      "source": [
        "print(\"1-> Geeks :{0:2d}, Portal :{1:8.4f}\".format(12, 00.54))\n",
        "print(\"2-> Geeks :{0:5d}, Portal :{1:5.1f}\".format(12, 00.546))\n",
        "print(\"3-> Geeks :{0:2.4f}, Portal :{1:4.2f}\".format(12345, 12345.546))\n",
        "print(\"4-> Geeks :{0:2d}, Portal :{1:8.2f}\".format(12, 00.546))"
      ],
      "metadata": {
        "colab": {
          "base_uri": "https://localhost:8080/"
        },
        "id": "sp666puihdCn",
        "outputId": "07cde8c2-16b9-4884-f65d-c18d134af1eb"
      },
      "execution_count": null,
      "outputs": [
        {
          "output_type": "stream",
          "name": "stdout",
          "text": [
            "1-> Geeks :12, Portal :  0.5400\n",
            "2-> Geeks :   12, Portal :  0.5\n",
            "3-> Geeks :12345.0000, Portal :12345.55\n",
            "4-> Geeks :12, Portal :    0.55\n"
          ]
        }
      ]
    },
    {
      "cell_type": "code",
      "source": [
        "# combining positional and keyword arguments\n",
        "print('Number one portal is {0}, {1}, and {other}.'\n",
        "     .format('Geeks', 'For', other ='Geeks'))\n",
        "\n",
        "# using format() method with number\n",
        "print(\"Geeks :{0:2d}, Portal :{1:1.2f}\".\n",
        "      format(12, 00.546))\n",
        "#here, {0:2d} means, 0th index, and the value will take the place of minimum 2 decimal\n",
        "#{1:8.2f} means, 1th index, will take the place of minimum 8 decimal, and there will be 2 float value after dot (.)\n",
        "print(\"Geeks :{0:5d}, Portal :{1:8.3f}\".\n",
        "      format(12, 00.546))\n",
        "\n",
        "# Changing positional argument\n",
        "print(\"Second argument: {1:3d}, first one: {0:7.2f}\".\n",
        "      format(47.42, 11))\n",
        "\n",
        "print(\"Geeks: {a:5d},  Portal: {p:8.2f}\".\n",
        "     format(a = 453, p = 59.058))"
      ],
      "metadata": {
        "colab": {
          "base_uri": "https://localhost:8080/"
        },
        "id": "eA2d2UREhfhn",
        "outputId": "998aa850-6ef8-4d89-8ac6-ee6046a3743c"
      },
      "execution_count": null,
      "outputs": [
        {
          "output_type": "stream",
          "name": "stdout",
          "text": [
            "Number one portal is Geeks, For, and Geeks.\n",
            "Geeks :12, Portal :0.55\n",
            "Geeks :   12, Portal :   0.546\n",
            "Second argument:  11, first one:   47.42\n",
            "Geeks:   453,  Portal:    59.06\n"
          ]
        }
      ]
    },
    {
      "cell_type": "code",
      "source": [
        "# Python program showing how to use string modulo operator(%)\n",
        "\n",
        "print(\"Geeks :%2d, Portal :%5.2f\" % (1, 05.333))\n",
        "\n",
        "print(\"Total students : %3d, Boys : %2d\" % (240, 120))   # print integer value\n",
        "\n",
        "print(\"%7.3o\" % (25))   # print octal value\n",
        "\n",
        "print(\"%10.3E\" % (356.08977))   # print exponential value\n",
        "\n",
        "print('We are completing our %s degree from %s!' % ('Honours', 'SUST'))"
      ],
      "metadata": {
        "colab": {
          "base_uri": "https://localhost:8080/"
        },
        "id": "_m7RMSWRhmNo",
        "outputId": "fb569290-2db9-4e54-eaaf-c34c020d520c"
      },
      "execution_count": null,
      "outputs": [
        {
          "output_type": "stream",
          "name": "stdout",
          "text": [
            "Geeks : 1, Portal : 5.33\n",
            "Total students : 240, Boys : 120\n",
            "    031\n",
            " 3.561E+02\n",
            "We are completing our Honours degree from SUST!\n"
          ]
        }
      ]
    },
    {
      "cell_type": "code",
      "source": [
        "string = \"I love SUST\"\n",
        "\n",
        "# Printing the center aligned string with fillchr\n",
        "# print(\"Center aligned string with fillchr: \")\n",
        "print(string.center(40, '#'))\n",
        "\n",
        "# Printing the left aligned string with \"-\" padding\n",
        "# print(\"The left aligned string is : \")\n",
        "print(string.ljust(40, '-'))\n",
        "\n",
        "# Printing the right aligned string with \"-\" padding\n",
        "# print(\"The right aligned string is : \")\n",
        "print(string.rjust(40, '-'))"
      ],
      "metadata": {
        "colab": {
          "base_uri": "https://localhost:8080/"
        },
        "id": "Eb4a5PwzhpGc",
        "outputId": "b3e15ed5-647b-4560-9649-d7b37a3a45f8"
      },
      "execution_count": null,
      "outputs": [
        {
          "output_type": "stream",
          "name": "stdout",
          "text": [
            "##############I love SUST###############\n",
            "I love SUST-----------------------------\n",
            "-----------------------------I love SUST\n"
          ]
        }
      ]
    },
    {
      "cell_type": "markdown",
      "source": [
        "**Conversion**\n",
        "\n",
        "d: Decimal integer\n",
        "\n",
        "b :Binary format\n",
        "\n",
        "o: octal format\n",
        "\n",
        "x or X: Hexadecimal format\n",
        "\n",
        "e or E: Exponential notation\n",
        "\n",
        "f or F: Floating-point decimal\n",
        "\n",
        "c: Single Character\n",
        "\n",
        "s: String Format(using str()))"
      ],
      "metadata": {
        "id": "IsCA2UjOhy41"
      }
    },
    {
      "cell_type": "markdown",
      "source": [
        "## Numeric data types"
      ],
      "metadata": {
        "id": "IPMd5hJWh3Aw"
      }
    },
    {
      "cell_type": "code",
      "source": [
        "#Numeric Data Types\n",
        "\n",
        "a = 5\n",
        "print(\"Type of a: \", type(a))\n",
        "\n",
        "b = 5.0\n",
        "print(\"\\nType of b: \", type(b))\n",
        "\n",
        "c = 2 + 4j\n",
        "print(\"\\nType of c: \", type(c))"
      ],
      "metadata": {
        "colab": {
          "base_uri": "https://localhost:8080/"
        },
        "id": "ZQvzj6q0h9Ln",
        "outputId": "1ed52a3c-abb8-480f-f00e-fceb8864c419"
      },
      "execution_count": null,
      "outputs": [
        {
          "output_type": "stream",
          "name": "stdout",
          "text": [
            "Type of a:  <class 'int'>\n",
            "\n",
            "Type of b:  <class 'float'>\n",
            "\n",
            "Type of c:  <class 'complex'>\n"
          ]
        }
      ]
    },
    {
      "cell_type": "markdown",
      "source": [
        "## Sequence Data type\n",
        "1. String\n",
        "2. List\n",
        "3. Tupe"
      ],
      "metadata": {
        "id": "Cl3SA3_WiEBC"
      }
    },
    {
      "cell_type": "markdown",
      "metadata": {
        "id": "V2Wlbn5izuIC"
      },
      "source": [
        "### String\n"
      ]
    },
    {
      "cell_type": "code",
      "execution_count": null,
      "metadata": {
        "colab": {
          "base_uri": "https://localhost:8080/"
        },
        "id": "kkJIOgkswh_1",
        "outputId": "11e89469-7801-4007-a3d9-01ef27f487e4"
      },
      "outputs": [
        {
          "name": "stdout",
          "output_type": "stream",
          "text": [
            "Welcome to the Geeks World\n",
            "I'm a Geek\n",
            "<class 'str'>\n",
            "I'm a Geek and I live in a world of \"Geeks\"\n",
            "<class 'str'>\n",
            "This is a linebreak \n",
            " I'm using quote by adding backslash\n",
            "Geeks \n",
            "            For \n",
            "            Life\n"
          ]
        }
      ],
      "source": [
        "#Using single quote\n",
        "String1 = 'Welcome to the Geeks World'\n",
        "print(String1)\n",
        "\n",
        "#Using double quote\n",
        "String1 = \"I'm a Geek\"\n",
        "print(String1)\n",
        "print(type(String1))\n",
        "\n",
        "#Using triple quote\n",
        "String1 = '''I'm a Geek and I live in a world of \"Geeks\"'''\n",
        "print(String1)\n",
        "print(type(String1))\n",
        "\n",
        "String1 = 'This is a linebreak \\n I\\'m using quote by adding backslash'\n",
        "print(String1)\n",
        "\n",
        "String1 = '''Geeks\n",
        "            For\n",
        "            Life'''\n",
        "print(String1)"
      ]
    },
    {
      "cell_type": "code",
      "execution_count": null,
      "metadata": {
        "colab": {
          "base_uri": "https://localhost:8080/"
        },
        "id": "f69un-gBxKl7",
        "outputId": "243372c7-2a86-4d0c-8577-1c20af5ccfa0"
      },
      "outputs": [
        {
          "output_type": "stream",
          "name": "stdout",
          "text": [
            "Introduction to python\n",
            "I\n",
            "d\n",
            "o\n"
          ]
        }
      ],
      "source": [
        "#Access character using index\n",
        "\n",
        "String1 = \"Introduction to python\"\n",
        "print(String1)\n",
        "print(String1[0])\n",
        "print(String1[5])\n",
        "print(String1[10])\n"
      ]
    },
    {
      "cell_type": "code",
      "source": [
        "#Negative index\n",
        "print(String1[-1])\n",
        "print(String1[-2])"
      ],
      "metadata": {
        "colab": {
          "base_uri": "https://localhost:8080/"
        },
        "id": "9oSg1Umv9oHA",
        "outputId": "170898ea-4a2c-42fb-cd98-7f9f1391a6ac"
      },
      "execution_count": null,
      "outputs": [
        {
          "output_type": "stream",
          "name": "stdout",
          "text": [
            "n\n",
            "o\n"
          ]
        }
      ]
    },
    {
      "cell_type": "code",
      "source": [
        "#Slice\n",
        "print(String1[0:5])\n",
        "print(String1[:5])\n",
        "print(String1[5:])"
      ],
      "metadata": {
        "colab": {
          "base_uri": "https://localhost:8080/"
        },
        "id": "1RqY-Pcr9jJ1",
        "outputId": "4b2c82fa-ff8d-4a94-c055-fde1b84fb88a"
      },
      "execution_count": null,
      "outputs": [
        {
          "output_type": "stream",
          "name": "stdout",
          "text": [
            "Intro\n",
            "Intro\n",
            "duction to python\n"
          ]
        }
      ]
    },
    {
      "cell_type": "code",
      "source": [
        "\n",
        "date = \"2024-05-29\"\n",
        "year = date[:4]\n",
        "month = date[5:7]\n",
        "day = date[8:]\n",
        "print(year, month, day)"
      ],
      "metadata": {
        "id": "an2pfmK09lih",
        "colab": {
          "base_uri": "https://localhost:8080/"
        },
        "outputId": "94591568-d8ac-4762-8919-184aeff22734"
      },
      "execution_count": null,
      "outputs": [
        {
          "output_type": "stream",
          "name": "stdout",
          "text": [
            "2024 05 29\n"
          ]
        }
      ]
    },
    {
      "cell_type": "code",
      "execution_count": null,
      "metadata": {
        "colab": {
          "base_uri": "https://localhost:8080/"
        },
        "id": "kSglIVVbyujP",
        "outputId": "40432b0a-eede-4643-be6e-ad497b1c9108"
      },
      "outputs": [
        {
          "name": "stdout",
          "output_type": "stream",
          "text": [
            "introduction\n",
            "introduction to\n",
            "introduction to python!\n",
            "introduction to \n",
            "Welcome to \n"
          ]
        }
      ],
      "source": [
        "#Add to string\n",
        "\n",
        "s = \"introduction\"\n",
        "print(s)\n",
        "s = s + \" to\"\n",
        "print(s)\n",
        "s += \" python!\"\n",
        "print(s)\n",
        "\n",
        "#Removing\n",
        "s = s[:16]\n",
        "print(s)\n",
        "\n",
        "#Replace\n",
        "s = s.replace(\"introduction\", \"Welcome\")\n",
        "print(s)"
      ]
    },
    {
      "cell_type": "markdown",
      "metadata": {
        "id": "mCOgRN831hK3"
      },
      "source": [
        "###List\n",
        "\n",
        "In Python, a list is like a container that holds multiple items in a particular order. Think of it as a shopping list where you can jot down different items you need to buy. Lists are one of the most versatile and fundamental data structures in Python."
      ]
    },
    {
      "cell_type": "code",
      "execution_count": null,
      "metadata": {
        "colab": {
          "base_uri": "https://localhost:8080/"
        },
        "id": "1-kJVzgp0lO6",
        "outputId": "0e1fdc84-4bc7-4a71-b50a-b440927efbc2"
      },
      "outputs": [
        {
          "output_type": "stream",
          "name": "stdout",
          "text": [
            "Full List:  ['mango', 'banana']\n",
            "fruits[0]:  mango\n",
            "fruits[1]:  banana\n"
          ]
        }
      ],
      "source": [
        "fruits = ['mango', 'banana']\n",
        "print(\"Full List: \", fruits)\n",
        "\n",
        "print(\"fruits[0]: \", fruits[0])\n",
        "print(\"fruits[1]: \", fruits[1])\n",
        "# print(\"fruits[2]: \", fruits[2])"
      ]
    },
    {
      "cell_type": "code",
      "source": [
        "#Negative index\n",
        "print(fruits[-1])\n",
        "print(fruits[-2])"
      ],
      "metadata": {
        "colab": {
          "base_uri": "https://localhost:8080/"
        },
        "id": "rCBl_9_D9vVF",
        "outputId": "9397ac00-558f-49cc-c099-d0a408456aab"
      },
      "execution_count": null,
      "outputs": [
        {
          "output_type": "stream",
          "name": "stdout",
          "text": [
            "banana\n",
            "mango\n"
          ]
        }
      ]
    },
    {
      "cell_type": "code",
      "execution_count": null,
      "metadata": {
        "colab": {
          "base_uri": "https://localhost:8080/"
        },
        "id": "zJ13UtsJ1khM",
        "outputId": "b80088b6-ce06-4a76-9d66-21eb98ed7629"
      },
      "outputs": [
        {
          "output_type": "stream",
          "name": "stdout",
          "text": [
            "append apple:  ['mango', 'banana', 'apple']\n",
            "append jackfruit:  ['mango', 'banana', 'apple', 'jackfruit']\n"
          ]
        }
      ],
      "source": [
        "# append\n",
        "fruits.append('apple')\n",
        "print(\"append apple: \", fruits)\n",
        "fruits.append(\"jackfruit\")\n",
        "print(\"append jackfruit: \", fruits)"
      ]
    },
    {
      "cell_type": "code",
      "execution_count": null,
      "metadata": {
        "colab": {
          "base_uri": "https://localhost:8080/"
        },
        "id": "fEMMG0_t2xp3",
        "outputId": "3af75965-58e6-44c9-eae5-d79530aedced"
      },
      "outputs": [
        {
          "output_type": "stream",
          "name": "stdout",
          "text": [
            "insert Orange:  ['mango', 'Orange', 'banana', 'apple', 'jackfruit']\n"
          ]
        }
      ],
      "source": [
        "# insert\n",
        "fruits.insert(1, \"Orange\")\n",
        "print(\"insert Orange: \", fruits)"
      ]
    },
    {
      "cell_type": "code",
      "execution_count": null,
      "metadata": {
        "colab": {
          "base_uri": "https://localhost:8080/"
        },
        "id": "PywxqVWu20gm",
        "outputId": "a0029160-6178-445c-b0a1-b2daa601917c"
      },
      "outputs": [
        {
          "output_type": "stream",
          "name": "stdout",
          "text": [
            "Fruits1 extend fruits2 ['Orange', 'Apple', 'Blueberry', 'Guava', 'Mango']\n",
            "Fruits2:  ['Guava', 'Mango']\n",
            "Fruits1 extend again ['Orange', 'Apple', 'Blueberry', 'Guava', 'Mango', 'Banana', 'Orange']\n"
          ]
        }
      ],
      "source": [
        "#extend\n",
        "fruits1 = [\"Orange\", \"Apple\", \"Blueberry\"]\n",
        "fruits2 = [\"Guava\", \"Mango\"]\n",
        "\n",
        "fruits1.extend(fruits2)\n",
        "print(\"Fruits1 extend fruits2\", fruits1)\n",
        "print(\"Fruits2: \", fruits2)\n",
        "\n",
        "fruits1.extend([\"Banana\", \"Orange\"])\n",
        "print(\"Fruits1 extend again\", fruits1)"
      ]
    },
    {
      "cell_type": "code",
      "source": [
        "print(\"Count Orange:\", fruits1.count(\"Orange\"))\n",
        "print(\"Index of Orange\", fruits1.index(\"Orange\"))\n",
        "print(\"Index of Blueberry\", fruits1.index(\"Blueberry\"))"
      ],
      "metadata": {
        "colab": {
          "base_uri": "https://localhost:8080/"
        },
        "id": "Zdx9-91s8eB-",
        "outputId": "9127ac57-f8ee-4178-80e1-a9ee07b1e950"
      },
      "execution_count": null,
      "outputs": [
        {
          "output_type": "stream",
          "name": "stdout",
          "text": [
            "Count Orange: 2\n",
            "Index of Orange 0\n",
            "Index of Blueberry 2\n"
          ]
        }
      ]
    },
    {
      "cell_type": "code",
      "execution_count": null,
      "metadata": {
        "colab": {
          "base_uri": "https://localhost:8080/",
          "height": 228
        },
        "id": "QFoFvD0h3EtW",
        "outputId": "7d39a401-0f7d-467a-c599-44f7b3362cbf"
      },
      "outputs": [
        {
          "output_type": "stream",
          "name": "stdout",
          "text": [
            "After removing Orange 1st time ['Apple', 'Blueberry', 'Guava', 'Mango', 'Banana', 'Orange']\n",
            "After removing Orange 2nd time ['Apple', 'Blueberry', 'Guava', 'Mango', 'Banana']\n"
          ]
        },
        {
          "output_type": "error",
          "ename": "TypeError",
          "evalue": "list.remove() takes exactly one argument (2 given)",
          "traceback": [
            "\u001b[0;31m---------------------------------------------------------------------------\u001b[0m",
            "\u001b[0;31mTypeError\u001b[0m                                 Traceback (most recent call last)",
            "\u001b[0;32m<ipython-input-35-99a1a5a37972>\u001b[0m in \u001b[0;36m<cell line: 9>\u001b[0;34m()\u001b[0m\n\u001b[1;32m      7\u001b[0m \u001b[0mprint\u001b[0m\u001b[0;34m(\u001b[0m\u001b[0;34m\"After removing Orange 2nd time\"\u001b[0m\u001b[0;34m,\u001b[0m \u001b[0mfruits1\u001b[0m\u001b[0;34m)\u001b[0m\u001b[0;34m\u001b[0m\u001b[0;34m\u001b[0m\u001b[0m\n\u001b[1;32m      8\u001b[0m \u001b[0;34m\u001b[0m\u001b[0m\n\u001b[0;32m----> 9\u001b[0;31m \u001b[0mfruits1\u001b[0m\u001b[0;34m.\u001b[0m\u001b[0mremove\u001b[0m\u001b[0;34m(\u001b[0m\u001b[0;36m1\u001b[0m\u001b[0;34m,\u001b[0m \u001b[0;34m\"\"\u001b[0m\u001b[0;34m)\u001b[0m\u001b[0;34m\u001b[0m\u001b[0;34m\u001b[0m\u001b[0m\n\u001b[0m\u001b[1;32m     10\u001b[0m \u001b[0mprint\u001b[0m\u001b[0;34m(\u001b[0m\u001b[0;34m\"After removing Orange 3rd time\"\u001b[0m\u001b[0;34m,\u001b[0m \u001b[0mfruits1\u001b[0m\u001b[0;34m)\u001b[0m\u001b[0;34m\u001b[0m\u001b[0;34m\u001b[0m\u001b[0m\n",
            "\u001b[0;31mTypeError\u001b[0m: list.remove() takes exactly one argument (2 given)"
          ]
        }
      ],
      "source": [
        "#remove\n",
        "fruits1 = ['Orange', 'Apple', 'Blueberry', 'Guava', 'Mango', 'Banana', 'Orange']\n",
        "fruits1.remove(\"Orange\")\n",
        "print(\"After removing Orange 1st time\", fruits1)\n",
        "\n",
        "fruits1.remove(\"Orange\")\n",
        "print(\"After removing Orange 2nd time\", fruits1)\n",
        "\n",
        "fruits1.remove(\"Orange\")\n",
        "print(\"After removing Orange 3rd time\", fruits1)"
      ]
    },
    {
      "cell_type": "code",
      "execution_count": null,
      "metadata": {
        "colab": {
          "base_uri": "https://localhost:8080/"
        },
        "id": "XtkSlNow3wEB",
        "outputId": "854d8e46-1c8b-4a40-b5a0-2318e0b361b5"
      },
      "outputs": [
        {
          "output_type": "stream",
          "name": "stdout",
          "text": [
            "Fruits pop 1st time ['Apple', 'Blueberry', 'Guava', 'Mango']\n",
            "Fruits pop 2nd time ['Apple', 'Blueberry', 'Guava']\n"
          ]
        }
      ],
      "source": [
        "#pop\n",
        "fruits1.pop()\n",
        "print(\"Fruits pop 1st time\", fruits1)\n",
        "\n",
        "fruits1.pop()\n",
        "print(\"Fruits pop 2nd time\", fruits1)"
      ]
    },
    {
      "cell_type": "code",
      "execution_count": null,
      "metadata": {
        "colab": {
          "base_uri": "https://localhost:8080/"
        },
        "id": "AKQtL-Dd4QGq",
        "outputId": "978a7dfc-32a4-46e1-de19-ab6401b88d8f"
      },
      "outputs": [
        {
          "output_type": "stream",
          "name": "stdout",
          "text": [
            "Delete 0th indexed element ['Blueberry', 'Guava']\n",
            "Delete 0th indexed element ['Blueberry']\n"
          ]
        }
      ],
      "source": [
        "#del\n",
        "del fruits1[0]\n",
        "print(\"Delete 0th indexed element\", fruits1)\n",
        "\n",
        "del fruits1[1]\n",
        "print(\"Delete 1th indexed element\", fruits1)"
      ]
    },
    {
      "cell_type": "code",
      "execution_count": null,
      "metadata": {
        "colab": {
          "base_uri": "https://localhost:8080/"
        },
        "id": "B01Q10g04S-J",
        "outputId": "31bbf5fb-499a-435b-d472-92ac23ec0b78"
      },
      "outputs": [
        {
          "output_type": "stream",
          "name": "stdout",
          "text": [
            "[]\n"
          ]
        }
      ],
      "source": [
        "#clear\n",
        "fruits1.clear()\n",
        "print(fruits1)"
      ]
    },
    {
      "cell_type": "markdown",
      "source": [
        "###Tuples\n",
        "Tuples and list are almost same but Tuples are immutable sequences where list is not. Meaning once a tuple is created, its elements cannot be changed, added, or removed so methods like extend, append, insert, pop, remove aren't possible in tuples"
      ],
      "metadata": {
        "id": "b8UDDKgi82Ay"
      }
    },
    {
      "cell_type": "code",
      "execution_count": null,
      "metadata": {
        "id": "VEnYe9Kq4i3m",
        "colab": {
          "base_uri": "https://localhost:8080/"
        },
        "outputId": "60c107a6-9654-4360-acc0-7bbede62b1ab"
      },
      "outputs": [
        {
          "output_type": "stream",
          "name": "stdout",
          "text": [
            "(1, 2, 3)\n",
            "(1, 2, 3)\n"
          ]
        }
      ],
      "source": [
        "t1 = (1, 2, 3)\n",
        "t2 = 1, 2, 3\n",
        "\n",
        "print(t1)\n",
        "print(t2)\n"
      ]
    },
    {
      "cell_type": "code",
      "source": [
        "t = (1, 2, 3)\n",
        "print(t[0])  # Output: 1\n",
        "print(t[1])  # Output: 2"
      ],
      "metadata": {
        "colab": {
          "base_uri": "https://localhost:8080/"
        },
        "id": "mRauHpx19OWn",
        "outputId": "9566515a-4380-4255-e64f-85fec573a9fe"
      },
      "execution_count": null,
      "outputs": [
        {
          "output_type": "stream",
          "name": "stdout",
          "text": [
            "1\n",
            "2\n"
          ]
        }
      ]
    },
    {
      "cell_type": "code",
      "source": [
        "t = (1, 2, 3)\n",
        "print(t[-1])  # Output: 3\n",
        "print(t[-2])  # Output: 2"
      ],
      "metadata": {
        "colab": {
          "base_uri": "https://localhost:8080/"
        },
        "id": "I_SWymbl9Q9O",
        "outputId": "8743173e-2a9e-4533-fb2c-cd7175ed5889"
      },
      "execution_count": null,
      "outputs": [
        {
          "output_type": "stream",
          "name": "stdout",
          "text": [
            "3\n",
            "2\n"
          ]
        }
      ]
    },
    {
      "cell_type": "code",
      "source": [
        "t = (1, 2, 3, 4, 5)\n",
        "print(t[1:3])   # Output: (2, 3)\n",
        "print(t[:3])    # Output: (1, 2, 3)\n",
        "print(t[3:])    # Output: (4, 5)"
      ],
      "metadata": {
        "colab": {
          "base_uri": "https://localhost:8080/"
        },
        "id": "0_wjYzxd9UFn",
        "outputId": "0d83a085-60c3-40df-e33a-e554ed371986"
      },
      "execution_count": null,
      "outputs": [
        {
          "output_type": "stream",
          "name": "stdout",
          "text": [
            "(2, 3)\n",
            "(1, 2, 3)\n",
            "(4, 5)\n"
          ]
        }
      ]
    },
    {
      "cell_type": "code",
      "source": [
        "t = (1, 2, 3, 4)\n",
        "\n",
        "# Convert to list\n",
        "lst = list(t)\n",
        "\n",
        "# Modify the list\n",
        "lst[1] = 5\n",
        "\n",
        "# Convert back to tuple\n",
        "t = tuple(lst)\n",
        "print(t)  # Output: (1, 5, 3, 4)"
      ],
      "metadata": {
        "colab": {
          "base_uri": "https://localhost:8080/"
        },
        "id": "Roe0MCqz9WBS",
        "outputId": "d9533fc0-ab12-4d7a-c774-c6e5b5b02323"
      },
      "execution_count": null,
      "outputs": [
        {
          "output_type": "stream",
          "name": "stdout",
          "text": [
            "(1, 5, 3, 4)\n"
          ]
        }
      ]
    },
    {
      "cell_type": "code",
      "source": [
        "#count\n",
        "t = (1, 2, 3, 2, 2, 4)\n",
        "print(t.count(2))  # Output: 3"
      ],
      "metadata": {
        "colab": {
          "base_uri": "https://localhost:8080/"
        },
        "id": "8ErG3XPN9ZSV",
        "outputId": "f727dd2a-b76c-4383-ad21-c31f83d47dcd"
      },
      "execution_count": null,
      "outputs": [
        {
          "output_type": "stream",
          "name": "stdout",
          "text": [
            "3\n"
          ]
        }
      ]
    },
    {
      "cell_type": "code",
      "source": [
        "#index\n",
        "t = (1, 2, 3, 2, 4)\n",
        "print(t.index(2))  # Output: 1\n",
        "# print(t.index(5))  # Raises ValueError: tuple.index(x): x not in tuple"
      ],
      "metadata": {
        "colab": {
          "base_uri": "https://localhost:8080/"
        },
        "id": "l4EQwPWw9b4p",
        "outputId": "993cb2a2-ee2f-44cf-f645-89f90d2ebc33"
      },
      "execution_count": null,
      "outputs": [
        {
          "output_type": "stream",
          "name": "stdout",
          "text": [
            "1\n"
          ]
        }
      ]
    },
    {
      "cell_type": "markdown",
      "source": [
        "# Lecture 4"
      ],
      "metadata": {
        "id": "49kwqYtxNGfD"
      }
    },
    {
      "cell_type": "markdown",
      "source": [
        "## Modulus operator (%)\n",
        "The modulus operator works on integers and yields the remainder when the first operand is divided by the second."
      ],
      "metadata": {
        "id": "cCF76MaON_v2"
      }
    },
    {
      "cell_type": "code",
      "source": [
        "quotient = 7/3\n",
        "print(quotient)"
      ],
      "metadata": {
        "colab": {
          "base_uri": "https://localhost:8080/"
        },
        "id": "dLVkKVXHNOlj",
        "outputId": "eb420f51-d367-4b28-cfa0-14f4bb75d753"
      },
      "execution_count": null,
      "outputs": [
        {
          "output_type": "stream",
          "name": "stdout",
          "text": [
            "2.3333333333333335\n"
          ]
        }
      ]
    },
    {
      "cell_type": "code",
      "source": [
        "reminder = 7%3\n",
        "print(reminder)"
      ],
      "metadata": {
        "colab": {
          "base_uri": "https://localhost:8080/"
        },
        "id": "D_yW97X4OO_b",
        "outputId": "f4c2add2-4f0c-4082-9a45-b33544afe1b8"
      },
      "execution_count": null,
      "outputs": [
        {
          "output_type": "stream",
          "name": "stdout",
          "text": [
            "1\n"
          ]
        }
      ]
    },
    {
      "cell_type": "markdown",
      "source": [
        "## Boolean Expression\n",
        "A boolean expression is an expression that is either true or false. The following examples use the operator ==, which compares two operands and produces True if they are equal and False otherwise"
      ],
      "metadata": {
        "id": "ctWdG460Op0R"
      }
    },
    {
      "cell_type": "code",
      "source": [
        "5 == 5"
      ],
      "metadata": {
        "colab": {
          "base_uri": "https://localhost:8080/"
        },
        "id": "4LBegCcDOsC_",
        "outputId": "2b62a320-3a3f-4ff5-f320-b063edf6452d"
      },
      "execution_count": null,
      "outputs": [
        {
          "output_type": "execute_result",
          "data": {
            "text/plain": [
              "True"
            ]
          },
          "metadata": {},
          "execution_count": 24
        }
      ]
    },
    {
      "cell_type": "code",
      "source": [
        "5 == 6"
      ],
      "metadata": {
        "colab": {
          "base_uri": "https://localhost:8080/"
        },
        "id": "r3XrXv-1O3Xx",
        "outputId": "f12eb570-f574-4dfd-b1f8-9e5c3deeb56e"
      },
      "execution_count": null,
      "outputs": [
        {
          "output_type": "execute_result",
          "data": {
            "text/plain": [
              "False"
            ]
          },
          "metadata": {},
          "execution_count": 7
        }
      ]
    },
    {
      "cell_type": "code",
      "source": [
        "type(5==6)"
      ],
      "metadata": {
        "colab": {
          "base_uri": "https://localhost:8080/"
        },
        "id": "PBfp6Iz1O77L",
        "outputId": "b2d5588f-bed1-48f0-a280-454268f554c7"
      },
      "execution_count": null,
      "outputs": [
        {
          "output_type": "execute_result",
          "data": {
            "text/plain": [
              "bool"
            ]
          },
          "metadata": {},
          "execution_count": 27
        }
      ]
    },
    {
      "cell_type": "markdown",
      "source": [
        "### Logical operators\n",
        "There are three logical operators: *and*, *or*, and *not*. The semantics (meaning) of these operators is similar to their meaning in English.\n",
        "For example, x > 0 and x < 10 is true only if x is greater than 0 and less than 10.\n"
      ],
      "metadata": {
        "id": "000erT3LO_lf"
      }
    },
    {
      "cell_type": "code",
      "source": [
        "n = 10\n",
        "a = n % 2 == 0\n",
        "b = n%3 == 0\n",
        "print(a and b)\n",
        "print(n % 2 == 0 or n%3 == 0)"
      ],
      "metadata": {
        "colab": {
          "base_uri": "https://localhost:8080/"
        },
        "id": "EifKpDK3PM5P",
        "outputId": "30770ed7-2747-4ce7-fff9-36356446534d"
      },
      "execution_count": null,
      "outputs": [
        {
          "output_type": "stream",
          "name": "stdout",
          "text": [
            "False\n",
            "True\n"
          ]
        }
      ]
    },
    {
      "cell_type": "code",
      "source": [
        "x, y = 2, 4\n",
        "print(x,y)\n",
        "print(not(x>y))\n",
        "print(x >= y)\n",
        "print(x <= y)"
      ],
      "metadata": {
        "colab": {
          "base_uri": "https://localhost:8080/"
        },
        "id": "wRAGngr6PupA",
        "outputId": "fa1f961e-fe41-417a-9813-fe243258bcef"
      },
      "execution_count": null,
      "outputs": [
        {
          "output_type": "stream",
          "name": "stdout",
          "text": [
            "2 4\n",
            "True\n",
            "False\n",
            "True\n"
          ]
        }
      ]
    },
    {
      "cell_type": "markdown",
      "source": [
        "### Conditional execution\n",
        "we almost always need the ability to check conditions and change the behavior of the program accordingly. Conditional statements give us this ability"
      ],
      "metadata": {
        "id": "tFp40wn4RAH0"
      }
    },
    {
      "cell_type": "code",
      "source": [
        "x = -5\n",
        "if (x > 0):\n",
        "  x = 3\n",
        "  print('x is positive')\n",
        "else:\n",
        "  yv = 6\n",
        "  print('x is either zero or negative')\n",
        "print(yv)\n",
        "print(\"condition check finished\")"
      ],
      "metadata": {
        "colab": {
          "base_uri": "https://localhost:8080/",
          "height": 245
        },
        "id": "PnuW6bpZRssG",
        "outputId": "f3430ac0-d4ef-4642-d2c0-d2c5d596bf1a"
      },
      "execution_count": null,
      "outputs": [
        {
          "output_type": "stream",
          "name": "stdout",
          "text": [
            "x is either zero or negative\n"
          ]
        },
        {
          "output_type": "error",
          "ename": "NameError",
          "evalue": "name 'yw' is not defined",
          "traceback": [
            "\u001b[0;31m---------------------------------------------------------------------------\u001b[0m",
            "\u001b[0;31mNameError\u001b[0m                                 Traceback (most recent call last)",
            "\u001b[0;32m<ipython-input-2-e2d1669b15f6>\u001b[0m in \u001b[0;36m<cell line: 8>\u001b[0;34m()\u001b[0m\n\u001b[1;32m      6\u001b[0m   \u001b[0myv\u001b[0m \u001b[0;34m=\u001b[0m \u001b[0;36m6\u001b[0m\u001b[0;34m\u001b[0m\u001b[0;34m\u001b[0m\u001b[0m\n\u001b[1;32m      7\u001b[0m   \u001b[0mprint\u001b[0m\u001b[0;34m(\u001b[0m\u001b[0;34m'x is either zero or negative'\u001b[0m\u001b[0;34m)\u001b[0m\u001b[0;34m\u001b[0m\u001b[0;34m\u001b[0m\u001b[0m\n\u001b[0;32m----> 8\u001b[0;31m \u001b[0mprint\u001b[0m\u001b[0;34m(\u001b[0m\u001b[0myw\u001b[0m\u001b[0;34m)\u001b[0m\u001b[0;34m\u001b[0m\u001b[0;34m\u001b[0m\u001b[0m\n\u001b[0m\u001b[1;32m      9\u001b[0m \u001b[0mprint\u001b[0m\u001b[0;34m(\u001b[0m\u001b[0;34m\"condition check finished\"\u001b[0m\u001b[0;34m)\u001b[0m\u001b[0;34m\u001b[0m\u001b[0;34m\u001b[0m\u001b[0m\n",
            "\u001b[0;31mNameError\u001b[0m: name 'yw' is not defined"
          ]
        }
      ]
    },
    {
      "cell_type": "code",
      "source": [
        "x, y = 33, 4\n",
        "if x < y:\n",
        "  print(\"x is less than y\")\n",
        "elif x > y:\n",
        "  print(\"x is greater than y\")\n",
        "else:\n",
        "  print(\"both are equal\")"
      ],
      "metadata": {
        "colab": {
          "base_uri": "https://localhost:8080/"
        },
        "id": "3O1AAnUzS_vu",
        "outputId": "b7c91f20-5a0c-404d-c6f2-41ddaf7251f9"
      },
      "execution_count": null,
      "outputs": [
        {
          "output_type": "stream",
          "name": "stdout",
          "text": [
            "x is greater than y\n"
          ]
        }
      ]
    },
    {
      "cell_type": "code",
      "source": [
        "if x == y:\n",
        "  gh = 7\n",
        "  print(\"x and y are equal\")\n",
        "else:\n",
        "  ghh = 7\n",
        "  if (x < y):\n",
        "    a = 7\n",
        "    print (\"x is less than y\")\n",
        "  else:\n",
        "    print (\"x is greater than y\")\n",
        "  print(a)"
      ],
      "metadata": {
        "colab": {
          "base_uri": "https://localhost:8080/"
        },
        "id": "jmG71e3UTFbs",
        "outputId": "93bd6c3a-2052-45ee-d1fd-353932a61282"
      },
      "execution_count": null,
      "outputs": [
        {
          "output_type": "stream",
          "name": "stdout",
          "text": [
            "x is less than y\n"
          ]
        }
      ]
    },
    {
      "cell_type": "code",
      "source": [
        "a = \"abc\"\n",
        "b = \"xyz\"\n",
        "print(a*b)"
      ],
      "metadata": {
        "id": "0CmnlLPXTm4y"
      },
      "execution_count": null,
      "outputs": []
    },
    {
      "cell_type": "code",
      "source": [],
      "metadata": {
        "id": "WB4xDvqQyP3b"
      },
      "execution_count": null,
      "outputs": []
    },
    {
      "cell_type": "markdown",
      "source": [
        "# Lecture 5 (Loops)"
      ],
      "metadata": {
        "id": "hUxjtwnLIjRc"
      }
    },
    {
      "cell_type": "markdown",
      "source": [
        "Loops are fundamental constructs in programming that allow you to execute a block of code multiple times. In Python, there are two primary types of loops: `for` loops and `while` loops."
      ],
      "metadata": {
        "id": "XpSR7dogJ_Fc"
      }
    },
    {
      "cell_type": "markdown",
      "source": [
        "### `For` Loops\n",
        "A for loop is used for iterating over a sequence (such as a list, tuple, string, or range). The basic syntax of a for loop is:\n",
        "![image.png](data:image/png;base64,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)"
      ],
      "metadata": {
        "id": "F4d_w9S1KQ3S"
      }
    },
    {
      "cell_type": "code",
      "source": [
        "#for variable in sequence:\n",
        "    # code block to be executed"
      ],
      "metadata": {
        "colab": {
          "base_uri": "https://localhost:8080/"
        },
        "id": "bQo73X-CKaJS",
        "outputId": "58a6fc5b-3a3b-4f1f-a68c-cb51c689744e"
      },
      "execution_count": null,
      "outputs": [
        {
          "output_type": "stream",
          "name": "stdout",
          "text": [
            "range(0, 10)\n"
          ]
        }
      ]
    },
    {
      "cell_type": "code",
      "source": [
        "# Example 1: Iterating Over a List\n",
        "fruits = [\"apple\", \"banana\", \"cherry\"]\n",
        "for fruit in fruits:\n",
        "    print(fruit)\n",
        "    print(\"loop is done\")\n"
      ],
      "metadata": {
        "colab": {
          "base_uri": "https://localhost:8080/"
        },
        "id": "lfqqT85IKpC6",
        "outputId": "9e3b8820-069b-4fbd-9fab-f658a0b53093"
      },
      "execution_count": null,
      "outputs": [
        {
          "output_type": "stream",
          "name": "stdout",
          "text": [
            "apple\n",
            "loop is done\n",
            "banana\n",
            "loop is done\n",
            "cherry\n",
            "loop is done\n"
          ]
        }
      ]
    },
    {
      "cell_type": "code",
      "source": [
        "# Example 2: Using the range() Function\n",
        "for i in range(10):\n",
        "    print(i)"
      ],
      "metadata": {
        "colab": {
          "base_uri": "https://localhost:8080/"
        },
        "id": "dxa6y6_RKtU0",
        "outputId": "15c41173-cd93-4091-c27d-108086374a74"
      },
      "execution_count": null,
      "outputs": [
        {
          "output_type": "stream",
          "name": "stdout",
          "text": [
            "0\n",
            "1\n",
            "2\n",
            "3\n",
            "4\n"
          ]
        }
      ]
    },
    {
      "cell_type": "code",
      "source": [
        "# Example 3: Looping Through a String\n",
        "for char in \"Python\":\n",
        "    print(char)"
      ],
      "metadata": {
        "colab": {
          "base_uri": "https://localhost:8080/"
        },
        "id": "7ddVjsfvK33j",
        "outputId": "d3105321-9442-4f2d-bb98-9ec5b834ba18"
      },
      "execution_count": null,
      "outputs": [
        {
          "output_type": "stream",
          "name": "stdout",
          "text": [
            "P\n",
            "y\n",
            "t\n",
            "h\n",
            "o\n",
            "n\n"
          ]
        }
      ]
    },
    {
      "cell_type": "code",
      "source": [
        "numbers = [1, 2, 3, 4, 5]\n",
        "total = 0\n",
        "\n",
        "for number in numbers:\n",
        "    total += number\n",
        "\n",
        "print(\"Sum:\", total)"
      ],
      "metadata": {
        "colab": {
          "base_uri": "https://localhost:8080/"
        },
        "id": "BoqKMiuZMIeu",
        "outputId": "4ff8ac02-453a-4ed0-d242-52d52680a6cf"
      },
      "execution_count": null,
      "outputs": [
        {
          "output_type": "stream",
          "name": "stdout",
          "text": [
            "Sum: 15\n"
          ]
        }
      ]
    },
    {
      "cell_type": "code",
      "source": [
        "numbers = [1, 2, 3, 4, 5]\n",
        "even, odd = 0, 0\n",
        "\n",
        "for x in numbers:\n",
        "    if x%2==0:\n",
        "      even+=1\n",
        "    else:\n",
        "      odd+=1\n",
        "\n",
        "print(\"Even:\", even, \" Odd: \", odd)"
      ],
      "metadata": {
        "colab": {
          "base_uri": "https://localhost:8080/"
        },
        "id": "hE9juuxewvAk",
        "outputId": "d8b18492-53cc-4406-8004-8de3e7dd0a4d"
      },
      "execution_count": null,
      "outputs": [
        {
          "output_type": "stream",
          "name": "stdout",
          "text": [
            "Even: 2  Odd:  3\n"
          ]
        }
      ]
    },
    {
      "cell_type": "code",
      "source": [
        "numbers = [3, 5, 2, 8, 1]\n",
        "max_number = numbers[0]\n",
        "second_highest = numbers[0]\n",
        "\n",
        "for number in numbers:\n",
        "    if number > max_number:\n",
        "        max_number = number\n",
        "\n",
        "for number in numbers:\n",
        "        if number > second_highest and number < max_number:\n",
        "            second_highest = number\n",
        "\n",
        "print(\"Maximum value:\", max_number)\n",
        "print(\"Second Highest value:\", second_highest)"
      ],
      "metadata": {
        "colab": {
          "base_uri": "https://localhost:8080/"
        },
        "id": "h7cMOJ0eMMCk",
        "outputId": "b29dcfee-7db7-4324-9674-04bbe921ce4a"
      },
      "execution_count": null,
      "outputs": [
        {
          "output_type": "stream",
          "name": "stdout",
          "text": [
            "Maximum value: 8\n",
            "Second Highest value: 5\n"
          ]
        }
      ]
    },
    {
      "cell_type": "code",
      "source": [
        "for i in range(10, 2, -1):\n",
        "    print(i)"
      ],
      "metadata": {
        "colab": {
          "base_uri": "https://localhost:8080/"
        },
        "id": "t13GGnJVMPmc",
        "outputId": "d99715eb-1cb7-4e9a-c721-64b25e584c68"
      },
      "execution_count": null,
      "outputs": [
        {
          "output_type": "stream",
          "name": "stdout",
          "text": [
            "10\n",
            "9\n",
            "8\n",
            "7\n",
            "6\n",
            "5\n",
            "4\n",
            "3\n"
          ]
        }
      ]
    },
    {
      "cell_type": "code",
      "source": [
        "list_of_lists = [[1, 2, 3], [4, 5, 6], [7, 8, 9]]\n",
        "flat_list = []\n",
        "\n",
        "for sublist in list_of_lists:\n",
        "    for item in sublist:\n",
        "        flat_list.append(item)\n",
        "\n",
        "print(\"Flattened list:\", flat_list)"
      ],
      "metadata": {
        "colab": {
          "base_uri": "https://localhost:8080/"
        },
        "id": "6p-lUOJaM1n0",
        "outputId": "53cdce02-864d-40ae-952e-e152e3193312"
      },
      "execution_count": null,
      "outputs": [
        {
          "output_type": "stream",
          "name": "stdout",
          "text": [
            "Flattened list: [1, 2, 3, 4, 5, 6, 7, 8, 9]\n"
          ]
        }
      ]
    },
    {
      "cell_type": "code",
      "source": [
        "original_string = \"Python\"\n",
        "reversed_string = \"\"\n",
        "\n",
        "for char in original_string:\n",
        "    reversed_string = char + reversed_string\n",
        "\n",
        "print(\"Reversed string:\", reversed_string)"
      ],
      "metadata": {
        "colab": {
          "base_uri": "https://localhost:8080/"
        },
        "id": "egkT3nv9McvG",
        "outputId": "062149d6-a85f-4385-e660-267aaf524da6"
      },
      "execution_count": null,
      "outputs": [
        {
          "output_type": "stream",
          "name": "stdout",
          "text": [
            "Reversed string: nohtyP\n"
          ]
        }
      ]
    },
    {
      "cell_type": "code",
      "source": [
        "squares = [x**2 for x in range(1, 11)]\n",
        "print(squares)"
      ],
      "metadata": {
        "colab": {
          "base_uri": "https://localhost:8080/"
        },
        "id": "uiJHh_5fMiIO",
        "outputId": "cc22c12a-6f31-4527-dbf8-c302b8903292"
      },
      "execution_count": null,
      "outputs": [
        {
          "output_type": "stream",
          "name": "stdout",
          "text": [
            "[1, 4, 9, 16, 25, 36, 49, 64, 81, 100]\n"
          ]
        }
      ]
    },
    {
      "cell_type": "code",
      "source": [
        "### While Loops\n"
      ],
      "metadata": {
        "id": "NVnJ2xZ9LLbc"
      },
      "execution_count": null,
      "outputs": []
    },
    {
      "cell_type": "markdown",
      "source": [
        "A while loop repeatedly executes a block of code as long as a specified condition is True. The basic syntax of a while loop is:"
      ],
      "metadata": {
        "id": "Tl128bSwLQch"
      }
    },
    {
      "cell_type": "code",
      "source": [
        "#while condition:\n",
        "    # code block to be executed"
      ],
      "metadata": {
        "id": "eAnxKqoDLRdG"
      },
      "execution_count": null,
      "outputs": []
    },
    {
      "cell_type": "code",
      "source": [
        "# Example 1: Basic While Loop\n",
        "count = 0\n",
        "while count < 5:\n",
        "    print(count)\n",
        "    count += 1"
      ],
      "metadata": {
        "colab": {
          "base_uri": "https://localhost:8080/"
        },
        "id": "2jDv2fXCLUW-",
        "outputId": "a514dc12-59ae-4ac8-9b2e-1075a6835d14"
      },
      "execution_count": null,
      "outputs": [
        {
          "output_type": "stream",
          "name": "stdout",
          "text": [
            "0\n",
            "1\n",
            "2\n",
            "3\n",
            "4\n"
          ]
        }
      ]
    },
    {
      "cell_type": "code",
      "source": [
        "x = int(input(\"How many number you want to input: \"))\n",
        "cnt = 0\n",
        "lis = []\n",
        "while cnt < x:\n",
        "  a = int(input(\"Enter the number: \"))\n",
        "  lis.append(a)\n",
        "  cnt += 1\n",
        "\n",
        "print(lis)"
      ],
      "metadata": {
        "colab": {
          "base_uri": "https://localhost:8080/"
        },
        "id": "mS2uWRHAdZJG",
        "outputId": "e5b41260-69e8-4a56-eda1-793adab66e64"
      },
      "execution_count": null,
      "outputs": [
        {
          "output_type": "stream",
          "name": "stdout",
          "text": [
            "How many number you want to input: 3\n",
            "Enter the number: 1\n",
            "Enter the number: 2\n",
            "Enter the number: 3\n",
            "[1, 2, 3]\n"
          ]
        }
      ]
    },
    {
      "cell_type": "markdown",
      "source": [
        "### break and continue"
      ],
      "metadata": {
        "id": "8l88qohzLh5M"
      }
    },
    {
      "cell_type": "markdown",
      "source": [
        "break statement: Exits the loop prematurely.\n",
        "break statement: Exits the loop prematurely."
      ],
      "metadata": {
        "id": "gZ2xjUDHLk8u"
      }
    },
    {
      "cell_type": "code",
      "source": [
        "# using break\n",
        "for num in range(10):\n",
        "    if num == 5:\n",
        "        break\n",
        "    print(num)"
      ],
      "metadata": {
        "colab": {
          "base_uri": "https://localhost:8080/"
        },
        "id": "wqgXWRCCLrHq",
        "outputId": "81d6e3d6-b1c8-42b9-e6ae-2f339de34016"
      },
      "execution_count": null,
      "outputs": [
        {
          "output_type": "stream",
          "name": "stdout",
          "text": [
            "0\n",
            "1\n",
            "2\n",
            "3\n",
            "4\n"
          ]
        }
      ]
    },
    {
      "cell_type": "code",
      "source": [
        "# Using continue\n",
        "for num in range(10):\n",
        "    if num % 2 == 0:\n",
        "        continue\n",
        "    print(num)"
      ],
      "metadata": {
        "colab": {
          "base_uri": "https://localhost:8080/"
        },
        "id": "_G6YkcQ_Lux8",
        "outputId": "ec853705-a765-4726-b031-cede29382537"
      },
      "execution_count": null,
      "outputs": [
        {
          "output_type": "stream",
          "name": "stdout",
          "text": [
            "1\n",
            "3\n",
            "5\n",
            "7\n",
            "9\n"
          ]
        }
      ]
    },
    {
      "cell_type": "markdown",
      "source": [
        "### Nested loop\n",
        "Loops can be nested within other loops. This is useful for working with multi-dimensional data structures, such as lists of lists."
      ],
      "metadata": {
        "id": "6QNT-BC3L0b3"
      }
    },
    {
      "cell_type": "code",
      "source": [
        "for i in range(3):\n",
        "    for j in range(2):\n",
        "        print(f\"i: {i}, j: {j}\")"
      ],
      "metadata": {
        "colab": {
          "base_uri": "https://localhost:8080/"
        },
        "id": "lNzLGAmLL5z6",
        "outputId": "6a785358-56f0-4ffd-e06c-601e8ef1c7c2"
      },
      "execution_count": null,
      "outputs": [
        {
          "output_type": "stream",
          "name": "stdout",
          "text": [
            "i: 0, j: 0\n",
            "i: 0, j: 1\n",
            "i: 1, j: 0\n",
            "i: 1, j: 1\n",
            "i: 2, j: 0\n",
            "i: 2, j: 1\n"
          ]
        }
      ]
    },
    {
      "cell_type": "code",
      "source": [
        "for i in range(1, 6):\n",
        "    for j in range(1, 6):\n",
        "        print(f\"{i} * {j} = {i * j}\", end=\"\\t\")\n",
        "    print()"
      ],
      "metadata": {
        "colab": {
          "base_uri": "https://localhost:8080/"
        },
        "id": "TB2jbsOFMovE",
        "outputId": "8e718f9b-631c-4044-c11c-df1a09514ac5"
      },
      "execution_count": null,
      "outputs": [
        {
          "output_type": "stream",
          "name": "stdout",
          "text": [
            "1 * 1 = 1\t1 * 2 = 2\t1 * 3 = 3\t1 * 4 = 4\t1 * 5 = 5\t\n",
            "2 * 1 = 2\t2 * 2 = 4\t2 * 3 = 6\t2 * 4 = 8\t2 * 5 = 10\t\n",
            "3 * 1 = 3\t3 * 2 = 6\t3 * 3 = 9\t3 * 4 = 12\t3 * 5 = 15\t\n",
            "4 * 1 = 4\t4 * 2 = 8\t4 * 3 = 12\t4 * 4 = 16\t4 * 5 = 20\t\n",
            "5 * 1 = 5\t5 * 2 = 10\t5 * 3 = 15\t5 * 4 = 20\t5 * 5 = 25\t\n"
          ]
        }
      ]
    },
    {
      "cell_type": "markdown",
      "source": [
        "# Lecture 6"
      ],
      "metadata": {
        "id": "zrTEkrHhZpHc"
      }
    },
    {
      "cell_type": "markdown",
      "source": [
        "### Dictionary\n",
        "Dictionary is a built-in data type used to store collections of key-value pairs. Each key in a dictionary is unique and immutable (such as a string, number, or tuple with immutable elements), while values can be of any data type and can be duplicated."
      ],
      "metadata": {
        "id": "b0_C3o-0ZrAy"
      }
    },
    {
      "cell_type": "code",
      "source": [
        "# Creating a dictionary\n",
        "my_dict = {\n",
        "    'name': 'Alice',\n",
        "    'age': 25,\n",
        "    'city': 'New York',\n",
        "}"
      ],
      "metadata": {
        "id": "2FHyGLcFZyAO"
      },
      "execution_count": null,
      "outputs": []
    },
    {
      "cell_type": "code",
      "source": [
        "# Creating a dictionary using the dict constructor\n",
        "my_dict = dict(name='Alice', age=25, city='New York')"
      ],
      "metadata": {
        "id": "La06579oZ067"
      },
      "execution_count": null,
      "outputs": []
    },
    {
      "cell_type": "code",
      "source": [
        "# Accessing a value\n",
        "name = my_dict['Name']\n",
        "print(name)  # Output: Alice"
      ],
      "metadata": {
        "colab": {
          "base_uri": "https://localhost:8080/",
          "height": 176
        },
        "id": "9EATm4LuZ3aU",
        "outputId": "bb867317-2589-4e37-a9f7-b672ec21eff8"
      },
      "execution_count": null,
      "outputs": [
        {
          "output_type": "error",
          "ename": "KeyError",
          "evalue": "'Name'",
          "traceback": [
            "\u001b[0;31m---------------------------------------------------------------------------\u001b[0m",
            "\u001b[0;31mKeyError\u001b[0m                                  Traceback (most recent call last)",
            "\u001b[0;32m<ipython-input-2-0e4047202208>\u001b[0m in \u001b[0;36m<cell line: 2>\u001b[0;34m()\u001b[0m\n\u001b[1;32m      1\u001b[0m \u001b[0;31m# Accessing a value\u001b[0m\u001b[0;34m\u001b[0m\u001b[0;34m\u001b[0m\u001b[0m\n\u001b[0;32m----> 2\u001b[0;31m \u001b[0mname\u001b[0m \u001b[0;34m=\u001b[0m \u001b[0mmy_dict\u001b[0m\u001b[0;34m[\u001b[0m\u001b[0;34m'Name'\u001b[0m\u001b[0;34m]\u001b[0m\u001b[0;34m\u001b[0m\u001b[0;34m\u001b[0m\u001b[0m\n\u001b[0m\u001b[1;32m      3\u001b[0m \u001b[0mprint\u001b[0m\u001b[0;34m(\u001b[0m\u001b[0mname\u001b[0m\u001b[0;34m)\u001b[0m  \u001b[0;31m# Output: Alice\u001b[0m\u001b[0;34m\u001b[0m\u001b[0;34m\u001b[0m\u001b[0m\n",
            "\u001b[0;31mKeyError\u001b[0m: 'Name'"
          ]
        }
      ]
    },
    {
      "cell_type": "code",
      "source": [
        "# Your first ever python program! :3 Congratulations!!!\n",
        "print('Hello World')"
      ],
      "metadata": {
        "colab": {
          "base_uri": "https://localhost:8080/"
        },
        "id": "Pv2Vo35bV_Xi",
        "outputId": "b4364337-725d-4de8-8f0c-dcc4184c78a4"
      },
      "execution_count": null,
      "outputs": [
        {
          "output_type": "stream",
          "name": "stdout",
          "text": [
            "Hello World\n"
          ]
        }
      ]
    },
    {
      "cell_type": "code",
      "source": [
        "# Accessing a value safely\n",
        "name = my_dict.get('Name')\n",
        "print(name)  # Output: Alice\n",
        "\n",
        "# Using a default value if key is not found\n",
        "country = my_dict.get('country', 'USA')\n",
        "print(country)  # Output: USA"
      ],
      "metadata": {
        "colab": {
          "base_uri": "https://localhost:8080/"
        },
        "id": "1qEuI0PSZ_Yc",
        "outputId": "17c3223b-d2fa-49a6-8d01-960b471813e2"
      },
      "execution_count": null,
      "outputs": [
        {
          "output_type": "stream",
          "name": "stdout",
          "text": [
            "None\n",
            "USA\n"
          ]
        }
      ]
    },
    {
      "cell_type": "code",
      "source": [
        "# Modifying a value\n",
        "my_dict['age'] = 26\n",
        "print(my_dict['age'])"
      ],
      "metadata": {
        "colab": {
          "base_uri": "https://localhost:8080/"
        },
        "id": "Myi9zr3VaGED",
        "outputId": "01fa6766-f0db-4c80-bcff-863fc17085e3"
      },
      "execution_count": null,
      "outputs": [
        {
          "output_type": "stream",
          "name": "stdout",
          "text": [
            "26\n"
          ]
        }
      ]
    },
    {
      "cell_type": "code",
      "source": [
        "# Adding a new key-value pair\n",
        "print(my_dict)\n",
        "my_dict['email'] = 'alice@example.com'\n",
        "print(my_dict)"
      ],
      "metadata": {
        "colab": {
          "base_uri": "https://localhost:8080/"
        },
        "id": "78VN8RNqaIJ7",
        "outputId": "61a73fb1-6ea5-4a00-82ba-498fae7ab4bb"
      },
      "execution_count": null,
      "outputs": [
        {
          "output_type": "stream",
          "name": "stdout",
          "text": [
            "{'name': 'Alice', 'age': 25, 'city': 'New York'}\n",
            "{'name': 'Alice', 'age': 25, 'city': 'New York', 'email': 'alice@example.com'}\n"
          ]
        }
      ]
    },
    {
      "cell_type": "code",
      "source": [
        "# Removing a key-value pair using del\n",
        "del my_dict['city']\n",
        "print(my_dict)\n",
        "\n",
        "# Removing a key-value pair using pop\n",
        "age = my_dict.pop('age')\n",
        "print(age)  # Output: 26\n",
        "print(my_dict)"
      ],
      "metadata": {
        "colab": {
          "base_uri": "https://localhost:8080/"
        },
        "id": "omDYMYt7aKpF",
        "outputId": "99f07673-8cfc-4a6f-c75f-6b18061d7f0a"
      },
      "execution_count": null,
      "outputs": [
        {
          "output_type": "stream",
          "name": "stdout",
          "text": [
            "{'name': 'Alice', 'age': 25, 'email': 'alice@example.com'}\n",
            "25\n",
            "{'name': 'Alice', 'email': 'alice@example.com'}\n"
          ]
        }
      ]
    },
    {
      "cell_type": "markdown",
      "source": [
        "###Dictionary Methods\n",
        "Here are some useful dictionary methods:\n",
        "* **keys()**: Returns a view object containing the dictionary's keys.\n",
        "* **values()**: Returns a view object containing the dictionary's values.\n",
        "* **items()**: Returns a view object containing the dictionary's key-value pairs.\n",
        "* **update()**: Updates the dictionary with key-value pairs from another dictionary or an iterable of key-value pairs."
      ],
      "metadata": {
        "id": "rtOPJBdyaO9W"
      }
    },
    {
      "cell_type": "code",
      "source": [
        "# Dictionary methods\n",
        "keys = my_dict.keys()\n",
        "print(keys)  # Output: dict_keys(['name', 'email'])\n",
        "\n",
        "values = my_dict.values()\n",
        "print(values)  # Output: dict_values(['Alice', 'alice@example.com'])\n",
        "\n",
        "items = my_dict.items()\n",
        "print(items)  # Output: dict_items([('name', 'Alice'), ('email', 'alice@example.com')])\n",
        "\n",
        "# Updating the dictionary\n",
        "my_dict.update({'city': 'Los Angeles', 'phone': '123-456-7890'})\n",
        "print(my_dict)"
      ],
      "metadata": {
        "colab": {
          "base_uri": "https://localhost:8080/"
        },
        "id": "HgxCGTO0aTgP",
        "outputId": "6edcbbfd-c987-4e62-f73e-4c59883a4ad4"
      },
      "execution_count": null,
      "outputs": [
        {
          "output_type": "stream",
          "name": "stdout",
          "text": [
            "dict_keys(['name', 'email'])\n",
            "dict_values(['Alice', 'alice@example.com'])\n",
            "dict_items([('name', 'Alice'), ('email', 'alice@example.com')])\n",
            "{'name': 'Alice', 'email': 'alice@example.com', 'city': 'Los Angeles', 'phone': '123-456-7890'}\n"
          ]
        }
      ]
    },
    {
      "cell_type": "code",
      "source": [
        "# Iterating over keys\n",
        "for key in my_dict:\n",
        "    print(key, my_dict[key])\n",
        "\n",
        "# Iterating over values\n",
        "for value in my_dict.values():\n",
        "    print(value)\n",
        "\n",
        "# Iterating over key-value pairs\n",
        "for key, value in my_dict.items():\n",
        "    print(key, value)"
      ],
      "metadata": {
        "colab": {
          "base_uri": "https://localhost:8080/"
        },
        "id": "Yl6zhcp3abF5",
        "outputId": "86de329b-58db-4d1d-b1b2-dfea20a671d9"
      },
      "execution_count": null,
      "outputs": [
        {
          "output_type": "stream",
          "name": "stdout",
          "text": [
            "name Alice\n",
            "email alice@example.com\n",
            "city Los Angeles\n",
            "phone 123-456-7890\n",
            "Alice\n",
            "alice@example.com\n",
            "Los Angeles\n",
            "123-456-7890\n",
            "name Alice\n",
            "email alice@example.com\n",
            "city Los Angeles\n",
            "phone 123-456-7890\n"
          ]
        }
      ]
    },
    {
      "cell_type": "code",
      "source": [
        "#Full example\n",
        "\n",
        "# Create a dictionary\n",
        "person = {\n",
        "    'name': 'Bob',\n",
        "    'age': 30,\n",
        "    'job': 'Engineer',\n",
        "}\n",
        "\n",
        "# Access a value\n",
        "print(person['name'])  # Output: Bob\n",
        "\n",
        "# Modify a value\n",
        "person['age'] = 31\n",
        "\n",
        "# Add a new key-value pair\n",
        "person['email'] = 'bob@example.com'\n",
        "\n",
        "# Remove a key-value pair\n",
        "del person['job']\n",
        "\n",
        "# Print the dictionary\n",
        "print(person)\n",
        "\n",
        "# Using dictionary methods\n",
        "print(person.keys())    # Output: dict_keys(['name', 'age', 'email'])\n",
        "print(person.values())  # Output: dict_values(['Bob', 31, 'bob@example.com'])\n",
        "print(person.items())   # Output: dict_items([('name', 'Bob'), ('age', 31), ('email', 'bob@example.com')])\n",
        "\n",
        "lis = [3, 5, 7]\n",
        "for x in lis:\n",
        "  print(x)\n",
        "\n",
        "# Iterating over dictionary\n",
        "for a, b in person.items():\n",
        "    print(a, b)\n",
        "\n",
        "for pair in person.items():\n",
        "    print(pair[0], pair[1])"
      ],
      "metadata": {
        "colab": {
          "base_uri": "https://localhost:8080/"
        },
        "id": "AwEa89NGae1y",
        "outputId": "6c8d1d02-51dc-4f92-c9f0-3bcfa536d0a8"
      },
      "execution_count": null,
      "outputs": [
        {
          "output_type": "stream",
          "name": "stdout",
          "text": [
            "Bob\n",
            "{'name': 'Bob', 'age': 31, 'email': 'bob@example.com'}\n",
            "dict_keys(['name', 'age', 'email'])\n",
            "dict_values(['Bob', 31, 'bob@example.com'])\n",
            "dict_items([('name', 'Bob'), ('age', 31), ('email', 'bob@example.com')])\n",
            "name Bob\n",
            "age 31\n",
            "email bob@example.com\n",
            "name Bob\n",
            "age 31\n",
            "email bob@example.com\n"
          ]
        }
      ]
    },
    {
      "cell_type": "code",
      "source": [
        "## counting values in a list\n",
        "lis = [1, 2, 3, 4, 4, 6, 8, 0, 10]\n",
        "count_dict = {}\n",
        "for num in lis:\n",
        "  existing_count = count_dict.get(num)\n",
        "  if (existing_count == None):\n",
        "    count_dict[num] = 0\n",
        "  count_dict[num] += 1\n",
        "\n",
        "for key, value in count_dict.items():\n",
        "  print(key, value)"
      ],
      "metadata": {
        "colab": {
          "base_uri": "https://localhost:8080/"
        },
        "id": "w-YlSKHfeaI9",
        "outputId": "f0160b41-aa26-4f51-9486-f08047876dab"
      },
      "execution_count": null,
      "outputs": [
        {
          "output_type": "stream",
          "name": "stdout",
          "text": [
            "1 1\n",
            "2 1\n",
            "3 1\n",
            "4 2\n",
            "6 1\n",
            "8 1\n",
            "0 1\n",
            "10 1\n"
          ]
        }
      ]
    },
    {
      "cell_type": "markdown",
      "source": [
        "##Set\n",
        "In Python, a set is an unordered collection of unique elements. Sets are useful when you want to eliminate duplicate values from a list or when you need to perform mathematical set operations like union, intersection, and difference."
      ],
      "metadata": {
        "id": "FUKSP-YkajCz"
      }
    },
    {
      "cell_type": "code",
      "source": [
        "# Creating a set with curly braces\n",
        "my_set = {1, 2, 3, 4, 5, 4, 5}\n",
        "print(my_set)  # Output: {1, 2, 3, 4, 5}\n",
        "\n",
        "# Creating a set from a list using the set function\n",
        "lis = [1, 2, 3, 4, 5]\n",
        "my_set = set(lis)\n",
        "print(my_set)  # Output: {1, 2, 3, 4, 5}\n",
        "\n",
        "# Creating a set from a string\n",
        "my_set = set('helloas')\n",
        "print(my_set)  # Output: {'e', 'h', 'l', 'o'}"
      ],
      "metadata": {
        "colab": {
          "base_uri": "https://localhost:8080/"
        },
        "id": "1OyAHCUWakc4",
        "outputId": "f04cf4d2-1049-4535-a155-47a5edc2ee7c"
      },
      "execution_count": null,
      "outputs": [
        {
          "output_type": "stream",
          "name": "stdout",
          "text": [
            "{1, 2, 3, 4, 5}\n",
            "{1, 2, 3, 4, 5}\n",
            "{'e', 'o', 'l', 's', 'h', 'a'}\n"
          ]
        }
      ]
    },
    {
      "cell_type": "code",
      "source": [
        "# Adding a single element\n",
        "my_set = {1, 2, 3}\n",
        "my_set.add(4)\n",
        "print(my_set)  # Output: {1, 2, 3, 4}\n",
        "\n",
        "# Adding multiple elements\n",
        "my_set.update([5, 6, 7])\n",
        "print(my_set)  # Output: {1, 2, 3, 4, 5, 6, 7}"
      ],
      "metadata": {
        "colab": {
          "base_uri": "https://localhost:8080/"
        },
        "id": "rRdy-TvGan6i",
        "outputId": "7ce95556-f711-4fbe-f2dd-81afe3a06c54"
      },
      "execution_count": null,
      "outputs": [
        {
          "output_type": "stream",
          "name": "stdout",
          "text": [
            "{1, 2, 3, 4}\n",
            "{1, 2, 3, 4, 5, 6, 7}\n"
          ]
        }
      ]
    },
    {
      "cell_type": "code",
      "source": [
        "# Removing an element\n",
        "my_set = {1, 2, 3, 4}\n",
        "my_set.remove(3)\n",
        "print(my_set)  # Output: {1, 2, 4}\n",
        "\n",
        "# Removing an element that doesn't exist using discard (no error)\n",
        "my_set.discard(5)\n",
        "print(my_set)  # Output: {1, 2, 4}"
      ],
      "metadata": {
        "colab": {
          "base_uri": "https://localhost:8080/"
        },
        "id": "uG-JmvPpaqZl",
        "outputId": "ae1d8a19-6e4f-40ea-8e8e-e4a6d3bf68b5"
      },
      "execution_count": null,
      "outputs": [
        {
          "output_type": "stream",
          "name": "stdout",
          "text": [
            "{1, 2, 4}\n",
            "{1, 2, 4}\n"
          ]
        }
      ]
    },
    {
      "cell_type": "code",
      "source": [
        "# Clearing a set\n",
        "my_set = {1, 2, 3, 4}\n",
        "my_set.clear()\n",
        "print(my_set)  # Output: set()"
      ],
      "metadata": {
        "colab": {
          "base_uri": "https://localhost:8080/"
        },
        "id": "5Q79Z4MJauBG",
        "outputId": "6717d33e-3536-49a7-b7e5-738d64c36ffe"
      },
      "execution_count": null,
      "outputs": [
        {
          "output_type": "stream",
          "name": "stdout",
          "text": [
            "set()\n"
          ]
        }
      ]
    },
    {
      "cell_type": "markdown",
      "source": [
        "### Set Operations"
      ],
      "metadata": {
        "id": "tartD8ovavmI"
      }
    },
    {
      "cell_type": "code",
      "source": [
        "# Creating sets\n",
        "set_a = {1, 2, 3}\n",
        "set_b = {3, 4, 5}\n",
        "\n",
        "# Union\n",
        "union_set = set_a.union(set_b)\n",
        "print(union_set)  # Output: {1, 2, 3, 4, 5}\n",
        "\n",
        "# Intersection\n",
        "intersection_set = set_a.intersection(set_b)\n",
        "print(intersection_set)  # Output: {3}\n",
        "\n",
        "# Difference\n",
        "difference_set = set_a.difference(set_b)\n",
        "print(difference_set)  # Output: {1, 2}\n",
        "\n",
        "# Symmetric Difference\n",
        "symmetric_difference_set = set_a.symmetric_difference(set_b)\n",
        "print(symmetric_difference_set)  # Output: {1, 2, 4, 5}"
      ],
      "metadata": {
        "colab": {
          "base_uri": "https://localhost:8080/"
        },
        "id": "mg_uMwRlaz2i",
        "outputId": "0840c095-fd0c-4a21-de2b-9b6ca5949ca5"
      },
      "execution_count": null,
      "outputs": [
        {
          "output_type": "stream",
          "name": "stdout",
          "text": [
            "{1, 2, 3, 4, 5}\n",
            "{3}\n",
            "{1, 2}\n",
            "{1, 2, 4, 5}\n"
          ]
        }
      ]
    },
    {
      "cell_type": "markdown",
      "source": [
        "### Set Comparisons"
      ],
      "metadata": {
        "id": "w4qA3vLkbAWD"
      }
    },
    {
      "cell_type": "code",
      "source": [
        "# Subset\n",
        "set_a = {1, 2, 3}\n",
        "set_b = {1, 2}\n",
        "print(set_b.issubset(set_a))  # Output: True\n",
        "\n",
        "# Superset\n",
        "print(set_a.issuperset(set_b))  # Output: True\n",
        "\n",
        "# Equality\n",
        "set_c = {1, 2, 3}\n",
        "print(set_a == set_c)  # Output: True"
      ],
      "metadata": {
        "colab": {
          "base_uri": "https://localhost:8080/"
        },
        "id": "kNsIOJXUbCrU",
        "outputId": "937ceb39-17c8-43bd-87da-2d04d0a6ed48"
      },
      "execution_count": null,
      "outputs": [
        {
          "output_type": "stream",
          "name": "stdout",
          "text": [
            "True\n",
            "True\n",
            "True\n"
          ]
        }
      ]
    },
    {
      "cell_type": "code",
      "source": [
        "# Iterating over a set\n",
        "my_set = {1, 2, 3, 4, 5, 4, 3}\n",
        "for element in my_set:\n",
        "    print(element)"
      ],
      "metadata": {
        "colab": {
          "base_uri": "https://localhost:8080/"
        },
        "id": "THoNIQZKbFsS",
        "outputId": "a94dd852-46ca-40c2-f4af-0dcda263acdb"
      },
      "execution_count": null,
      "outputs": [
        {
          "output_type": "stream",
          "name": "stdout",
          "text": [
            "1\n",
            "2\n",
            "3\n",
            "4\n",
            "5\n"
          ]
        }
      ]
    },
    {
      "cell_type": "code",
      "source": [
        "# Full Example\n",
        "\n",
        "# Create sets\n",
        "set1 = {1, 2, 3, 4}\n",
        "set2 = {3, 4, 5, 6}\n",
        "\n",
        "# Add elements\n",
        "set1.add(7)\n",
        "set1.update([8, 9])\n",
        "\n",
        "# Remove elements\n",
        "set1.remove(9)\n",
        "set1.discard(10)  # No error if 10 is not in the set\n",
        "\n",
        "# Union, Intersection, Difference, Symmetric Difference\n",
        "union_set = set1.union(set2)\n",
        "intersection_set = set1.intersection(set2)\n",
        "difference_set = set1.difference(set2)\n",
        "sym_diff_set = set1.symmetric_difference(set2)\n",
        "\n",
        "# Subset, Superset, Equality\n",
        "is_subset = set2.issubset(set1)\n",
        "is_superset = set1.issuperset(set2)\n",
        "is_equal = set1 == set2\n",
        "\n",
        "# Print results\n",
        "print(\"Set1:\", set1)\n",
        "print(\"Set2:\", set2)\n",
        "print(\"Union:\", union_set)\n",
        "print(\"Intersection:\", intersection_set)\n",
        "print(\"Difference:\", difference_set)\n",
        "print(\"Symmetric Difference:\", sym_diff_set)\n",
        "print(\"Is Subset:\", is_subset)\n",
        "print(\"Is Superset:\", is_superset)\n",
        "print(\"Is Equal:\", is_equal)\n",
        "\n",
        "# Iterate over set\n",
        "for element in set1:\n",
        "    print(element)"
      ],
      "metadata": {
        "colab": {
          "base_uri": "https://localhost:8080/"
        },
        "id": "vz2U1OV_bMJl",
        "outputId": "b6ec9e09-94a2-452c-8931-4c297d18b831"
      },
      "execution_count": null,
      "outputs": [
        {
          "output_type": "stream",
          "name": "stdout",
          "text": [
            "Set1: {1, 2, 3, 4, 7, 8}\n",
            "Set2: {3, 4, 5, 6}\n",
            "Union: {1, 2, 3, 4, 5, 6, 7, 8}\n",
            "Intersection: {3, 4}\n",
            "Difference: {8, 1, 2, 7}\n",
            "Symmetric Difference: {1, 2, 5, 6, 7, 8}\n",
            "Is Subset: False\n",
            "Is Superset: False\n",
            "Is Equal: False\n",
            "1\n",
            "2\n",
            "3\n",
            "4\n",
            "7\n",
            "8\n"
          ]
        }
      ]
    },
    {
      "cell_type": "markdown",
      "source": [
        "# Functions\n"
      ],
      "metadata": {
        "id": "Y8TRI9sN8Kyk"
      }
    },
    {
      "cell_type": "markdown",
      "source": [
        "A function is a block of code which only runs when it is called.\n",
        "\n",
        "You can pass data, known as parameters, into a function.\n",
        "\n",
        "A function can return data as a result.\n",
        "\n",
        "Look at the following doc for further details: https://www.w3schools.com/python/python_functions.asp"
      ],
      "metadata": {
        "id": "bZlSxsx68UcW"
      }
    },
    {
      "cell_type": "code",
      "source": [
        "def my_function():\n",
        "  print(\"Hello from a function\")"
      ],
      "metadata": {
        "id": "YxBqV5eg8Rs2"
      },
      "execution_count": null,
      "outputs": []
    },
    {
      "cell_type": "code",
      "source": [
        "print(\"test before function\")\n",
        "\n",
        "def my_function():\n",
        "  if False:\n",
        "    print(\"Hello from a false function\")\n",
        "  print(x)\n",
        "  print(\"Hello from a function\")\n",
        "  print(\"Hello from a function\")\n",
        "\n",
        "print(\"Before calling the function\")\n",
        "x = 5\n",
        "my_function()"
      ],
      "metadata": {
        "colab": {
          "base_uri": "https://localhost:8080/"
        },
        "id": "-ADctFIA8Ybh",
        "outputId": "9b4f932a-8083-4c0b-a2a5-e80c96257e16"
      },
      "execution_count": null,
      "outputs": [
        {
          "output_type": "stream",
          "name": "stdout",
          "text": [
            "test before function\n",
            "Before calling the function\n",
            "Hello from a function\n",
            "Hello from a function\n"
          ]
        }
      ]
    },
    {
      "cell_type": "code",
      "source": [
        "def my_function():\n",
        "  print(\"Hello from a function\")\n",
        "\n",
        "  print(\"Before calling the function\")\n",
        "\n",
        "my_function()"
      ],
      "metadata": {
        "colab": {
          "base_uri": "https://localhost:8080/"
        },
        "id": "itbDAY0C8gvx",
        "outputId": "3f7b4cff-9d55-429a-c283-560700cc9138"
      },
      "execution_count": null,
      "outputs": [
        {
          "output_type": "stream",
          "name": "stdout",
          "text": [
            "Hello from a function\n",
            "Before calling the function\n"
          ]
        }
      ]
    },
    {
      "cell_type": "code",
      "source": [
        "def isEven(a):\n",
        "  if a % 3 == 0:\n",
        "    print(\"Even\")\n",
        "  else:\n",
        "    print(\"Odd\")\n",
        "\n",
        "numbers = [3, 7, 8, 9, 10]\n",
        "numbers_2 = [5, 7, 7, 9, 0]\n",
        "\n",
        "for num in numbers:\n",
        "  isEven(num)\n",
        "\n",
        "for num in numbers_2:\n",
        "  isEven(num)"
      ],
      "metadata": {
        "colab": {
          "base_uri": "https://localhost:8080/"
        },
        "id": "_ZYTAg7RN5Hq",
        "outputId": "a9f7eedc-2090-414d-d4ce-351b0508b32e"
      },
      "execution_count": null,
      "outputs": [
        {
          "output_type": "stream",
          "name": "stdout",
          "text": [
            "Even\n",
            "Odd\n",
            "Odd\n",
            "Even\n",
            "Odd\n",
            "Odd\n",
            "Odd\n",
            "Odd\n",
            "Even\n",
            "Even\n"
          ]
        }
      ]
    },
    {
      "cell_type": "code",
      "source": [
        "#Arguments: Information can be passed into functions as arguments.\n",
        "\n",
        "def printName(name):\n",
        "  print(f\"Name is {name}\")\n",
        "\n",
        "name = input()\n",
        "printName(name)\n",
        "printName(\"Karim\")\n",
        "printName(\"Shakib\")"
      ],
      "metadata": {
        "colab": {
          "base_uri": "https://localhost:8080/"
        },
        "id": "TUkGFeKl8k5_",
        "outputId": "98b808cc-810f-4ca5-a359-11156b2793fd"
      },
      "execution_count": null,
      "outputs": [
        {
          "output_type": "stream",
          "name": "stdout",
          "text": [
            "test\n",
            "Name is test\n",
            "Name is Karim\n",
            "Name is Shakib\n"
          ]
        }
      ]
    },
    {
      "cell_type": "code",
      "source": [
        "def add(a, b):\n",
        "  print(f\"Sum of {a} and {b} is {a+b}\")\n",
        "\n",
        "add(4,5)\n",
        "add(24523,23455234)"
      ],
      "metadata": {
        "colab": {
          "base_uri": "https://localhost:8080/"
        },
        "id": "F-eSix8S8qZl",
        "outputId": "197b00d1-7b36-4976-9e1f-58508e2d3f94"
      },
      "execution_count": null,
      "outputs": [
        {
          "output_type": "stream",
          "name": "stdout",
          "text": [
            "Sum of 4 and 5 is 9\n",
            "Sum of 24523 and 23455234 is 23479757\n"
          ]
        }
      ]
    },
    {
      "cell_type": "code",
      "source": [
        "#Invalid number of parameter pass\n",
        "def add(a, b):\n",
        "  print(f\"Sum of {a} and {b} is {a+b}\")\n",
        "\n",
        "add(4,5,7)"
      ],
      "metadata": {
        "colab": {
          "base_uri": "https://localhost:8080/",
          "height": 176
        },
        "id": "EiloO_5h8s_6",
        "outputId": "39dda1eb-8ceb-45be-a340-954bb2c6dd12"
      },
      "execution_count": null,
      "outputs": [
        {
          "output_type": "error",
          "ename": "TypeError",
          "evalue": "add() takes 2 positional arguments but 3 were given",
          "traceback": [
            "\u001b[0;31m---------------------------------------------------------------------------\u001b[0m",
            "\u001b[0;31mTypeError\u001b[0m                                 Traceback (most recent call last)",
            "\u001b[0;32m<ipython-input-5-81f44d594376>\u001b[0m in \u001b[0;36m<cell line: 5>\u001b[0;34m()\u001b[0m\n\u001b[1;32m      3\u001b[0m   \u001b[0mprint\u001b[0m\u001b[0;34m(\u001b[0m\u001b[0;34mf\"Sum of {a} and {b} is {a+b}\"\u001b[0m\u001b[0;34m)\u001b[0m\u001b[0;34m\u001b[0m\u001b[0;34m\u001b[0m\u001b[0m\n\u001b[1;32m      4\u001b[0m \u001b[0;34m\u001b[0m\u001b[0m\n\u001b[0;32m----> 5\u001b[0;31m \u001b[0madd\u001b[0m\u001b[0;34m(\u001b[0m\u001b[0;36m4\u001b[0m\u001b[0;34m,\u001b[0m\u001b[0;36m5\u001b[0m\u001b[0;34m,\u001b[0m\u001b[0;36m7\u001b[0m\u001b[0;34m)\u001b[0m\u001b[0;34m\u001b[0m\u001b[0;34m\u001b[0m\u001b[0m\n\u001b[0m",
            "\u001b[0;31mTypeError\u001b[0m: add() takes 2 positional arguments but 3 were given"
          ]
        }
      ]
    },
    {
      "cell_type": "code",
      "source": [
        "#Return from function\n",
        "\n",
        "def centimeterToInch(cm):\n",
        "  inch = cm * .393701\n",
        "  # print(inch)\n",
        "  return (inch, \"kjahsdjkh\")\n",
        "\n",
        "centimeterToInch(10)\n",
        "a = [7, 8 , 9]\n",
        "cm_10 = centimeterToInch(10)\n",
        "print(f\"10 centimeter is equal to {cm_10} inch\")\n",
        "print(f\"15 centimeter is equal to {centimeterToInch(15)} inch\")"
      ],
      "metadata": {
        "colab": {
          "base_uri": "https://localhost:8080/"
        },
        "id": "yJiAOWzK8vH3",
        "outputId": "b58eb60d-de4c-42e3-86b6-c51f2af63657"
      },
      "execution_count": null,
      "outputs": [
        {
          "output_type": "stream",
          "name": "stdout",
          "text": [
            "10 centimeter is equal to (3.9370100000000003, 'kjahsdjkh') inch\n",
            "15 centimeter is equal to (5.905515, 'kjahsdjkh') inch\n"
          ]
        }
      ]
    },
    {
      "cell_type": "code",
      "source": [],
      "metadata": {
        "id": "FyKQSNEpmLUS"
      },
      "execution_count": null,
      "outputs": []
    },
    {
      "cell_type": "code",
      "source": [
        "def details(name, age, dob, nationality):\n",
        "  a = {\n",
        "      \"Name\": name,\n",
        "      \"Age\": age,\n",
        "      \"Date of Birth\": dob,\n",
        "      \"Birth Year\": dob[:4],\n",
        "      \"Birth Month\": dob[5:7],\n",
        "      \"Birth Date\": dob[8:],\n",
        "      \"Nationality\": nationality\n",
        "  }\n",
        "  return a\n",
        "\n",
        "a = 6\n",
        "b = a\n",
        "\n",
        "personal_details = details(\"Mr. Z\", 36, \"1987-04-23\", \"Bangladeshi\")\n",
        "print(personal_details.items())"
      ],
      "metadata": {
        "colab": {
          "base_uri": "https://localhost:8080/"
        },
        "id": "dttrdxPS8y8_",
        "outputId": "b67dad7c-eb0c-4ce5-ab52-b1066fbb4f31"
      },
      "execution_count": null,
      "outputs": [
        {
          "output_type": "stream",
          "name": "stdout",
          "text": [
            "dict_items([('Name', 'Mr. Z'), ('Age', 36), ('Date of Birth', '1987-04-23'), ('Birth Year', '1987'), ('Birth Month', '04'), ('Birth Date', '23'), ('Nationality', 'Bangladeshi')])\n"
          ]
        }
      ]
    },
    {
      "cell_type": "code",
      "source": [
        "# Packing arguments\n",
        "def pack(*args):\n",
        "  print(type(args))\n",
        "  print(args)\n",
        "\n",
        "pack()  # Output: (1, 2, 3, 4)\n",
        "pack(1, 2, 3)  # Output: (1, 2, 3)"
      ],
      "metadata": {
        "colab": {
          "base_uri": "https://localhost:8080/"
        },
        "id": "3s9XDZWb82h_",
        "outputId": "6ea26f23-ac89-4aaf-a6b0-e9cfadc09da9"
      },
      "execution_count": null,
      "outputs": [
        {
          "output_type": "stream",
          "name": "stdout",
          "text": [
            "<class 'tuple'>\n",
            "()\n",
            "<class 'tuple'>\n",
            "(1, 2, 3)\n"
          ]
        }
      ]
    },
    {
      "cell_type": "code",
      "source": [
        "#Packaging arguments\n",
        "def details(*args):\n",
        "  return {\n",
        "      \"Name\": args[0],\n",
        "      \"Age\": args[1],\n",
        "      \"Date of Birth\": args[2],\n",
        "      \"Birth Year\": args[2][:4],\n",
        "      \"Birth Month\": args[2][5:7],\n",
        "      \"Birth Date\": args[2][8:],\n",
        "      \"Nationality\": args[3]\n",
        "  }\n",
        "\n",
        "MrZ = details(\"Mr. Z\", 36, \"1987-04-23\", \"Bangladeshi\")\n",
        "MrZ['Name'] = \"abc\"\n",
        "print(MrZ)"
      ],
      "metadata": {
        "colab": {
          "base_uri": "https://localhost:8080/"
        },
        "id": "0LkjTfSA84-D",
        "outputId": "07e765b0-fe6d-4ffa-b3af-4cccc70356b4"
      },
      "execution_count": null,
      "outputs": [
        {
          "output_type": "stream",
          "name": "stdout",
          "text": [
            "{'Name': 'Mr. Z', 'Age': 36, 'Date of Birth': '1987-04-23', 'Birth Year': '1987', 'Birth Month': '04', 'Birth Date': '23', 'Nationality': 'Bangladeshi'}\n"
          ]
        }
      ]
    },
    {
      "cell_type": "code",
      "source": [
        "def details(*args):\n",
        "  return {\n",
        "      \"Name\": args[0],\n",
        "      \"Age\": args[1],\n",
        "      \"Date of Birth\": args[2],\n",
        "      \"Birth Year\": args[2][:4],\n",
        "      \"Birth Month\": args[2][5:7],\n",
        "      \"Birth Date\": args[2][8:],\n",
        "      \"Nationality\": args[3]\n",
        "  }\n",
        "\n",
        "MrZ = details(\"Mr. Z\", 36, \"1987-04-23\", \"Bangladeshi\")\n",
        "print(MrZ)"
      ],
      "metadata": {
        "colab": {
          "base_uri": "https://localhost:8080/"
        },
        "id": "u8pKcPUWj26x",
        "outputId": "23359012-d036-427f-840a-7e4fced8690f"
      },
      "execution_count": null,
      "outputs": [
        {
          "output_type": "stream",
          "name": "stdout",
          "text": [
            "{'Name': 'Mr. Z', 'Age': 36, 'Date of Birth': '1987-04-23', 'Birth Year': '1987', 'Birth Month': '04', 'Birth Date': '23', 'Nationality': 'Bangladeshi'}\n"
          ]
        }
      ]
    },
    {
      "cell_type": "code",
      "source": [
        "#Unpackaging arguments\n",
        "def unpack(a, b, c):\n",
        "    print(a, b, c)\n",
        "\n",
        "my_tuple = (1, 2, 3)\n",
        "unpack(*my_tuple)  # Output: 1 2 3"
      ],
      "metadata": {
        "colab": {
          "base_uri": "https://localhost:8080/"
        },
        "id": "oWClh_0N87nB",
        "outputId": "ff8ae1c4-a82a-4d13-9ab1-54a6f60163c8"
      },
      "execution_count": null,
      "outputs": [
        {
          "output_type": "stream",
          "name": "stdout",
          "text": [
            "1 2 3\n"
          ]
        }
      ]
    },
    {
      "cell_type": "code",
      "source": [
        "#Unpackaging arguments\n",
        "def unpack(a, b, c):\n",
        "    print(a, b, c)\n",
        "\n",
        "my_tuple = (1, 2, 3, 4)\n",
        "unpack(*my_tuple)  # Output: 1 2 3"
      ],
      "metadata": {
        "colab": {
          "base_uri": "https://localhost:8080/",
          "height": 176
        },
        "id": "bCGO91Wz8-dW",
        "outputId": "c4b9a063-ff42-489e-ef10-bae184e44d20"
      },
      "execution_count": null,
      "outputs": [
        {
          "output_type": "error",
          "ename": "TypeError",
          "evalue": "unpack() takes 3 positional arguments but 4 were given",
          "traceback": [
            "\u001b[0;31m---------------------------------------------------------------------------\u001b[0m",
            "\u001b[0;31mTypeError\u001b[0m                                 Traceback (most recent call last)",
            "\u001b[0;32m<ipython-input-11-2b764cf22cad>\u001b[0m in \u001b[0;36m<cell line: 6>\u001b[0;34m()\u001b[0m\n\u001b[1;32m      4\u001b[0m \u001b[0;34m\u001b[0m\u001b[0m\n\u001b[1;32m      5\u001b[0m \u001b[0mmy_tuple\u001b[0m \u001b[0;34m=\u001b[0m \u001b[0;34m(\u001b[0m\u001b[0;36m1\u001b[0m\u001b[0;34m,\u001b[0m \u001b[0;36m2\u001b[0m\u001b[0;34m,\u001b[0m \u001b[0;36m3\u001b[0m\u001b[0;34m,\u001b[0m \u001b[0;36m4\u001b[0m\u001b[0;34m)\u001b[0m\u001b[0;34m\u001b[0m\u001b[0;34m\u001b[0m\u001b[0m\n\u001b[0;32m----> 6\u001b[0;31m \u001b[0munpack\u001b[0m\u001b[0;34m(\u001b[0m\u001b[0;34m*\u001b[0m\u001b[0mmy_tuple\u001b[0m\u001b[0;34m)\u001b[0m  \u001b[0;31m# Output: 1 2 3\u001b[0m\u001b[0;34m\u001b[0m\u001b[0;34m\u001b[0m\u001b[0m\n\u001b[0m",
            "\u001b[0;31mTypeError\u001b[0m: unpack() takes 3 positional arguments but 4 were given"
          ]
        }
      ]
    },
    {
      "cell_type": "code",
      "source": [
        "def details(name, age, dob, nationality):\n",
        "  return {\n",
        "      \"Name\": name,\n",
        "      \"Age\": age,\n",
        "      \"Date of Birth\": dob,\n",
        "      \"Birth Year\": dob[:4],\n",
        "      \"Birth Month\": dob[5:7],\n",
        "      \"Birth Date\": dob[8:],\n",
        "      \"Nationality\": nationality\n",
        "  }\n",
        "\n",
        "arg = (\"Mr. Z\", 36, \"1987-04-23\", \"Bangladeshi\")\n",
        "MrZ = details(*arg)\n",
        "\n",
        "print(MrZ)"
      ],
      "metadata": {
        "colab": {
          "base_uri": "https://localhost:8080/"
        },
        "id": "hNaDA-Yr9Deb",
        "outputId": "9bcfe061-3596-4087-a971-4759be89385c"
      },
      "execution_count": null,
      "outputs": [
        {
          "output_type": "stream",
          "name": "stdout",
          "text": [
            "{'Name': 'Mr. Z', 'Age': 36}\n"
          ]
        }
      ]
    },
    {
      "cell_type": "markdown",
      "source": [
        "# Ternary Operator"
      ],
      "metadata": {
        "id": "Q-lqMUsl9FKx"
      }
    },
    {
      "cell_type": "code",
      "source": [
        "number = 10\n",
        "if(number % 2 == 0):\n",
        "  result = \"Even\"\n",
        "else:\n",
        "  result = \"Odd\"\n",
        "\n",
        "resul1 = \"Even\" if number % 2 == 0 else \"Odd\"\n",
        "\n",
        "print(result)"
      ],
      "metadata": {
        "colab": {
          "base_uri": "https://localhost:8080/"
        },
        "id": "s_9Wlmwe9Nkz",
        "outputId": "8e50edd1-4c1e-4157-e432-fd03753b6874"
      },
      "execution_count": null,
      "outputs": [
        {
          "output_type": "stream",
          "name": "stdout",
          "text": [
            "Even\n"
          ]
        }
      ]
    },
    {
      "cell_type": "code",
      "source": [
        "def get_status(is_active):\n",
        "    return \"Active\" if is_active else \"Inactive\"\n",
        "\n",
        "status = get_status(True)\n",
        "print(status)\n",
        "# Output: Active"
      ],
      "metadata": {
        "colab": {
          "base_uri": "https://localhost:8080/"
        },
        "id": "1ZYEgIpH9PrJ",
        "outputId": "86acf652-133d-4418-bf99-7f3e4e052af2"
      },
      "execution_count": null,
      "outputs": [
        {
          "output_type": "stream",
          "name": "stdout",
          "text": [
            "Active\n"
          ]
        }
      ]
    },
    {
      "cell_type": "code",
      "source": [
        "i = 11\n",
        "if i != 10:\n",
        "  print(\"Not equal to 10\")"
      ],
      "metadata": {
        "colab": {
          "base_uri": "https://localhost:8080/"
        },
        "id": "D6e-OXef9Txo",
        "outputId": "7bdc0e71-2a80-4f55-d7bb-c41db64616d6"
      },
      "execution_count": null,
      "outputs": [
        {
          "output_type": "stream",
          "name": "stdout",
          "text": [
            "Not equal to 10\n"
          ]
        }
      ]
    },
    {
      "cell_type": "markdown",
      "source": [
        "###Quiz\n",
        "\n",
        "1. Take two integer input from user. Write a function to recieve two parameter and return a list containing those 2 numbers in increasing order. From the main method, print out the list returned from the function.\n",
        "\n",
        " Ex.   \n",
        "         input 6 3\n",
        "         output: [3, 6]\n",
        "\n",
        "2. Take two string input from user. Write a function to recieve two parameter and return a dictionary in where the key value is as shown in the example. The dictionary will contain the string and its length. From the main method, print out the whole dictionary returned from the function.\n",
        " Ex.   \n",
        "         input \"Australia\" \"China\"\n",
        "         output:\n",
        "         [\n",
        "            {\n",
        "              string: \"China\",\n",
        "              length: 5\n",
        "            },\n",
        "            {\n",
        "              string: \"Australia\",\n",
        "              length: 9\n",
        "            }\n",
        "          ]\n",
        "\n",
        "2. Take three integer input from user. Write a function to recieve three parameter and in the function insert them in a list in increasing order and return that. From the main method, print out the list returned from the function.\n",
        "\n",
        " Ex.   \n",
        "         input 6 9 3\n",
        "         output: [3,6,9]\n"
      ],
      "metadata": {
        "id": "WI-CmAsWzmuf"
      }
    },
    {
      "cell_type": "code",
      "source": [
        "# Q1\n",
        "a = int(input())\n",
        "b = int(input())\n",
        "\n",
        "lis = []\n",
        "\n",
        "if a > b:\n",
        "  lis.append(b)\n",
        "  lis.append(a)\n",
        "else:\n",
        "  lis.append(a)\n",
        "  lis.append(b)\n",
        "\n",
        "print(lis)"
      ],
      "metadata": {
        "id": "nWxMo4PLjVzb"
      },
      "execution_count": null,
      "outputs": []
    },
    {
      "cell_type": "code",
      "source": [
        "#q2\n",
        "first = input()\n",
        "second = input()\n",
        "\n",
        "first_dict = dict(string = first, length = len(first))\n",
        "\n",
        "second_dict = {\n",
        "    \"string\" : second,\n",
        "    \"length\" : len(second)\n",
        "}\n",
        "\n",
        "dict_list = []\n",
        "\n",
        "if first_dict[\"length\"] > second_dict[\"length\"]:\n",
        "  dict_list.append(second_dict)\n",
        "  dict_list.append(first_dict)\n",
        "else:\n",
        "  dict_list.append(first_dict)\n",
        "  dict_list.append(second_dict)\n",
        "\n",
        "print(dict_list)"
      ],
      "metadata": {
        "colab": {
          "base_uri": "https://localhost:8080/"
        },
        "id": "RhiPDQ9QkwSi",
        "outputId": "6e675f8a-1bc2-4270-8b43-ca3308021f39"
      },
      "execution_count": null,
      "outputs": [
        {
          "output_type": "stream",
          "name": "stdout",
          "text": [
            "asdkfa\n",
            "lakjsdlkfasdf\n",
            "[{'string': 'asdkfa', 'length': 6}, {'string': 'lakjsdlkfasdf', 'length': 13}]\n"
          ]
        }
      ]
    },
    {
      "cell_type": "markdown",
      "source": [
        "### Difference between is and =="
      ],
      "metadata": {
        "id": "AH-P7RUxcnZC"
      }
    },
    {
      "cell_type": "code",
      "source": [
        "a = 10\n",
        "b = 10\n",
        "\n",
        "print(a == b)  # True because their values are the same\n",
        "print(a is b)  # True because small integers are cached by Python, so they refer to the same object"
      ],
      "metadata": {
        "colab": {
          "base_uri": "https://localhost:8080/"
        },
        "id": "RKmckB8nd_P_",
        "outputId": "022599c7-dbed-498c-ef06-14847a348e62"
      },
      "execution_count": null,
      "outputs": [
        {
          "output_type": "stream",
          "name": "stdout",
          "text": [
            "True\n",
            "True\n"
          ]
        }
      ]
    },
    {
      "cell_type": "code",
      "source": [
        "list1 = [1, 2, 3]\n",
        "list2 = [1, 2, 3]\n",
        "\n",
        "print(list1 == list2)  # True because their contents are the same\n",
        "print(list1 is list2)  # False because they are different objects in memory\n",
        "\n",
        "list3 = list1\n",
        "print(list1 is list3)  # True because list3 is assigned the same reference as list1"
      ],
      "metadata": {
        "colab": {
          "base_uri": "https://localhost:8080/"
        },
        "id": "jjSLYmz5eDQ-",
        "outputId": "2fa25b0f-6840-437c-8ec3-75b85c1cf3f0"
      },
      "execution_count": null,
      "outputs": [
        {
          "output_type": "stream",
          "name": "stdout",
          "text": [
            "True\n",
            "False\n",
            "True\n"
          ]
        }
      ]
    },
    {
      "cell_type": "code",
      "source": [
        "str1 = \"hello\"\n",
        "str2 = \"hello\"\n",
        "\n",
        "print(str1 == str2)  # True because their values are the same\n",
        "print(str1 is str2)  # True because of string interning in Python, they refer to the same object/"
      ],
      "metadata": {
        "colab": {
          "base_uri": "https://localhost:8080/"
        },
        "id": "2B8wOpT2eGiZ",
        "outputId": "db94827b-1447-4231-cf81-2b790f09232e"
      },
      "execution_count": null,
      "outputs": [
        {
          "output_type": "stream",
          "name": "stdout",
          "text": [
            "True\n",
            "True\n"
          ]
        }
      ]
    },
    {
      "cell_type": "markdown",
      "source": [
        "### in, not in, is, is not"
      ],
      "metadata": {
        "id": "i9iMlKxSeLDa"
      }
    },
    {
      "cell_type": "code",
      "source": [
        "# in\n",
        "# List example\n",
        "my_list = [1, 2, 3, 4, 5]\n",
        "print(3 in my_list)  # Output: True\n",
        "print(6 in my_list)  # Output: False\n",
        "\n",
        "# String example\n",
        "my_string = \"hello world\"\n",
        "print(\"hello\" in my_string)  # Output: True\n",
        "print(\"bye\" in my_string)    # Output: False\n",
        "\n",
        "# Dictionary example (checks keys)\n",
        "my_dict = {\"name\": \"Alice\", \"age\": 25}\n",
        "print(\"name\" in my_dict)  # Output: True\n",
        "print(\"Alice\" in my_dict) # Output: False\n"
      ],
      "metadata": {
        "colab": {
          "base_uri": "https://localhost:8080/"
        },
        "id": "3p2vsKXteMEy",
        "outputId": "a5c11e7b-790b-47fd-9f67-c7d27488f9cc"
      },
      "execution_count": null,
      "outputs": [
        {
          "output_type": "stream",
          "name": "stdout",
          "text": [
            "True\n",
            "False\n",
            "True\n",
            "False\n",
            "True\n",
            "False\n"
          ]
        }
      ]
    },
    {
      "cell_type": "code",
      "source": [
        "#not in\n",
        "# List example\n",
        "my_list = [1, 2, 3, 4, 5]\n",
        "print(3 not in my_list)  # Output: False\n",
        "print(6 not in my_list)  # Output: True\n",
        "\n",
        "# String example\n",
        "my_string = \"hello world\"\n",
        "print(\"hello\" not in my_string)  # Output: False\n",
        "print(\"bye\" not in my_string)    # Output: True\n",
        "\n",
        "# Dictionary example (checks keys)\n",
        "my_dict = {\"name\": \"Alice\", \"age\": 25}\n",
        "print(\"name\" not in my_dict)  # Output: False\n",
        "print(\"Alice\" not in my_dict) # Output: True"
      ],
      "metadata": {
        "colab": {
          "base_uri": "https://localhost:8080/"
        },
        "id": "zXKr9Y3weTaG",
        "outputId": "a1584753-8f1a-4b43-a285-8c6cea67a5e8"
      },
      "execution_count": null,
      "outputs": [
        {
          "output_type": "stream",
          "name": "stdout",
          "text": [
            "False\n",
            "True\n",
            "False\n",
            "True\n",
            "False\n",
            "True\n"
          ]
        }
      ]
    },
    {
      "cell_type": "code",
      "source": [
        "#is\n",
        "a = [1, 2, 3]\n",
        "b = a\n",
        "c = [1, 2, 3]\n",
        "\n",
        "print(a is b)  # Output: True (both point to the same object)\n",
        "print(a is c)  # Output: False (different objects with same content)\n",
        "\n",
        "x = 5\n",
        "y = 5\n",
        "print(x is y)  # Output: True (small integers are cached in Python)\n",
        "\n",
        "# String example\n",
        "str1 = \"hello\"\n",
        "str2 = \"hello\"\n",
        "print(str1 is str2)  # Output: True (string literals are cached)\n"
      ],
      "metadata": {
        "colab": {
          "base_uri": "https://localhost:8080/"
        },
        "id": "EvPOJCPUeWW5",
        "outputId": "c3667f05-6ba9-4d21-d8ec-40b155c8f3c6"
      },
      "execution_count": null,
      "outputs": [
        {
          "output_type": "stream",
          "name": "stdout",
          "text": [
            "True\n",
            "False\n",
            "True\n",
            "True\n"
          ]
        }
      ]
    },
    {
      "cell_type": "code",
      "source": [
        "#is not\n",
        "a = [1, 2, 3]\n",
        "b = a\n",
        "c = [1, 2, 3]\n",
        "\n",
        "print(a is not b)  # Output: False (both point to the same object)\n",
        "print(a is not c)  # Output: True (different objects with same content)\n",
        "\n",
        "x = 5\n",
        "y = 10\n",
        "print(x is not y)  # Output: True (different objects)\n",
        "\n",
        "# String example\n",
        "str1 = \"hello\"\n",
        "str2 = \"world\"\n",
        "print(str1 is not str2)  # Output: True (different string literals)\n"
      ],
      "metadata": {
        "colab": {
          "base_uri": "https://localhost:8080/"
        },
        "id": "djXZr08JeY_H",
        "outputId": "3117e84a-b085-4b5e-bdec-5cd4ee31bd99"
      },
      "execution_count": null,
      "outputs": [
        {
          "output_type": "stream",
          "name": "stdout",
          "text": [
            "False\n",
            "True\n",
            "True\n",
            "True\n"
          ]
        }
      ]
    },
    {
      "cell_type": "code",
      "source": [
        "lis = [1, 2, 3, 4, 5, 6, 7, 8, 9, 10]\n",
        "container = {\n",
        "    2: 0,\n",
        "    3: 0,\n",
        "    4: 0\n",
        "}\n",
        "for num in lis:\n",
        "  if num % 2 == 0:\n",
        "    container[2] += 1\n",
        "  if num % 3 == 0:\n",
        "    container[3] += 1\n",
        "  if num % 4 == 0:\n",
        "    container[4] += 1\n",
        "\n",
        "for (num, count) in container.items():\n",
        "  print(num, count)"
      ],
      "metadata": {
        "colab": {
          "base_uri": "https://localhost:8080/"
        },
        "id": "7zju5znayDiQ",
        "outputId": "f9429aa4-3c0e-4d89-a9f5-00e176f046ce"
      },
      "execution_count": null,
      "outputs": [
        {
          "output_type": "stream",
          "name": "stdout",
          "text": [
            "2 5\n",
            "3 3\n",
            "4 2\n"
          ]
        }
      ]
    },
    {
      "cell_type": "markdown",
      "source": [
        "# Practice Problem"
      ],
      "metadata": {
        "id": "XBR-52yLS3Fz"
      }
    },
    {
      "cell_type": "markdown",
      "source": [
        "### Problem 01:\n",
        "You are given a list of daily temperatures for a week. Write a program to find the average temperature for the week and print it. Also, determine the highest and lowest temperatures recorded during the week."
      ],
      "metadata": {
        "id": "56pu5p_ZS4Og"
      }
    },
    {
      "cell_type": "code",
      "source": [
        "temperatures = [13, 14.5, 20, 25, 10.0, 11.0, 30.5]\n",
        "\n",
        "total_temp = 0.0\n",
        "length = 0\n",
        "\n",
        "min_temp, max_temp = temperatures[0], temperatures[0]\n",
        "\n",
        "for temp in temperatures:\n",
        "\n",
        "  total_temp = total_temp + temp\n",
        "  length = length + 1\n",
        "\n",
        "  if min_temp > temp:\n",
        "    min_temp = temp\n",
        "\n",
        "  if max_temp < temp:\n",
        "    max_temp = temp\n",
        "\n",
        "average = total_temp / length\n",
        "print(f\"average Temp: {average}, min: {min_temp}, max: {max_temp}\")"
      ],
      "metadata": {
        "colab": {
          "base_uri": "https://localhost:8080/"
        },
        "id": "N5lf6jBy8PdH",
        "outputId": "2f145c59-bc54-4498-806d-3d830568891b"
      },
      "execution_count": null,
      "outputs": [
        {
          "output_type": "stream",
          "name": "stdout",
          "text": [
            "average Temp: 17.714285714285715, min: 10.0, max: 30.5\n"
          ]
        }
      ]
    },
    {
      "cell_type": "markdown",
      "source": [
        "### Problem 02\n",
        "You have two sets of email addresses: one from a newsletter signup form and another from a purchase form on your website. Write a program to find and print the email addresses that appear in both sets."
      ],
      "metadata": {
        "id": "sEblSVJkS-WW"
      }
    },
    {
      "cell_type": "code",
      "source": [
        "signup_emails = [\"abc@gmail.com\", \"cde@gmail.com\", \"def@gmail.com\"]\n",
        "website_emails = [\"abc@gmail.com\", \"ghi@gmail.com\", \"jkl@gmail.com\"]\n",
        "\n",
        "common_emails = []\n",
        "\n",
        "# print(signup_emails.intersection(website_emails))\n",
        "for signup_email in signup_emails:\n",
        "\n",
        "  for website_email in website_emails:\n",
        "\n",
        "    if signup_email == website_email:\n",
        "      common_emails.append(signup_email)\n",
        "      break\n",
        "\n",
        "print(common_emails)"
      ],
      "metadata": {
        "colab": {
          "base_uri": "https://localhost:8080/"
        },
        "id": "EUbhWTM4EB-u",
        "outputId": "4ad26fb9-90ba-4552-9223-c656460c0d1c"
      },
      "execution_count": null,
      "outputs": [
        {
          "output_type": "stream",
          "name": "stdout",
          "text": [
            "['abc@gmail.com']\n"
          ]
        }
      ]
    },
    {
      "cell_type": "markdown",
      "source": [
        "### Problem 03\n",
        "You are organizing a coding competition. Write a program that takes a list of participants, where each participant is represented by a dictionary with keys \"name\" and \"score\". Calculate the average score and print a congratulatory message for participants who scored above the average."
      ],
      "metadata": {
        "id": "kEHNTL6ETARW"
      }
    },
    {
      "cell_type": "code",
      "source": [
        "def make_dictionary(name, score):\n",
        "  return dict(name=name, score = score)\n",
        "\n",
        "first_participant_name = input()\n",
        "first_participant_score = float(input())\n",
        "second_participant_name = input()\n",
        "second_participant_score = float(input())\n",
        "third_participant_name = input()\n",
        "third_participant_score = float(input())\n",
        "\n",
        "first_person = make_dictionary(first_participant_name, first_participant_score)\n",
        "second_person = make_dictionary(second_participant_name, second_participant_score)\n",
        "third_person = make_dictionary(third_participant_name, third_participant_score)\n",
        "\n",
        "participant_list = [first_person, second_person, third_person]\n",
        "\n",
        "total_score = 0.0\n",
        "total_participant = len(participant_list)\n",
        "\n",
        "for participant in participant_list:\n",
        "  total_score = total_score + participant[\"score\"]\n",
        "\n",
        "avg_score = total_score / total_participant\n",
        "\n",
        "print(f\"Average Score is {avg_score}\")\n",
        "\n",
        "for participant in participant_list:\n",
        "  if participant[\"score\"] > avg_score:\n",
        "    print(\"Congratulations \", participant[\"name\"])"
      ],
      "metadata": {
        "colab": {
          "base_uri": "https://localhost:8080/"
        },
        "id": "_SDWygH4Vzji",
        "outputId": "87a721b9-f613-47d0-876f-b375c1c0b5ec"
      },
      "execution_count": null,
      "outputs": [
        {
          "output_type": "stream",
          "name": "stdout",
          "text": [
            "alice\n",
            "78\n",
            "bob\n",
            "80\n",
            "eve\n",
            "83\n",
            "Average Score is 80.33333333333333\n",
            "Congratulations  eve\n"
          ]
        }
      ]
    },
    {
      "cell_type": "markdown",
      "source": [
        "### Problem 04\n",
        "You have a dictionary of books where each key is a book title and each value is a boolean indicating whether the book is available (True) or not (False). The goal is to extract a list of book titles that are currently available and store them in a separate list."
      ],
      "metadata": {
        "id": "KawpDH_mTCYM"
      }
    },
    {
      "cell_type": "code",
      "source": [
        "books = {\n",
        "    'Too Kill a Mocking Bird': True,\n",
        "    'Far and Away': False,\n",
        "    'Too Close to Home': True,\n",
        "    'Perks of Being a Wallflowr': False,\n",
        "    'The Catcher in the Rye': True,\n",
        "    'To the Lighthouse': False,\n",
        "    'Pride and Prejudice': True,\n",
        "    'The Great Gatsby': True,\n",
        "    'One Hundred Years of Solitude': False,\n",
        "}\n",
        "\n",
        "available_books = []\n",
        "\n",
        "for title, available in books.items():\n",
        "  if available == True:\n",
        "    available_books.append(title)\n",
        "\n",
        "print(available_books)"
      ],
      "metadata": {
        "id": "dwfpSsDCbOIS"
      },
      "execution_count": null,
      "outputs": []
    },
    {
      "cell_type": "markdown",
      "source": [
        "###Problem 05\n",
        "\n",
        "You have a list of fruits where some fruit names may appear multiple times. The objective is to count the occurrences of each fruit in the list and store these counts in a dictionary."
      ],
      "metadata": {
        "id": "zwOfSlyTTHHE"
      }
    },
    {
      "cell_type": "markdown",
      "source": [
        "###Problem 06\n",
        "\n",
        "You have a dictionary of employees' salaries where each key is an employee's name and each value is their current salary. The goal is to adjust the salaries based on the following criteria:\n",
        "\n",
        "1.   If the salary is greater than 5000, increase it by 50%.\n",
        "2.   If the salary is 5000 or less, increase it by 30%."
      ],
      "metadata": {
        "id": "aX99-B3UTJT_"
      }
    },
    {
      "cell_type": "markdown",
      "source": [
        "###Problem 07\n",
        "\n",
        "You have a dictionary stat where each key is a student's name and each value is their corresponding mark. Your task is to iterate through this dictionary and print out the grade each student achieved based on the following grading scale:\n",
        "\n",
        "*   A+ : 80 - 100\n",
        "*   A : 70 - 79\n",
        "*   A- : 60 - 69\n",
        "*   B : 50 - 59\n",
        "*   F : below 50\n",
        "\n",
        "Write a program that iterates through the stat dictionary, evaluates each student's mark against the grading scale, and prints a message indicating the grade obtained by each student."
      ],
      "metadata": {
        "id": "zRw7tDDoTM6q"
      }
    },
    {
      "cell_type": "markdown",
      "source": [
        "# Python Closures"
      ],
      "metadata": {
        "id": "TW7eyHSjNSoq"
      }
    },
    {
      "cell_type": "markdown",
      "source": [
        "A closure is a function object that remembers variables in its enclosing scope even if the scope is no longer active.\n",
        "\n",
        "Key Points:\n",
        "\n",
        "* Closures are used to create functions with preserved data (like a lightweight object).\n",
        "* Closures are defined in a nested function, and the inner function uses variables from the outer function."
      ],
      "metadata": {
        "id": "M8yMVJMONW5j"
      }
    },
    {
      "cell_type": "code",
      "source": [
        "def outer_function(x):\n",
        "    def inner_function(y):\n",
        "        return x + y\n",
        "    return inner_function\n",
        "\n",
        "closure = outer_function(10)\n",
        "print(closure(5))  # Output: 15"
      ],
      "metadata": {
        "colab": {
          "base_uri": "https://localhost:8080/"
        },
        "id": "yJ9POT1FNgGm",
        "outputId": "bee688f4-4671-47d9-f335-ba2cd5a8a050"
      },
      "execution_count": null,
      "outputs": [
        {
          "output_type": "stream",
          "name": "stdout",
          "text": [
            "15\n"
          ]
        }
      ]
    },
    {
      "cell_type": "code",
      "source": [
        "def outer_function(msg):\n",
        "    def inner_function():\n",
        "        print(msg)\n",
        "    return inner_function\n",
        "\n",
        "my_closure = outer_function(\"Hello from closure\")\n",
        "my_closure()"
      ],
      "metadata": {
        "colab": {
          "base_uri": "https://localhost:8080/"
        },
        "id": "J7NgkuH-Nwub",
        "outputId": "cb23e6e9-9d20-4d54-ae7f-81871a89ec3f"
      },
      "execution_count": null,
      "outputs": [
        {
          "output_type": "stream",
          "name": "stdout",
          "text": [
            "Hello from closure\n"
          ]
        }
      ]
    },
    {
      "cell_type": "code",
      "source": [
        "def make_counter():\n",
        "    count = 0\n",
        "    def counter():\n",
        "        nonlocal count  #The nonlocal keyword in Python is used to refer to variables from an enclosing (outer) function’s scope in a nested (inner) function.\n",
        "                        # It allows the inner function to modify the variable in the outer function’s scope.\n",
        "        count += 1\n",
        "        return count\n",
        "    return counter\n",
        "\n",
        "my_counter = make_counter()\n",
        "\n",
        "print(my_counter())\n",
        "print(my_counter())\n",
        "print(my_counter())"
      ],
      "metadata": {
        "id": "w583OHkwOEXC",
        "outputId": "9cceae5b-9299-401c-ac86-81951549c830",
        "colab": {
          "base_uri": "https://localhost:8080/"
        }
      },
      "execution_count": null,
      "outputs": [
        {
          "output_type": "stream",
          "name": "stdout",
          "text": [
            "1\n",
            "2\n",
            "3\n"
          ]
        }
      ]
    },
    {
      "cell_type": "markdown",
      "source": [
        "# Decorator"
      ],
      "metadata": {
        "id": "itf8MJLmOddp"
      }
    },
    {
      "cell_type": "markdown",
      "source": [
        "In Python, decorators allow you to modify the behavior of a function or method. They are defined using the @decorator_name syntax.\n",
        "\n",
        "*   Decorators function must accept a function parameter\n",
        "*   Decorator function returns a inner function, works as closure\n"
      ],
      "metadata": {
        "id": "pw_b7IzTOt9H"
      }
    },
    {
      "cell_type": "code",
      "source": [
        "def make_pretty(func):\n",
        "\n",
        "    def inner():\n",
        "        print(\"Decorated start: I got decorated .\")\n",
        "        func()\n",
        "        func()\n",
        "        func()\n",
        "        print(\"Decorated end: I got decorated .\")\n",
        "    return inner\n",
        "\n",
        "@make_pretty\n",
        "def ordinary():\n",
        "    print(\"I am ordinary\")\n",
        "\n",
        "ordinary()"
      ],
      "metadata": {
        "colab": {
          "base_uri": "https://localhost:8080/"
        },
        "id": "HSUeiO27Oh8T",
        "outputId": "edfab093-33c5-4ec5-a620-1ec7b104aab7"
      },
      "execution_count": null,
      "outputs": [
        {
          "output_type": "stream",
          "name": "stdout",
          "text": [
            "Decorated start: I got decorated .\n",
            "I am ordinary\n",
            "I am ordinary\n",
            "I am ordinary\n",
            "Decorated end: I got decorated .\n"
          ]
        }
      ]
    },
    {
      "cell_type": "code",
      "source": [
        "def smart_divide(func):\n",
        "    def inner(a, b):\n",
        "        print(\"I am going to divide\", a, \"and\", b)\n",
        "        if b == 0:\n",
        "            print(\"Whoops! cannot divide\")\n",
        "            return\n",
        "\n",
        "        return func(a, b)\n",
        "    return inner\n",
        "\n",
        "@smart_divide\n",
        "def divide(a, b):\n",
        "    print(a/b)\n",
        "\n",
        "divide(2,5)\n",
        "\n",
        "divide(2,0)"
      ],
      "metadata": {
        "colab": {
          "base_uri": "https://localhost:8080/"
        },
        "id": "BobzG3goO01Q",
        "outputId": "6bd30180-b955-4b1b-870c-964cfd91f68f"
      },
      "execution_count": null,
      "outputs": [
        {
          "output_type": "stream",
          "name": "stdout",
          "text": [
            "I am going to divide 2 and 5\n",
            "0.4\n",
            "I am going to divide 2 and 0\n",
            "Whoops! cannot divide\n"
          ]
        }
      ]
    },
    {
      "cell_type": "markdown",
      "source": [
        "Memoization Using Decorators in Python"
      ],
      "metadata": {
        "id": "sa4_zaXeO64Y"
      }
    },
    {
      "cell_type": "code",
      "source": [
        "def memoize(function):\n",
        "    cache = {}\n",
        "    def wrapper(*args):\n",
        "        if args not in cache:\n",
        "            cache[args] = function(*args)\n",
        "        return cache[args]\n",
        "    return wrapper\n",
        "\n",
        "@memoize\n",
        "def factorial(n):\n",
        "    if n == 0:\n",
        "        return 1\n",
        "    else:\n",
        "        print(\"will execute for loop\")\n",
        "        for i in range(1, n):\n",
        "            n = n * i\n",
        "        return n\n",
        "\n",
        "print(factorial(5))\n",
        "print(factorial(5))"
      ],
      "metadata": {
        "colab": {
          "base_uri": "https://localhost:8080/"
        },
        "id": "Qb-vNIb-PC00",
        "outputId": "c557df41-4214-45d2-d570-b80c5836a988"
      },
      "execution_count": null,
      "outputs": [
        {
          "output_type": "stream",
          "name": "stdout",
          "text": [
            "will execute for loop\n",
            "120\n",
            "120\n"
          ]
        }
      ]
    },
    {
      "cell_type": "code",
      "source": [
        "def upper_case_decorator(function):\n",
        "    def wrapper():\n",
        "        result = function()\n",
        "        return result.upper()\n",
        "    return wrapper\n",
        "\n",
        "@upper_case_decorator\n",
        "def greet():\n",
        "    return \"hello\"\n",
        "\n",
        "print(greet())  # Output: HELLO"
      ],
      "metadata": {
        "colab": {
          "base_uri": "https://localhost:8080/"
        },
        "id": "ISGVbEPrPZsP",
        "outputId": "a3b26f6d-e4bb-41f2-ea64-cc36c07b500f"
      },
      "execution_count": null,
      "outputs": [
        {
          "output_type": "stream",
          "name": "stdout",
          "text": [
            "HELLO\n"
          ]
        }
      ]
    },
    {
      "cell_type": "code",
      "source": [
        "def decorator_function(original_function):\n",
        "    def wrapper_function(*args, **kwargs):\n",
        "        print(f\"Executing {original_function.__name__}...\")\n",
        "        return original_function(*args, **kwargs)\n",
        "    return wrapper_function\n",
        "\n",
        "@decorator_function\n",
        "def say_hello():\n",
        "    print(\"Hello!\")\n",
        "\n",
        "say_hello()"
      ],
      "metadata": {
        "id": "AaIkMQ5fPdPB",
        "outputId": "854a0a42-f87f-400d-e447-ed976241e248",
        "colab": {
          "base_uri": "https://localhost:8080/"
        }
      },
      "execution_count": null,
      "outputs": [
        {
          "output_type": "stream",
          "name": "stdout",
          "text": [
            "Executing say_hello...\n",
            "Hello!\n"
          ]
        }
      ]
    },
    {
      "cell_type": "markdown",
      "source": [
        "# Regex\n"
      ],
      "metadata": {
        "id": "vm6xIXLXeooZ"
      }
    },
    {
      "cell_type": "markdown",
      "source": [
        "\n",
        "---\n",
        "\n",
        "### **Regular Expression Syntax**\n",
        "\n",
        "Regular Expressions use specific symbols and sequences to define search patterns. Below are the common components:\n",
        "\n",
        "#### Meta-Characters\n",
        "\n",
        "| Meta-Character | Description                                         | Example                      | Matches                        |\n",
        "|----------------|-----------------------------------------------------|------------------------------|--------------------------------|\n",
        "| `.`            | Matches any single character (except newline).      | `a.b`                        | \"acb\", \"aeb\", etc.            |\n",
        "| `^`            | Matches the start of the string.                    | `^abc`                       | \"abc\" at the start of a string|\n",
        "| `$`            | Matches the end of the string.                      | `xyz$`                       | \"xyz\" at the end of a string  |\n",
        "| `*`            | Matches 0 or more occurrences of the preceding char.| `ab*c`                       | \"ac\", \"abc\", \"abbc\", etc.     |\n",
        "| `+`            | Matches 1 or more occurrences of the preceding char.| `ab+c`                       | \"abc\", \"abbc\", etc.           |\n",
        "| `?`            | Matches 0 or 1 occurrence of the preceding char.    | `ab?c`                       | \"ac\" or \"abc\"                 |\n",
        "| `{}`           | Matches a specific number of repetitions.           | `a{2,3}`                     | \"aa\" or \"aaa\"                 |\n",
        "\n",
        "#### Special Sequences\n",
        "\n",
        "| Special Sequence | Description                            | Example    | Matches        |\n",
        "|-------------------|----------------------------------------|------------|----------------|\n",
        "| `\\d`             | Matches any digit (0-9).              | `\\d+`      | \"123\"          |\n",
        "| `\\w`             | Matches any alphanumeric char or _.   | `\\w+`      | \"hello_123\"    |\n",
        "| `\\s`             | Matches any whitespace character.     | `\\s`       | \" \" or \"\\t\"    |\n",
        "| `\\b`             | Matches a word boundary.              | `\\bword\\b` | \"word\" as whole word |\n",
        "| `\\D`             | Matches any non-digit character.      | `\\D`       | \"A\"            |\n",
        "\n",
        "#### Character Classes\n",
        "\n",
        "| Character Class    | Description                           | Example       | Matches                    |\n",
        "|--------------------|---------------------------------------|---------------|----------------------------|\n",
        "| `[abc]`            | Matches any one of \"a\", \"b\", or \"c\". | `[abc]`       | \"a\", \"b\", \"c\"             |\n",
        "| `[a-zA-Z]`         | Matches any letter.                  | `[a-zA-Z]`    | \"a\", \"B\", \"z\"             |\n",
        "| `[0-9]`            | Matches any digit.                   | `[0-9]`       | \"0\", \"5\", \"9\"             |\n"
      ],
      "metadata": {
        "id": "Wvgu1NpXf1Li"
      }
    },
    {
      "cell_type": "markdown",
      "source": [
        "### **Python's `re` Module**\n",
        "\n",
        "Python provides the `re` module to work with Regular Expressions. Here's an overview of the key functions available in this module:\n",
        "\n",
        "- **`re.match(pattern, string)`**  \n",
        "  Checks if the pattern matches only at the **beginning** of the string.  \n",
        "\n",
        "- **`re.search(pattern, string)`**  \n",
        "Searches the string for the **first occurrence** of the pattern.  \n",
        "\n",
        "\n",
        "- **`re.findall(pattern, string)`**  \n",
        "Returns **all matches** of the pattern as a list.  \n",
        "\n",
        "\n",
        "- **`re.finditer(pattern, string)`**  \n",
        "Returns an **iterator** yielding match objects for each match.  \n",
        "Example:\n"
      ],
      "metadata": {
        "id": "2d8hVPXjf3uF"
      }
    },
    {
      "cell_type": "code",
      "source": [
        "import re\n",
        "\n",
        "pattern = r\"hello\"\n",
        "string = \"hello world\"\n",
        "result = re.search(pattern, string)\n",
        "\n",
        "if result:\n",
        "    print(\"Match found!\")\n",
        "else:\n",
        "    print(\"No match.\")\n"
      ],
      "metadata": {
        "colab": {
          "base_uri": "https://localhost:8080/"
        },
        "id": "QYDYo--ieu9r",
        "outputId": "e7010dfc-3993-40e9-eb43-53b788c9e739"
      },
      "execution_count": null,
      "outputs": [
        {
          "output_type": "stream",
          "name": "stdout",
          "text": [
            "Match found!\n"
          ]
        }
      ]
    },
    {
      "cell_type": "code",
      "source": [
        "import re\n",
        "\n",
        "text = \"My number is 12345 and his is 67890.\"\n",
        "numbers = re.findall(r'\\d+', text)\n",
        "print(\"Numbers found:\", numbers)\n"
      ],
      "metadata": {
        "colab": {
          "base_uri": "https://localhost:8080/"
        },
        "id": "1CEAYQ0JeyES",
        "outputId": "5553f903-763b-4cae-a08c-79576fc0dd90"
      },
      "execution_count": null,
      "outputs": [
        {
          "output_type": "stream",
          "name": "stdout",
          "text": [
            "Numbers found: ['12345', '67890']\n"
          ]
        }
      ]
    },
    {
      "cell_type": "code",
      "source": [
        "import re\n",
        "\n",
        "email = \"example@test.com\"\n",
        "pattern = r'^[a-zA-Z0-9._%+-]+@[a-zA-Z0-9.-]+\\.[a-zA-Z]{2,}$'\n",
        "\n",
        "if re.match(pattern, email):\n",
        "    print(\"Valid email!\")\n",
        "else:\n",
        "    print(\"Invalid email!\")\n"
      ],
      "metadata": {
        "colab": {
          "base_uri": "https://localhost:8080/"
        },
        "id": "akMlZuZLe1Y0",
        "outputId": "88d101ad-5a56-4496-b060-e1acee8992ff"
      },
      "execution_count": null,
      "outputs": [
        {
          "output_type": "stream",
          "name": "stdout",
          "text": [
            "Valid email!\n"
          ]
        }
      ]
    },
    {
      "cell_type": "code",
      "source": [
        "import re\n",
        "\n",
        "text = \"I love cats and dogs.\"\n",
        "updated_text = re.sub(r'cats', 'birds', text)\n",
        "print(updated_text)\n"
      ],
      "metadata": {
        "colab": {
          "base_uri": "https://localhost:8080/"
        },
        "id": "U8jZoTgte4IK",
        "outputId": "6a93c47d-b9cb-4b72-8342-9e75ebf52fe8"
      },
      "execution_count": null,
      "outputs": [
        {
          "output_type": "stream",
          "name": "stdout",
          "text": [
            "I love birds and dogs.\n"
          ]
        }
      ]
    },
    {
      "cell_type": "code",
      "source": [
        "import re\n",
        "\n",
        "data = \"apple;orange,banana:grape\"\n",
        "fruits = re.split(r'[;,:]', data)\n",
        "print(fruits)\n"
      ],
      "metadata": {
        "colab": {
          "base_uri": "https://localhost:8080/"
        },
        "id": "4pNhTf0Pe6t4",
        "outputId": "abb4e058-3f60-4d9e-a151-5967b23112a7"
      },
      "execution_count": null,
      "outputs": [
        {
          "output_type": "stream",
          "name": "stdout",
          "text": [
            "['apple', 'orange', 'banana', 'grape']\n"
          ]
        }
      ]
    },
    {
      "cell_type": "markdown",
      "source": [
        "# File Handling"
      ],
      "metadata": {
        "id": "a1TUAtZQwaYW"
      }
    },
    {
      "cell_type": "markdown",
      "source": [
        "* Basic Operations: Open, Read, Write, and Close.\n",
        "* Syntax: open(filename, mode)\n",
        "* File Modes: \\\\\n",
        "`'r'`: Read (default). \\\\\n",
        "`'w'`: Write (overwrites existing content). \\\\\n",
        "`'a'`: Append (adds to the existing content). \\\\\n",
        "`'rb'`, `'wb'`, `'ab'`: Modes for binary files. \\\\\n",
        "`'r+'`, `'w+'`, `'a+'`: Read and write combined. \\\\"
      ],
      "metadata": {
        "id": "tFP3QrpUwxca"
      }
    },
    {
      "cell_type": "code",
      "source": [
        "# Open and write to a file\n",
        "file = open('example.txt', 'w')\n",
        "file.write('Hello, world!')\n",
        "file.close()\n",
        "\n",
        "# Open and read the file\n",
        "file = open('example.txt', 'r')\n",
        "content = file.read()\n",
        "print(content)\n",
        "file.close()"
      ],
      "metadata": {
        "colab": {
          "base_uri": "https://localhost:8080/"
        },
        "id": "3rLtdDOwxfCw",
        "outputId": "ffab5f2f-b8e5-4082-83c0-f24062c51234"
      },
      "execution_count": null,
      "outputs": [
        {
          "output_type": "stream",
          "name": "stdout",
          "text": [
            "Hello, world!\n"
          ]
        }
      ]
    },
    {
      "cell_type": "markdown",
      "source": [
        "### `with` keyword"
      ],
      "metadata": {
        "id": "opTGXMl6xpEL"
      }
    },
    {
      "cell_type": "code",
      "source": [
        "with open('example.txt', 'r') as file:\n",
        "    content = file.read()\n",
        "    print(content)"
      ],
      "metadata": {
        "colab": {
          "base_uri": "https://localhost:8080/"
        },
        "id": "FRUd6h3NxtGy",
        "outputId": "d7bf99cd-d093-4b23-9b7f-12c30ddd720e"
      },
      "execution_count": null,
      "outputs": [
        {
          "output_type": "stream",
          "name": "stdout",
          "text": [
            "Hello, world!\n",
            "Hello, world!\n"
          ]
        }
      ]
    },
    {
      "cell_type": "code",
      "source": [
        "with open('example.txt', 'r') as file:\n",
        "    for line in file.readline():\n",
        "        print(line.strip())"
      ],
      "metadata": {
        "colab": {
          "base_uri": "https://localhost:8080/"
        },
        "id": "0PyCfkvOyWqO",
        "outputId": "7f22c068-3c86-4df5-8cfa-f3f79d578944"
      },
      "execution_count": null,
      "outputs": [
        {
          "output_type": "stream",
          "name": "stdout",
          "text": [
            "F\n",
            "i\n",
            "r\n",
            "s\n",
            "t\n",
            "\n",
            "l\n",
            "i\n",
            "n\n",
            "e\n",
            "\n"
          ]
        }
      ]
    },
    {
      "cell_type": "code",
      "source": [
        "with open('example.txt', 'r') as file:\n",
        "    for line in file.readlines():\n",
        "        print(line.strip())  # Removes extra newline characters"
      ],
      "metadata": {
        "colab": {
          "base_uri": "https://localhost:8080/"
        },
        "id": "GBnDifQmx8DR",
        "outputId": "6dd94d4b-6a19-4799-c9fa-604181b38d3a"
      },
      "execution_count": null,
      "outputs": [
        {
          "output_type": "stream",
          "name": "stdout",
          "text": [
            "First line\n",
            "Second line\n",
            "Third line\n"
          ]
        }
      ]
    },
    {
      "cell_type": "markdown",
      "source": [
        "### writing to a file"
      ],
      "metadata": {
        "id": "l5Xy5553yNQo"
      }
    },
    {
      "cell_type": "code",
      "source": [
        "lines = ['First line\\n', 'Second line\\n', 'Third line\\n']\n",
        "with open('example.txt', 'w') as file:\n",
        "    file.writelines(lines)"
      ],
      "metadata": {
        "id": "EwiSpt1xyF3Z"
      },
      "execution_count": null,
      "outputs": []
    },
    {
      "cell_type": "code",
      "source": [
        "import json\n",
        "\n",
        "# Dictionary to save\n",
        "data = {\n",
        "    \"name\": \"Alice\",\n",
        "    \"age\": 25,\n",
        "    \"skills\": [\"Python\", \"Data Analysis\", \"Machine Learning\"]\n",
        "}\n",
        "\n",
        "# Save to a JSON file\n",
        "with open('data.json', 'w') as file:\n",
        "    json.dump(data, file, indent=4)\n",
        "\n",
        "print(\"Dictionary saved to data.json\")"
      ],
      "metadata": {
        "colab": {
          "base_uri": "https://localhost:8080/"
        },
        "id": "m0dQQW9ey2rU",
        "outputId": "604978cf-e06b-4f88-97d4-61dd5b07572e"
      },
      "execution_count": null,
      "outputs": [
        {
          "output_type": "stream",
          "name": "stdout",
          "text": [
            "Dictionary saved to data.json\n"
          ]
        }
      ]
    },
    {
      "cell_type": "code",
      "source": [
        "# Load dictionary from a JSON file\n",
        "# with open('data.json', 'r') as file:\n",
        "#     for line in file.readlines():\n",
        "#         print(line.strip())\n",
        "\n",
        "with open('data.json', 'r') as file:\n",
        "    loaded_data = json.load(file)\n",
        "\n",
        "print(\"Loaded Data:\", loaded_data)\n",
        "print(loaded_data[\"name\"])\n",
        "print(loaded_data[\"age\"])\n",
        "print(loaded_data[\"skills\"])"
      ],
      "metadata": {
        "colab": {
          "base_uri": "https://localhost:8080/"
        },
        "id": "wdAct5Key97Y",
        "outputId": "c7cbba1a-5e96-4910-afb3-bc8e004daa5c"
      },
      "execution_count": null,
      "outputs": [
        {
          "output_type": "stream",
          "name": "stdout",
          "text": [
            "Loaded Data: {'name': 'Alice', 'age': 25, 'skills': ['Python', 'Data Analysis', 'Machine Learning']}\n",
            "Alice\n",
            "25\n",
            "['Python', 'Data Analysis', 'Machine Learning']\n"
          ]
        }
      ]
    },
    {
      "cell_type": "markdown",
      "source": [
        "# `try-expect` block"
      ],
      "metadata": {
        "id": "iqRmbYC-zd8K"
      }
    },
    {
      "cell_type": "code",
      "source": [
        "with open('non_existent_file.txt', 'r') as file:\n",
        "        content = file.read()\n",
        "        print(content)"
      ],
      "metadata": {
        "colab": {
          "base_uri": "https://localhost:8080/",
          "height": 198
        },
        "id": "7F8JNC50zhpA",
        "outputId": "ba3c7008-02c9-4e41-a20a-180782b2aa75"
      },
      "execution_count": null,
      "outputs": [
        {
          "output_type": "error",
          "ename": "FileNotFoundError",
          "evalue": "[Errno 2] No such file or directory: 'non_existent_file.txt'",
          "traceback": [
            "\u001b[0;31m---------------------------------------------------------------------------\u001b[0m",
            "\u001b[0;31mFileNotFoundError\u001b[0m                         Traceback (most recent call last)",
            "\u001b[0;32m<ipython-input-18-c6b775214602>\u001b[0m in \u001b[0;36m<cell line: 1>\u001b[0;34m()\u001b[0m\n\u001b[0;32m----> 1\u001b[0;31m \u001b[0;32mwith\u001b[0m \u001b[0mopen\u001b[0m\u001b[0;34m(\u001b[0m\u001b[0;34m'non_existent_file.txt'\u001b[0m\u001b[0;34m,\u001b[0m \u001b[0;34m'r'\u001b[0m\u001b[0;34m)\u001b[0m \u001b[0;32mas\u001b[0m \u001b[0mfile\u001b[0m\u001b[0;34m:\u001b[0m\u001b[0;34m\u001b[0m\u001b[0;34m\u001b[0m\u001b[0m\n\u001b[0m\u001b[1;32m      2\u001b[0m         \u001b[0mcontent\u001b[0m \u001b[0;34m=\u001b[0m \u001b[0mfile\u001b[0m\u001b[0;34m.\u001b[0m\u001b[0mread\u001b[0m\u001b[0;34m(\u001b[0m\u001b[0;34m)\u001b[0m\u001b[0;34m\u001b[0m\u001b[0;34m\u001b[0m\u001b[0m\n\u001b[1;32m      3\u001b[0m         \u001b[0mprint\u001b[0m\u001b[0;34m(\u001b[0m\u001b[0mcontent\u001b[0m\u001b[0;34m)\u001b[0m\u001b[0;34m\u001b[0m\u001b[0;34m\u001b[0m\u001b[0m\n",
            "\u001b[0;31mFileNotFoundError\u001b[0m: [Errno 2] No such file or directory: 'non_existent_file.txt'"
          ]
        }
      ]
    },
    {
      "cell_type": "code",
      "source": [
        "try:\n",
        "    with open('non_existent_file.txt', 'r') as file:\n",
        "        content = file.read()\n",
        "        print(content)\n",
        "except FileNotFoundError:\n",
        "    print(\"The file you are trying to access does not exist.\")"
      ],
      "metadata": {
        "colab": {
          "base_uri": "https://localhost:8080/"
        },
        "id": "aavyNCWYzpn8",
        "outputId": "e75d5018-e382-4700-8068-140ffdd0704e"
      },
      "execution_count": null,
      "outputs": [
        {
          "output_type": "stream",
          "name": "stdout",
          "text": [
            "The file you are trying to access does not exist.\n"
          ]
        }
      ]
    },
    {
      "cell_type": "code",
      "source": [
        "try:\n",
        "    result = 10 / 0\n",
        "    print(\"Result:\", result)\n",
        "except ZeroDivisionError:\n",
        "    print(\"Error: Division by zero is not allowed.\")"
      ],
      "metadata": {
        "colab": {
          "base_uri": "https://localhost:8080/"
        },
        "id": "z3amqnbqzsxa",
        "outputId": "d59f3978-b44a-4e9b-fa00-efb0cfc2a339"
      },
      "execution_count": null,
      "outputs": [
        {
          "output_type": "stream",
          "name": "stdout",
          "text": [
            "Error: Division by zero is not allowed.\n"
          ]
        }
      ]
    },
    {
      "cell_type": "code",
      "source": [
        "try:\n",
        "    result = '5' + 5  # Mixing string and integer\n",
        "except TypeError as e:\n",
        "    print(f\"Type Error: {e}\")"
      ],
      "metadata": {
        "colab": {
          "base_uri": "https://localhost:8080/"
        },
        "id": "tR0a_SbCzwzV",
        "outputId": "945e468f-14c6-43f2-cc03-350a7051c060"
      },
      "execution_count": null,
      "outputs": [
        {
          "output_type": "stream",
          "name": "stdout",
          "text": [
            "Type Error: can only concatenate str (not \"int\") to str\n"
          ]
        }
      ]
    },
    {
      "cell_type": "code",
      "source": [
        "try:\n",
        "    num = int(input(\"Enter a number: \"))\n",
        "    result = 10 / num\n",
        "    print(\"Result:\", result)\n",
        "except ValueError:\n",
        "    print(\"Invalid input. Please enter a numeric value.\")\n",
        "except ZeroDivisionError:\n",
        "    print(\"Error: Division by zero is not allowed.\")"
      ],
      "metadata": {
        "colab": {
          "base_uri": "https://localhost:8080/"
        },
        "id": "-Vh_yEsYzz_g",
        "outputId": "50c20c28-979d-40d2-87df-fd90875b5716"
      },
      "execution_count": null,
      "outputs": [
        {
          "output_type": "stream",
          "name": "stdout",
          "text": [
            "Enter a number: as\n",
            "Invalid input. Please enter a numeric value.\n"
          ]
        }
      ]
    },
    {
      "cell_type": "code",
      "source": [
        "try:\n",
        "    num = int(input(\"Enter a number: \"))\n",
        "    result = 10 / num\n",
        "except Exception as e:  # Catch any exception\n",
        "    print(f\"An unexpected error occurred: {e}\")"
      ],
      "metadata": {
        "id": "Hk-P2noNz_RR",
        "outputId": "8b413882-ae89-401a-8770-53cabf1a8bd4",
        "colab": {
          "base_uri": "https://localhost:8080/"
        }
      },
      "execution_count": null,
      "outputs": [
        {
          "output_type": "stream",
          "name": "stdout",
          "text": [
            "Enter a number: 0\n",
            "An unexpected error occurred: division by zero\n"
          ]
        }
      ]
    }
  ]
}