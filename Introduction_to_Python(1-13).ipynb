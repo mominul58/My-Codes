{
  "cells": [
    {
      "cell_type": "markdown",
      "metadata": {
        "id": "F-E1YyYO5Skh"
      },
      "source": [
        "# **Class 2 (28/05/2024)**"
      ]
    },
    {
      "cell_type": "code",
      "execution_count": null,
      "metadata": {
        "id": "yZhYU0a70JLw"
      },
      "outputs": [],
      "source": []
    },
    {
      "cell_type": "code",
      "execution_count": null,
      "metadata": {
        "id": "kKz1pRHU7Z8w",
        "colab": {
          "base_uri": "https://localhost:8080/"
        },
        "outputId": "2541ff1f-b8d1-4ef6-b545-a742a1ba30f4"
      },
      "outputs": [
        {
          "output_type": "stream",
          "name": "stdout",
          "text": [
            "7\n"
          ]
        }
      ],
      "source": [
        "myint=7\n",
        "print(myint)"
      ]
    },
    {
      "cell_type": "code",
      "execution_count": null,
      "metadata": {
        "colab": {
          "base_uri": "https://localhost:8080/"
        },
        "id": "-1MuYwc6AhM_",
        "outputId": "97d1f335-dd8a-4928-b3a9-9bd3d5ef96a7"
      },
      "outputs": [
        {
          "output_type": "stream",
          "name": "stdout",
          "text": [
            "7.15\n",
            "7.0\n"
          ]
        }
      ],
      "source": [
        "myfloat=7.15\n",
        "print(myfloat)\n",
        "myfloat=float(7)\n",
        "print(myfloat)"
      ]
    },
    {
      "cell_type": "code",
      "execution_count": null,
      "metadata": {
        "id": "9GcScmtsBD34",
        "colab": {
          "base_uri": "https://localhost:8080/"
        },
        "outputId": "dfda2244-0050-48e6-b6b1-6787b2d8ea17"
      },
      "outputs": [
        {
          "output_type": "stream",
          "name": "stdout",
          "text": [
            "Mominul\n"
          ]
        }
      ],
      "source": [
        "mystring='Mominul'\n",
        "print(mystring)"
      ]
    },
    {
      "cell_type": "code",
      "execution_count": null,
      "metadata": {
        "id": "H8hesqd2CUlf",
        "colab": {
          "base_uri": "https://localhost:8080/"
        },
        "outputId": "f7538f8f-b928-46b5-cd0e-a927b95fe098"
      },
      "outputs": [
        {
          "output_type": "stream",
          "name": "stdout",
          "text": [
            "365\n",
            "hello world\n"
          ]
        }
      ],
      "source": [
        "#operations-----------\n",
        "one=115\n",
        "two=250\n",
        "three=one+two\n",
        "print(three)\n",
        "hello=\"hello\"\n",
        "world=\"world\"\n",
        "helloworld=hello+ \" \" +world\n",
        "print(helloworld)"
      ]
    },
    {
      "cell_type": "code",
      "execution_count": null,
      "metadata": {
        "id": "ODWSalYWDkun",
        "colab": {
          "base_uri": "https://localhost:8080/"
        },
        "outputId": "b8819231-7c95-4645-bb38-8c8e1d3d1e1c"
      },
      "outputs": [
        {
          "output_type": "stream",
          "name": "stdout",
          "text": [
            "5\n",
            "2 3\n"
          ]
        }
      ],
      "source": [
        "a,b=2,3\n",
        "print(a+b)\n",
        "print(a,b)"
      ]
    },
    {
      "cell_type": "code",
      "execution_count": null,
      "metadata": {
        "id": "C3XDGKy4FLpf",
        "colab": {
          "base_uri": "https://localhost:8080/"
        },
        "outputId": "dcd90a7d-dd51-40fc-da4b-02a1a2a1bc25"
      },
      "outputs": [
        {
          "output_type": "stream",
          "name": "stdout",
          "text": [
            "apple\n",
            "orrange\n",
            "pineapple\n",
            "apple orrange\n"
          ]
        }
      ],
      "source": [
        "#-----------Topic: List (Array)------------------------------\n",
        "\n",
        "mylist=['apple','mango','banana','orrange','pineapple']\n",
        "print(mylist[0])\n",
        "print(mylist[3])\n",
        "print(mylist[4])\n",
        "\n",
        "print(mylist[0]+ \" \"+mylist[3])"
      ]
    },
    {
      "cell_type": "code",
      "execution_count": null,
      "metadata": {
        "id": "v5NY-JF_VDM1",
        "colab": {
          "base_uri": "https://localhost:8080/"
        },
        "outputId": "1e24f29a-a53d-4044-a002-1c94e560536f"
      },
      "outputs": [
        {
          "output_type": "stream",
          "name": "stdout",
          "text": [
            "2.0\n",
            "2\n",
            "38.4846\n",
            "hellohellohellohellohellohellohellohellohellohello\n",
            "[1, 3, 5, 7, 2, 4, 6, 8]\n",
            "[1, 2, 3, 1, 2, 3, 1, 2, 3]\n"
          ]
        }
      ],
      "source": [
        "#------------operators--------\n",
        "number=1+3*2/6\n",
        "print(number)\n",
        "#---------Remainder/mod--------------\n",
        "n=11%3\n",
        "print(n)\n",
        "\n",
        "\n",
        "#----Area Measurement--------\n",
        "rad=3.5\n",
        "#circle area--\n",
        "pi=3.1416\n",
        "c_area=pi*rad*rad\n",
        "print(c_area)\n",
        "\n",
        "\n",
        "#----\n",
        "\n",
        "LotsHello= hello*10\n",
        "print(LotsHello)\n",
        "\n",
        "#---------\n",
        "even_n=[2,4,6,8]\n",
        "odd_n=[1,3,5,7]\n",
        "all_n=odd_n+even_n\n",
        "print(all_n)\n",
        "print([1,2,3]*3)"
      ]
    },
    {
      "cell_type": "code",
      "execution_count": null,
      "metadata": {
        "id": "yJAPviKzcbjI",
        "colab": {
          "base_uri": "https://localhost:8080/"
        },
        "outputId": "7c1e1675-1c17-412d-d20c-b0c8315f34ed"
      },
      "outputs": [
        {
          "output_type": "stream",
          "name": "stdout",
          "text": [
            "5.332682251925386\n"
          ]
        }
      ],
      "source": [
        "#let d is Base & h is height of triangle\n",
        "\n",
        "#base=3.5\n",
        "#heigh=4.5\n",
        "#t_area= 0.5*base*height\n",
        "#print(t_area)\n",
        "\n",
        "#----------\n",
        "a=3\n",
        "b=4\n",
        "c=6\n",
        "s=(a+b+c)/2\n",
        "area = (s * (s - a) * (s - b) * (s - c)) ** 0.5\n",
        "print(area)"
      ]
    },
    {
      "cell_type": "markdown",
      "metadata": {
        "id": "VcQSUU3Hd2Sn"
      },
      "source": []
    },
    {
      "cell_type": "markdown",
      "metadata": {
        "id": "buxAOhjx8iVN"
      },
      "source": [
        "                     ----Note---\n",
        "\n",
        "---\n",
        "*28/05/2024*\n",
        "\n",
        "\n",
        "1. Variables and types\n",
        "2. operations\n",
        "3. List (array)\n",
        "4. operators and function"
      ]
    },
    {
      "cell_type": "markdown",
      "source": [],
      "metadata": {
        "id": "lhvcIRaCPcgF"
      }
    },
    {
      "cell_type": "markdown",
      "metadata": {
        "id": "ZQCTazJKJDu4"
      },
      "source": [
        "#**Class 3 (30/05/2024)**"
      ]
    },
    {
      "cell_type": "markdown",
      "metadata": {
        "id": "i9Uwz-5LO4Mx"
      },
      "source": [
        "Topics\n",
        "1. string processing\n",
        "2. conditions\n",
        "3. for loop"
      ]
    },
    {
      "cell_type": "markdown",
      "metadata": {
        "id": "iOy2auVoP8QC"
      },
      "source": [
        "##*String processing*"
      ]
    },
    {
      "cell_type": "code",
      "execution_count": null,
      "metadata": {
        "colab": {
          "base_uri": "https://localhost:8080/"
        },
        "id": "vUiZMMFIObLI",
        "outputId": "b0375edb-d9c5-4505-b1fb-27621780cdff"
      },
      "outputs": [
        {
          "output_type": "stream",
          "name": "stdout",
          "text": [
            "Hello World\n",
            "11\n",
            "6\n",
            "2\n"
          ]
        }
      ],
      "source": [
        "#--------- String Processing-----------------\n",
        "#--------------------------------------------\n",
        "astring=\"Hello World\"\n",
        "print(astring)\n",
        "print(len(astring))\n",
        "print(astring.index(\"W\"))\n",
        "print(astring.count(\"o\"))\n"
      ]
    },
    {
      "cell_type": "code",
      "execution_count": null,
      "metadata": {
        "colab": {
          "base_uri": "https://localhost:8080/"
        },
        "id": "vGczWjrXR1Kr",
        "outputId": "b1480260-5c47-4f36-8cc2-a2d9c3c0fd4b"
      },
      "outputs": [
        {
          "output_type": "stream",
          "name": "stdout",
          "text": [
            "lo W\n",
            "l \n",
            "dlroW olleH\n"
          ]
        }
      ],
      "source": [
        "astring=\"Hello World\"\n",
        "print(astring[3:7])\n",
        "print(astring[3:7:2])\n",
        "\n",
        "#1.1 string reverse\n",
        "print(astring[::-1])"
      ]
    },
    {
      "cell_type": "code",
      "execution_count": null,
      "metadata": {
        "colab": {
          "base_uri": "https://localhost:8080/"
        },
        "id": "Iw1HOD0OT70y",
        "outputId": "2d0db77c-c07e-483a-bf6c-438b3ab519f1"
      },
      "outputs": [
        {
          "output_type": "stream",
          "name": "stdout",
          "text": [
            "HELLO WORLD\n",
            "hello world\n",
            "hELLO wORLD\n",
            "True\n",
            "True\n",
            "dlroW olleH\n",
            "['Hello', 'World']\n",
            "['Hell', ' W', 'rld']\n"
          ]
        }
      ],
      "source": [
        "astring=\"Hello World\"\n",
        "print(astring.upper())\n",
        "print(astring.lower())\n",
        "print(astring.swapcase())\n",
        "print(astring.startswith(\"Hello\"))\n",
        "print(astring.endswith(\"World\"))\n",
        "print(astring[::-1])\n",
        "words= astring.split(\" \")\n",
        "word1= astring.split(\"o\")\n",
        "print(words)\n",
        "print(word1)"
      ]
    },
    {
      "cell_type": "code",
      "execution_count": null,
      "metadata": {
        "colab": {
          "base_uri": "https://localhost:8080/"
        },
        "id": "JTtCj0e9YLF9",
        "outputId": "8f74587f-6f80-407e-bbbb-08c83021a24f"
      },
      "outputs": [
        {
          "output_type": "stream",
          "name": "stdout",
          "text": [
            "53\n",
            "41\n",
            "2\n",
            "Welco\n",
            "me to\n",
            "I\n",
            "Wloet IT hsi u yhnpormigCas\n",
            "Class\n",
            "WELCOME TO IICT, THIS IS OUR PYTHON PROGRAMMING CLASS\n",
            "welcome to iict, this is our python programming class\n",
            "True\n",
            "False\n"
          ]
        }
      ],
      "source": [
        "s= \"Welcome to IICT, This is our Python programming Class\"\n",
        "\n",
        "#length\n",
        "#first occureance of letter A\n",
        "#A kotobar asche\n",
        "#first 5 character\n",
        "#next 5 characters\n",
        "#13th characters\n",
        "#odd index\n",
        "#last 5 characters\n",
        "#uppercase\n",
        "#lowercase\n",
        "#--wellcome diy start hoise kina\n",
        "#--python diye sesh hoise kina?\n",
        "#weldone\n",
        "\n",
        "print(len(s))\n",
        "\n",
        "print(s.index(\"a\"))\n",
        "\n",
        "print(s.count(\"a\"))\n",
        "\n",
        "print(s[0:5])\n",
        "print(s[5:10])\n",
        "\n",
        "print(s[12])\n",
        "\n",
        "odd=s[0::2]\n",
        "print(odd)\n",
        "\n",
        "last_5_chars = s[-5:]\n",
        "print(last_5_chars)\n",
        "\n",
        "print(s.upper())\n",
        "\n",
        "print(s.lower())\n",
        "\n",
        "print(s.startswith(\"Welcome\"))\n",
        "\n",
        "print(s.endswith(\"Python\"))"
      ]
    },
    {
      "cell_type": "markdown",
      "metadata": {
        "id": "zrPVD21HQKCR"
      },
      "source": [
        "##*Conditions*"
      ]
    },
    {
      "cell_type": "code",
      "execution_count": null,
      "metadata": {
        "id": "TtePcO1JonsC",
        "colab": {
          "base_uri": "https://localhost:8080/"
        },
        "outputId": "ae72d69f-6cfd-4d9c-a872-d3961171bcf5"
      },
      "outputs": [
        {
          "output_type": "stream",
          "name": "stdout",
          "text": [
            "True\n",
            "False\n",
            "True\n"
          ]
        }
      ],
      "source": [
        "#----- Conditions---------\n",
        "#-----------------------------------------\n",
        "x=2\n",
        "print(x==2)\n",
        "print(x==3)\n",
        "\n",
        "print(x<3)\n"
      ]
    },
    {
      "cell_type": "code",
      "execution_count": null,
      "metadata": {
        "colab": {
          "base_uri": "https://localhost:8080/"
        },
        "id": "HoHK7uvXpUND",
        "outputId": "c9ce1a88-f0c0-47f0-b309-7d0bb3acf28a"
      },
      "outputs": [
        {
          "output_type": "stream",
          "name": "stdout",
          "text": [
            "Your name is John and age is 23\n",
            "John wick\n"
          ]
        }
      ],
      "source": [
        "name=\"john\"\n",
        "age=23\n",
        "if name==\"john\" and age== 23:\n",
        "  print(\"Your name is John and age is 23\")\n",
        "if name==\"john\" or name==\"Rick\":\n",
        "  print(\"John wick\")\n"
      ]
    },
    {
      "cell_type": "code",
      "execution_count": null,
      "metadata": {
        "id": "7pnoGG6_qvsy",
        "colab": {
          "base_uri": "https://localhost:8080/"
        },
        "outputId": "a82ae20e-34f4-42a8-99f7-0fe26bb0e97d"
      },
      "outputs": [
        {
          "output_type": "stream",
          "name": "stdout",
          "text": [
            "your name is john or rick\n"
          ]
        }
      ],
      "source": [
        "name=\"John\"\n",
        "age=23\n",
        "if name in [\"John\", \"Rick\"]:\n",
        "  print(\"your name is john or rick\")"
      ]
    },
    {
      "cell_type": "code",
      "execution_count": null,
      "metadata": {
        "id": "NNlXuBwIrLIT",
        "colab": {
          "base_uri": "https://localhost:8080/"
        },
        "outputId": "be7ad388-29f7-467b-e84d-49a7064cb6b1"
      },
      "outputs": [
        {
          "output_type": "stream",
          "name": "stdout",
          "text": [
            "Age is 23\n"
          ]
        }
      ],
      "source": [
        "age=23\n",
        "if age==23:\n",
        "  print(\"Age is 23\")\n",
        "else:\n",
        "  print(\"age is not 23\")"
      ]
    },
    {
      "cell_type": "code",
      "execution_count": null,
      "metadata": {
        "id": "4F9IITm2sCzN",
        "colab": {
          "base_uri": "https://localhost:8080/"
        },
        "outputId": "4c31a695-dd37-4076-eb03-ebe58ae21eb9"
      },
      "outputs": [
        {
          "output_type": "stream",
          "name": "stdout",
          "text": [
            "age is not 23\n"
          ]
        }
      ],
      "source": [
        "  age= 24,25\n",
        "if age==23:\n",
        " print(\"Age is 23\")\n",
        "else:\n",
        " print(\"age is not 23\")"
      ]
    },
    {
      "cell_type": "code",
      "execution_count": null,
      "metadata": {
        "id": "Dv3I9gfEsMHM",
        "colab": {
          "base_uri": "https://localhost:8080/"
        },
        "outputId": "92502f53-caf0-42ff-fee4-09ed2469fb84"
      },
      "outputs": [
        {
          "output_type": "stream",
          "name": "stdout",
          "text": [
            "False\n"
          ]
        }
      ],
      "source": [
        "a=17\n",
        "b=25\n",
        "\n",
        "if a > b:\n",
        "  print(\"True\")\n",
        "else:\n",
        "    print(\"False\")"
      ]
    },
    {
      "cell_type": "code",
      "execution_count": null,
      "metadata": {
        "id": "PCG--7iktc1t",
        "colab": {
          "base_uri": "https://localhost:8080/"
        },
        "outputId": "d4cafc5b-ed00-4ab9-cb49-728a78d1951a"
      },
      "outputs": [
        {
          "output_type": "stream",
          "name": "stdout",
          "text": [
            "a is less than b\n"
          ]
        }
      ],
      "source": [
        "a = 10\n",
        "b = 20\n",
        "\n",
        "if a < b:\n",
        "  print(\"a is less than b\")\n",
        "\n",
        "else:\n",
        "  print(\"a is less b\")"
      ]
    },
    {
      "cell_type": "markdown",
      "metadata": {
        "id": "vyHEQYGUQ7xo"
      },
      "source": [
        "##*For Loop*"
      ]
    },
    {
      "cell_type": "code",
      "execution_count": null,
      "metadata": {
        "id": "oLHJsZw4vO0c",
        "colab": {
          "base_uri": "https://localhost:8080/"
        },
        "outputId": "74cf71b1-895f-4ea6-9fd5-33dce83a2272"
      },
      "outputs": [
        {
          "output_type": "stream",
          "name": "stdout",
          "text": [
            "5\n",
            "6\n",
            "7\n",
            "8\n"
          ]
        }
      ],
      "source": [
        "#------Loop----------------------\n",
        "#---------For loop-----------\n",
        "\n",
        "for x in range(5,9):\n",
        "  print(x)"
      ]
    },
    {
      "cell_type": "code",
      "execution_count": null,
      "metadata": {
        "id": "siJoQrdgvzZd",
        "colab": {
          "base_uri": "https://localhost:8080/"
        },
        "outputId": "9f4dc459-7156-4e5f-e0f9-0b8325d9aab8"
      },
      "outputs": [
        {
          "output_type": "stream",
          "name": "stdout",
          "text": [
            "2\n",
            "4\n",
            "6\n",
            "8\n"
          ]
        }
      ],
      "source": [
        "for x in range(1,10):\n",
        "  if x%2==0:\n",
        "    print(x)"
      ]
    },
    {
      "cell_type": "code",
      "execution_count": null,
      "metadata": {
        "id": "2GARKVuuwrKF",
        "colab": {
          "base_uri": "https://localhost:8080/"
        },
        "outputId": "7e137a0e-382e-4dca-f3f0-e8b0ee41b864"
      },
      "outputs": [
        {
          "output_type": "stream",
          "name": "stdout",
          "text": [
            "5\n",
            "10\n",
            "15\n",
            "20\n"
          ]
        }
      ],
      "source": [
        "for m in range(1,50):\n",
        "  if m % 5==0 and m<=20:\n",
        "    print(m)"
      ]
    },
    {
      "cell_type": "code",
      "execution_count": null,
      "metadata": {
        "id": "1ER28WVQxsRW",
        "colab": {
          "base_uri": "https://localhost:8080/"
        },
        "outputId": "eb7bb30c-4cf2-4c0a-a603-19066f8831ac"
      },
      "outputs": [
        {
          "output_type": "stream",
          "name": "stdout",
          "text": [
            "5\n",
            "10\n",
            "15\n"
          ]
        }
      ],
      "source": [
        "for x in range(1,50):\n",
        "  if x % 5==0:\n",
        "    if x==20:\n",
        "      break\n",
        "    print(x)"
      ]
    },
    {
      "cell_type": "code",
      "execution_count": null,
      "metadata": {
        "id": "Mq0niRt1ghep",
        "colab": {
          "base_uri": "https://localhost:8080/"
        },
        "outputId": "713fd42f-7637-4c11-9b32-7c2f1a7ce606"
      },
      "outputs": [
        {
          "output_type": "stream",
          "name": "stdout",
          "text": [
            "2\n",
            "4\n",
            "6\n",
            "8\n",
            "10\n",
            "12\n",
            "14\n",
            "16\n",
            "18\n",
            "20\n"
          ]
        }
      ],
      "source": [
        "for i in range(1, 21):\n",
        "    if i % 2 == 0:\n",
        "        print(i)"
      ]
    },
    {
      "cell_type": "markdown",
      "metadata": {
        "id": "jd6Bu-PyrSoU"
      },
      "source": [
        "# **Class 4 (02/06/2024)**"
      ]
    },
    {
      "cell_type": "markdown",
      "metadata": {
        "id": "-nzvCTgbNlI4"
      },
      "source": [
        "##*Taking input in python*"
      ]
    },
    {
      "cell_type": "code",
      "execution_count": null,
      "metadata": {
        "id": "xDjDzKBX7QxE"
      },
      "outputs": [],
      "source": [
        "name=input(\"Enter your name\")\n",
        "age= input(\"Enter your age\")\n",
        "height= input(\"Enter Your Height\")\n",
        "\n",
        "#print(f\"{name} is {age} years old and height)\n",
        "print(\"{} is {} years old and height is {}\".format(name, age, height))"
      ]
    },
    {
      "cell_type": "code",
      "execution_count": null,
      "metadata": {
        "id": "ZuHvS2QwIOEE"
      },
      "outputs": [],
      "source": [
        "name = input(\"Enter your name \")\n",
        "ageAsString = input(\"Enter you Age \")\n",
        "print(type(ageAsString))\n",
        "age = int(ageAsString)\n",
        "print(type(age))\n",
        "\n",
        "# print(f\"{name} is {age} years old.\")\n",
        "print(\"{} is {} years old.\".format(name, age))\n",
        "print(\"{1} is {0} years old.\".format(name, age))"
      ]
    },
    {
      "cell_type": "markdown",
      "metadata": {
        "id": "Kso8ZtUghUiL"
      },
      "source": [
        "## *Output Formatting (Recap)*"
      ]
    },
    {
      "cell_type": "code",
      "execution_count": null,
      "metadata": {
        "id": "lCKd-yVgOF2h"
      },
      "outputs": [],
      "source": [
        "#using sep parameter in print()\n",
        "\n",
        "print(\"Hello\", \"World\")\n",
        "print(\"Hello\", \"World\", \"From SUST\", sep=\", \")"
      ]
    },
    {
      "cell_type": "code",
      "execution_count": null,
      "metadata": {
        "id": "gw2J3OHvOXoE"
      },
      "outputs": [],
      "source": [
        "#print without new line\n",
        "\n",
        "print(\"This is first line\")\n",
        "print(\"This is second line\")\n",
        "\n",
        "print(\"This is third line\", end=\" ||| \")\n",
        "print(\"This is fourth line\")"
      ]
    },
    {
      "cell_type": "code",
      "execution_count": null,
      "metadata": {
        "id": "OE0YHFdaOdLq"
      },
      "outputs": [],
      "source": [
        "# Using format Method\n",
        "\n",
        "print('We are completing our {} degree from {}!'.format('Honours', 'SUST'))\n",
        "\n",
        "print('{0} and {1}'.format('Sylhet', 'Bangladesh'))\n",
        "\n",
        "print('{1} and {0}'.format('Sylhet', 'Bangladesh'))"
      ]
    },
    {
      "cell_type": "code",
      "execution_count": null,
      "metadata": {
        "id": "YDbs3PSbOfqB"
      },
      "outputs": [],
      "source": [
        "print(\"1-> Geeks :{0:2d}, Portal :{1:8.4f}\".format(12, 00.54))\n",
        "print(\"2-> Geeks :{0:5d}, Portal :{1:5.1f}\".format(12, 00.546))\n",
        "print(\"3-> Geeks :{0:2.4f}, Portal :{1:4.2f}\".format(12345, 12345.546))\n",
        "print(\"4-> Geeks :{0:2d}, Portal :{1:8.2f}\".format(12, 00.546))"
      ]
    },
    {
      "cell_type": "code",
      "execution_count": null,
      "metadata": {
        "id": "E4dNaIFmPhLj"
      },
      "outputs": [],
      "source": [
        "# combining positional and keyword arguments\n",
        "print('Number one portal is {0}, {1}, and {other}.'\n",
        "     .format('Geeks', 'For', other ='Geeks'))\n",
        "\n",
        "# using format() method with number\n",
        "print(\"Geeks :{0:2d}, Portal :{1:1.2f}\".\n",
        "      format(12, 00.546))\n",
        "#here, {0:2d} means, 0th index, and the value will take the place of minimum 2 decimal\n",
        "#{1:8.2f} means, 1th index, will take the place of minimum 8 decimal, and there will be 2 float value after dot (.)\n",
        "print(\"Geeks :{0:5d}, Portal :{1:8.3f}\".\n",
        "      format(12, 00.546))\n",
        "\n",
        "# Changing positional argument\n",
        "print(\"Second argument: {1:3d}, first one: {0:7.2f}\".\n",
        "      format(47.42, 11))\n",
        "\n",
        "print(\"Geeks: {a:5d},  Portal: {p:8.2f}\".\n",
        "     format(a = 453, p = 59.058))"
      ]
    },
    {
      "cell_type": "code",
      "execution_count": null,
      "metadata": {
        "id": "ZgHq-uYbOmLB"
      },
      "outputs": [],
      "source": [
        "# Python program showing how to use string modulo operator(%)\n",
        "\n",
        "print(\"Geeks :%2d, Portal :%5.2f\" % (1, 05.333))\n",
        "\n",
        "print(\"Total students : %3d, Boys : %2d\" % (240, 120))   # print integer value\n",
        "\n",
        "print(\"%7.3o\" % (25))   # print octal value\n",
        "\n",
        "print(\"%10.3E\" % (356.08977))   # print exponential value\n",
        "\n",
        "print('We are completing our %s degree from %s!' % ('Honours', 'SUST'))"
      ]
    },
    {
      "cell_type": "code",
      "execution_count": null,
      "metadata": {
        "id": "2LyMMzzdOq2S"
      },
      "outputs": [],
      "source": [
        "string = \"I love SUST\"\n",
        "\n",
        "# Printing the center aligned string with fillchr\n",
        "# print(\"Center aligned string with fillchr: \")\n",
        "print(string.center(40, '#'))\n",
        "\n",
        "# Printing the left aligned string with \"-\" padding\n",
        "# print(\"The left aligned string is : \")\n",
        "print(string.ljust(40, '-'))\n",
        "\n",
        "# Printing the right aligned string with \"-\" padding\n",
        "# print(\"The right aligned string is : \")\n",
        "print(string.rjust(40, '-'))"
      ]
    },
    {
      "cell_type": "markdown",
      "metadata": {
        "id": "_obxyaqxO1ZJ"
      },
      "source": [
        "##*Numeric data type*"
      ]
    },
    {
      "cell_type": "code",
      "execution_count": null,
      "metadata": {
        "id": "oZzAkVzIx9T7"
      },
      "outputs": [],
      "source": [
        "# data types\n",
        "\n",
        "a=5\n",
        "b=5.32\n",
        "c=2+4j\n",
        "d= \"mominul\"\n",
        "print(type(a))\n",
        "print(\"Type of b: \", type(b))\n",
        "print(\"Type of c: \", type(c))\n",
        "print(\"Type of d: \", type(d))\n"
      ]
    },
    {
      "cell_type": "markdown",
      "metadata": {
        "id": "YuhTzg9rBt1u"
      },
      "source": [
        "# **Class 5 (04/06/2024)**"
      ]
    },
    {
      "cell_type": "markdown",
      "metadata": {
        "id": "OLqhmst2CHHm"
      },
      "source": [
        "##*Loop*"
      ]
    },
    {
      "cell_type": "code",
      "execution_count": null,
      "metadata": {
        "id": "5I8R4gXjCIJV"
      },
      "outputs": [],
      "source": [
        "# Example 1: Iterating Over a List\n",
        "fruits = [\"apple\", \"banana\", \"cherry\"]\n",
        "for fruit in fruits:\n",
        "    print(fruit)\n",
        "    print(\"&\")"
      ]
    },
    {
      "cell_type": "code",
      "execution_count": null,
      "metadata": {
        "id": "4wsKY9HcEAyu"
      },
      "outputs": [],
      "source": [
        "# Example 2: Using the range() Function\n",
        "for i in range(5):\n",
        "    print(i)"
      ]
    },
    {
      "cell_type": "code",
      "execution_count": null,
      "metadata": {
        "id": "7J9vheafD132"
      },
      "outputs": [],
      "source": [
        "# Example 3: Looping Through a String\n",
        "for char in \"Python\":\n",
        "    print(char)"
      ]
    },
    {
      "cell_type": "code",
      "execution_count": null,
      "metadata": {
        "id": "eWYdWwIuEFJV"
      },
      "outputs": [],
      "source": [
        "a=[3,7,2,4,9]\n",
        "for i in a:\n",
        "  if i % 2 == 0:\n",
        "    print(i)"
      ]
    },
    {
      "cell_type": "code",
      "execution_count": null,
      "metadata": {
        "id": "TOlT_rEBE0Wt"
      },
      "outputs": [],
      "source": [
        "a=[3,7,2,4,9]\n",
        "sum=0\n",
        "for x in a:\n",
        "  sum+=x\n",
        "print(x)"
      ]
    },
    {
      "cell_type": "code",
      "execution_count": null,
      "metadata": {
        "id": "gBtRm-EfMbaV"
      },
      "outputs": [],
      "source": [
        "numbers = [3, 5, 2, 8, 1]\n",
        "max_number = numbers[0]\n",
        "\n",
        "for number in numbers:\n",
        "    if number > max_number:\n",
        "        max_number = number\n",
        "\n",
        "print(\"Maximum value:\", max_number)"
      ]
    },
    {
      "cell_type": "code",
      "execution_count": null,
      "metadata": {
        "id": "KzTGjO3xMexd"
      },
      "outputs": [],
      "source": [
        "for i in range(0, 11, 2):\n",
        "    print(i)"
      ]
    },
    {
      "cell_type": "code",
      "execution_count": null,
      "metadata": {
        "id": "53nQr93CZmkp"
      },
      "outputs": [],
      "source": [
        "list_of_lists ="
      ]
    },
    {
      "cell_type": "markdown",
      "metadata": {
        "id": "F4d_w9S1KQ3S"
      },
      "source": [
        "### *For Loops*\n",
        "A for loop is used for iterating over a sequence (such as a list, tuple, string, or range). The basic syntax of a for loop is:\n"
      ]
    },
    {
      "cell_type": "code",
      "execution_count": null,
      "metadata": {
        "id": "bQo73X-CKaJS"
      },
      "outputs": [],
      "source": [
        "#for variable in sequence:\n",
        "    # code block to be executed"
      ]
    },
    {
      "cell_type": "code",
      "execution_count": null,
      "metadata": {
        "id": "lfqqT85IKpC6"
      },
      "outputs": [],
      "source": [
        "# Example 1: Iterating Over a List\n",
        "fruits = [\"apple\", \"banana\", \"cherry\"]\n",
        "for fruit in fruits:\n",
        "    print(fruit)"
      ]
    },
    {
      "cell_type": "code",
      "execution_count": null,
      "metadata": {
        "id": "dxa6y6_RKtU0"
      },
      "outputs": [],
      "source": [
        "# Example 2: Using the range() Function\n",
        "for i in range(5):\n",
        "    print(i)"
      ]
    },
    {
      "cell_type": "code",
      "execution_count": null,
      "metadata": {
        "id": "7ddVjsfvK33j"
      },
      "outputs": [],
      "source": [
        "# Example 3: Looping Through a String\n",
        "for char in \"Python\":\n",
        "    print(char)"
      ]
    },
    {
      "cell_type": "code",
      "execution_count": null,
      "metadata": {
        "id": "BoqKMiuZMIeu"
      },
      "outputs": [],
      "source": [
        "numbers = [1, 2, 3, 4, 5]\n",
        "total = 0\n",
        "\n",
        "for number in numbers:\n",
        "    total += number\n",
        "\n",
        "print(\"Sum:\", total)"
      ]
    },
    {
      "cell_type": "code",
      "execution_count": null,
      "metadata": {
        "id": "h7cMOJ0eMMCk"
      },
      "outputs": [],
      "source": [
        "numbers = [3, 5, 2, 8, 1]\n",
        "max_number = numbers[0]\n",
        "\n",
        "for number in numbers:\n",
        "    if number > max_number:\n",
        "        max_number = number\n",
        "\n",
        "print(\"Maximum value:\", max_number)\n"
      ]
    },
    {
      "cell_type": "code",
      "execution_count": null,
      "metadata": {
        "id": "t13GGnJVMPmc"
      },
      "outputs": [],
      "source": [
        "for i in range(0, 11, 2):\n",
        "    print(i)"
      ]
    },
    {
      "cell_type": "code",
      "execution_count": null,
      "metadata": {
        "id": "ntAurkJKMzhH"
      },
      "outputs": [],
      "source": [
        "for i in range(11, 0, -2):\n",
        "    print(i)"
      ]
    },
    {
      "cell_type": "code",
      "execution_count": null,
      "metadata": {
        "id": "egkT3nv9McvG"
      },
      "outputs": [],
      "source": [
        "original_string = \"Python\"\n",
        "reversed_string = \"\"\n",
        "\n",
        "for char in original_string:\n",
        "    reversed_string = char + reversed_string\n",
        "\n",
        "print(\"Reversed string:\", reversed_string)"
      ]
    },
    {
      "cell_type": "code",
      "execution_count": null,
      "metadata": {
        "id": "uiJHh_5fMiIO"
      },
      "outputs": [],
      "source": [
        "squares = [x**2 for x in range(1, 11)]\n",
        "print(squares)"
      ]
    },
    {
      "cell_type": "code",
      "execution_count": null,
      "metadata": {
        "id": "NVnJ2xZ9LLbc"
      },
      "outputs": [],
      "source": [
        "### While Loops\n"
      ]
    },
    {
      "cell_type": "markdown",
      "metadata": {
        "id": "Tl128bSwLQch"
      },
      "source": [
        "A while loop repeatedly executes a block of code as long as a specified condition is True. The basic syntax of a while loop is:"
      ]
    },
    {
      "cell_type": "code",
      "execution_count": null,
      "metadata": {
        "id": "eAnxKqoDLRdG"
      },
      "outputs": [],
      "source": [
        "#while condition:\n",
        "    # code block to be executed"
      ]
    },
    {
      "cell_type": "code",
      "execution_count": null,
      "metadata": {
        "id": "2jDv2fXCLUW-"
      },
      "outputs": [],
      "source": [
        "# Example 1: Basic While Loop\n",
        "count = 0\n",
        "while count < 5:\n",
        "    print(count)\n",
        "    count += 1"
      ]
    },
    {
      "cell_type": "code",
      "execution_count": null,
      "metadata": {
        "id": "VZ1Yt-dodfeH"
      },
      "outputs": [],
      "source": [
        "x=int(input(\"How many number you want to input: \"))\n",
        "cnt= 0\n",
        "lis= []\n",
        "while cnt < x:\n",
        "  a= int(input(\"enter the number: \"))\n",
        "  lis.append(a)\n",
        "  cnt+= 1\n",
        "\n",
        "print (lis)"
      ]
    },
    {
      "cell_type": "markdown",
      "metadata": {
        "id": "8l88qohzLh5M"
      },
      "source": [
        "### *Break and continue*"
      ]
    },
    {
      "cell_type": "markdown",
      "metadata": {
        "id": "gZ2xjUDHLk8u"
      },
      "source": [
        "break statement: Exits the loop prematurely.\n",
        "break statement: Exits the loop prematurely."
      ]
    },
    {
      "cell_type": "code",
      "execution_count": null,
      "metadata": {
        "id": "wqgXWRCCLrHq"
      },
      "outputs": [],
      "source": [
        "# using break\n",
        "for num in range(10):\n",
        "    if num == 5:\n",
        "        break\n",
        "    print(num)"
      ]
    },
    {
      "cell_type": "code",
      "execution_count": null,
      "metadata": {
        "id": "_G6YkcQ_Lux8"
      },
      "outputs": [],
      "source": [
        "# Using continue\n",
        "for num in range(10):\n",
        "    if num % 2 == 0:\n",
        "        continue\n",
        "    print(num)"
      ]
    },
    {
      "cell_type": "markdown",
      "metadata": {
        "id": "6QNT-BC3L0b3"
      },
      "source": [
        "### Nested loop\n",
        "Loops can be nested within other loops. This is useful for working with multi-dimensional data structures, such as lists of lists."
      ]
    },
    {
      "cell_type": "code",
      "execution_count": null,
      "metadata": {
        "id": "lNzLGAmLL5z6"
      },
      "outputs": [],
      "source": [
        "for i in range(3):\n",
        "    for j in range(2):\n",
        "        print(f\"i: {i}, j: {j}\")"
      ]
    },
    {
      "cell_type": "code",
      "execution_count": null,
      "metadata": {
        "id": "TB2jbsOFMovE"
      },
      "outputs": [],
      "source": [
        "for i in range(1, 6):\n",
        "    for j in range(1, 6):\n",
        "        print(f\"{i} * {j} = {i * j}\", end=\"\\t\")\n",
        "    print()"
      ]
    },
    {
      "cell_type": "markdown",
      "metadata": {
        "id": "Cl3SA3_WiEBC"
      },
      "source": [
        "## Sequence Data type\n",
        "1. String\n",
        "2. List\n",
        "3. Tupe"
      ]
    },
    {
      "cell_type": "markdown",
      "metadata": {
        "id": "V2Wlbn5izuIC"
      },
      "source": [
        "### String\n"
      ]
    },
    {
      "cell_type": "code",
      "execution_count": null,
      "metadata": {
        "id": "kkJIOgkswh_1"
      },
      "outputs": [],
      "source": [
        "#Using single quote\n",
        "String1 = 'Welcome to the Geeks World'\n",
        "print(String1)\n",
        "\n",
        "#Using double quote\n",
        "String1 = \"I'm a Geek\"\n",
        "print(String1)\n",
        "print(type(String1))\n",
        "\n",
        "#Using triple quote\n",
        "String1 = '''I'm a Geek and I live in a world of \"Geeks\"'''\n",
        "print(String1)\n",
        "print(type(String1))\n",
        "\n",
        "String1 = 'This is a linebreak \\n I\\'m using quote by adding backslash'\n",
        "print(String1)\n",
        "\n",
        "String1 = '''Geeks\n",
        "            For\n",
        "            Life'''\n",
        "print(String1)"
      ]
    },
    {
      "cell_type": "code",
      "execution_count": null,
      "metadata": {
        "id": "f69un-gBxKl7"
      },
      "outputs": [],
      "source": [
        "#Access character using index\n",
        "\n",
        "String1 = \"Introduction to python\"\n",
        "print(String1)\n",
        "print(String1[0])\n",
        "print(String1[5])\n",
        "print(String1[10])\n"
      ]
    },
    {
      "cell_type": "code",
      "execution_count": null,
      "metadata": {
        "id": "9oSg1Umv9oHA"
      },
      "outputs": [],
      "source": [
        "#Negative index\n",
        "print(String1[-1])\n",
        "print(String1[-2])"
      ]
    },
    {
      "cell_type": "code",
      "execution_count": null,
      "metadata": {
        "id": "1RqY-Pcr9jJ1"
      },
      "outputs": [],
      "source": [
        "#Slice\n",
        "print(String1[0:5])\n",
        "print(String1[:5])\n",
        "print(String1[5:])"
      ]
    },
    {
      "cell_type": "code",
      "execution_count": null,
      "metadata": {
        "id": "an2pfmK09lih"
      },
      "outputs": [],
      "source": [
        "\n",
        "date = \"2024-05-29\"\n",
        "year = date[:4]\n",
        "month = date[5:7]\n",
        "day = date[8:]\n",
        "print(year, month, day)"
      ]
    },
    {
      "cell_type": "code",
      "execution_count": null,
      "metadata": {
        "id": "kSglIVVbyujP"
      },
      "outputs": [],
      "source": [
        "#Add to string\n",
        "\n",
        "s = \"introduction\"\n",
        "print(s)\n",
        "s = s + \" to\"\n",
        "print(s)\n",
        "s += \" python!\"\n",
        "print(s)\n",
        "\n",
        "#Removing\n",
        "s = s[:16]\n",
        "print(s)\n",
        "\n",
        "#Replace\n",
        "s = s.replace(\"introduction\", \"Welcome\")\n",
        "print(s)"
      ]
    },
    {
      "cell_type": "markdown",
      "metadata": {
        "id": "mCOgRN831hK3"
      },
      "source": [
        "###List\n",
        "\n",
        "In Python, a list is like a container that holds multiple items in a particular order. Think of it as a shopping list where you can jot down different items you need to buy. Lists are one of the most versatile and fundamental data structures in Python."
      ]
    },
    {
      "cell_type": "code",
      "execution_count": null,
      "metadata": {
        "id": "1-kJVzgp0lO6"
      },
      "outputs": [],
      "source": [
        "fruits = ['mango', 'banana']\n",
        "print(\"Full List: \", fruits)\n",
        "\n",
        "print(\"fruits[0]: \", fruits[0])\n",
        "print(\"fruits[1]: \", fruits[1])\n",
        "# print(\"fruits[2]: \", fruits[2])"
      ]
    },
    {
      "cell_type": "code",
      "execution_count": null,
      "metadata": {
        "id": "rCBl_9_D9vVF"
      },
      "outputs": [],
      "source": [
        "#Negative index\n",
        "print(fruits[-1])\n",
        "print(fruits[-2])"
      ]
    },
    {
      "cell_type": "code",
      "execution_count": null,
      "metadata": {
        "id": "zJ13UtsJ1khM"
      },
      "outputs": [],
      "source": [
        "# append\n",
        "fruits.append('apple')\n",
        "print(\"append apple: \", fruits)\n",
        "fruits.append(\"jackfruit\")\n",
        "print(\"append jackfruit: \", fruits)"
      ]
    },
    {
      "cell_type": "code",
      "execution_count": null,
      "metadata": {
        "id": "fEMMG0_t2xp3"
      },
      "outputs": [],
      "source": [
        "# insert\n",
        "fruits.insert(1, \"Orange\")\n",
        "print(\"insert Orange: \", fruits)"
      ]
    },
    {
      "cell_type": "code",
      "execution_count": null,
      "metadata": {
        "id": "PywxqVWu20gm"
      },
      "outputs": [],
      "source": [
        "#extend\n",
        "fruits1 = [\"Orange\", \"Apple\", \"Blueberry\"]\n",
        "fruits2 = [\"Guava\", \"Mango\"]\n",
        "\n",
        "fruits1.extend(fruits2)\n",
        "print(\"Fruits1 extend fruits2\", fruits1)\n",
        "print(\"Fruits2: \", fruits2)\n",
        "\n",
        "fruits1.extend([\"Banana\", \"Orange\"])\n",
        "print(\"Fruits1 extend again\", fruits1)"
      ]
    },
    {
      "cell_type": "code",
      "execution_count": null,
      "metadata": {
        "id": "Zdx9-91s8eB-"
      },
      "outputs": [],
      "source": [
        "print(\"Count Orange:\", fruits1.count(\"Orange\"))\n",
        "print(\"Index of Orange\", fruits1.index(\"Orange\"))\n",
        "print(\"Index of Blueberry\", fruits1.index(\"Blueberry\"))"
      ]
    },
    {
      "cell_type": "code",
      "execution_count": null,
      "metadata": {
        "id": "QFoFvD0h3EtW"
      },
      "outputs": [],
      "source": [
        "#remove\n",
        "fruits1 = ['Orange', 'Apple', 'Blueberry', 'Guava', 'Mango', 'Banana', 'Orange']\n",
        "fruits1.remove(\"Orange\")\n",
        "print(\"After removing Orange 1st time\", fruits1)\n",
        "\n",
        "fruits1.remove(\"Orange\")\n",
        "print(\"After removing Orange 2nd time\", fruits1)\n",
        "\n",
        "fruits1.remove(\"Orange\")\n",
        "print(\"After removing Orange 3rd time\", fruits1)"
      ]
    },
    {
      "cell_type": "code",
      "execution_count": null,
      "metadata": {
        "id": "XtkSlNow3wEB"
      },
      "outputs": [],
      "source": [
        "#pop\n",
        "fruits1.pop()\n",
        "print(\"Fruits pop 1st time\", fruits1)\n",
        "\n",
        "fruits1.pop()\n",
        "print(\"Fruits pop 2nd time\", fruits1)"
      ]
    },
    {
      "cell_type": "code",
      "execution_count": null,
      "metadata": {
        "id": "AKQtL-Dd4QGq"
      },
      "outputs": [],
      "source": [
        "#del\n",
        "del fruits1[0]\n",
        "print(\"Delete 0th indexed element\", fruits1)\n",
        "\n",
        "del fruits1[1]\n",
        "print(\"Delete 1th indexed element\", fruits1)"
      ]
    },
    {
      "cell_type": "code",
      "execution_count": null,
      "metadata": {
        "id": "B01Q10g04S-J"
      },
      "outputs": [],
      "source": [
        "#clear\n",
        "fruits1.clear()\n",
        "print(fruits1)"
      ]
    },
    {
      "cell_type": "markdown",
      "metadata": {
        "id": "b8UDDKgi82Ay"
      },
      "source": [
        "###Tuples\n",
        "Tuples and list are almost same but Tuples are immutable sequences where list is not. Meaning once a tuple is created, its elements cannot be changed, added, or removed so methods like extend, append, insert, pop, remove aren't possible in tuples"
      ]
    },
    {
      "cell_type": "code",
      "execution_count": null,
      "metadata": {
        "id": "VEnYe9Kq4i3m"
      },
      "outputs": [],
      "source": [
        "t1 = (1, 2, 3)\n",
        "t2 = 1, 2, 3\n",
        "\n",
        "print(t1)\n",
        "print(t2)\n"
      ]
    },
    {
      "cell_type": "code",
      "execution_count": null,
      "metadata": {
        "id": "mRauHpx19OWn"
      },
      "outputs": [],
      "source": [
        "t = (1, 2, 3)\n",
        "print(t[0])  # Output: 1\n",
        "print(t[1])  # Output: 2"
      ]
    },
    {
      "cell_type": "code",
      "execution_count": null,
      "metadata": {
        "id": "I_SWymbl9Q9O"
      },
      "outputs": [],
      "source": [
        "t = (1, 2, 3)\n",
        "print(t[-1])  # Output: 3\n",
        "print(t[-2])  # Output: 2"
      ]
    },
    {
      "cell_type": "code",
      "execution_count": null,
      "metadata": {
        "id": "0_wjYzxd9UFn"
      },
      "outputs": [],
      "source": [
        "t = (1, 2, 3, 4, 5)\n",
        "print(t[1:3])   # Output: (2, 3)\n",
        "print(t[:3])    # Output: (1, 2, 3)\n",
        "print(t[3:])    # Output: (4, 5)"
      ]
    },
    {
      "cell_type": "code",
      "execution_count": null,
      "metadata": {
        "id": "Roe0MCqz9WBS"
      },
      "outputs": [],
      "source": [
        "t = (1, 2, 3, 4)\n",
        "\n",
        "# Convert to list\n",
        "lst = list(t)\n",
        "\n",
        "# Modify the list\n",
        "lst[1] = 5\n",
        "\n",
        "# Convert back to tuple\n",
        "t = tuple(lst)\n",
        "print(t)  # Output: (1, 5, 3, 4)"
      ]
    },
    {
      "cell_type": "code",
      "execution_count": null,
      "metadata": {
        "id": "8ErG3XPN9ZSV"
      },
      "outputs": [],
      "source": [
        "#count\n",
        "t = (1, 2, 3, 2, 2, 4)\n",
        "print(t.count(2))  # Output: 3"
      ]
    },
    {
      "cell_type": "code",
      "execution_count": null,
      "metadata": {
        "id": "l4EQwPWw9b4p"
      },
      "outputs": [],
      "source": [
        "#index\n",
        "t = (1, 2, 3, 2, 4)\n",
        "print(t.index(2))  # Output: 1\n",
        "# print(t.index(5))  # Raises ValueError: tuple.index(x): x not in tuple"
      ]
    },
    {
      "cell_type": "markdown",
      "metadata": {
        "id": "lpQFLCWeP-yu"
      },
      "source": [
        "# **Class 6 (06/06/2024)**"
      ]
    },
    {
      "cell_type": "markdown",
      "metadata": {
        "id": "-ed9-YuXSM51"
      },
      "source": [
        "1. Dictionary"
      ]
    },
    {
      "cell_type": "markdown",
      "metadata": {
        "id": "5gnBq9DLSlOc"
      },
      "source": [
        "##Dictionary"
      ]
    },
    {
      "cell_type": "code",
      "execution_count": null,
      "metadata": {
        "id": "fVqYAWOySpOn"
      },
      "outputs": [],
      "source": [
        "#Creating a dictionary (method 1)\n",
        "my_dict={\n",
        "    'name': 'Alice',\n",
        "    'age':25,\n",
        "    'city': 'New York'\n",
        "}\n",
        "\n",
        "#creating a dictionary using the dict constructor (another method)\n",
        "my_dict= dict(name='Alice',age=25,city='New York')\n",
        "\n",
        "\n",
        "#accessing a value\n",
        "name= my_dict['name']\n",
        "print(name) #output= Alic"
      ]
    },
    {
      "cell_type": "code",
      "execution_count": null,
      "metadata": {
        "id": "DeMrONEMT-zE"
      },
      "outputs": [],
      "source": [
        "#accessing a value safely\n",
        "name= my_dict.get('name')\n",
        "print(name)\n",
        "\n",
        "#using a defult value if key is not found\n",
        "country=my_dict.get('country', 'USA')\n",
        "print(country)"
      ]
    },
    {
      "cell_type": "code",
      "execution_count": null,
      "metadata": {
        "id": "JJxALG1NWFUN"
      },
      "outputs": [],
      "source": [
        "#Modifying a value\n",
        "my_dict['age'] =26\n",
        "print(my_dict['age'])"
      ]
    },
    {
      "cell_type": "code",
      "execution_count": null,
      "metadata": {
        "id": "Y-6uXX3TW4Xt"
      },
      "outputs": [],
      "source": [
        "#adding a key-value pair\n",
        "my_dict['email']='alice@example'\n",
        "print(my_dict)"
      ]
    },
    {
      "cell_type": "code",
      "execution_count": null,
      "metadata": {
        "id": "74sUS6RZYfh3"
      },
      "outputs": [],
      "source": [
        "#remove a new key-value pair using del\n",
        "del my_dict['city']\n",
        "print(my_dict)"
      ]
    },
    {
      "cell_type": "code",
      "execution_count": null,
      "metadata": {
        "id": "-9_Cr_KGZ2Ka"
      },
      "outputs": [],
      "source": [
        "#removing a key-value pair using pop\n",
        "age= my_dict.pop('age')\n",
        "print(age)\n",
        "print(my_dict)"
      ]
    },
    {
      "cell_type": "markdown",
      "metadata": {
        "id": "wb5hhLkyaN-D"
      },
      "source": [
        "##Dictionary Method"
      ]
    },
    {
      "cell_type": "markdown",
      "metadata": {
        "id": "Yr_j1q2cayvD"
      },
      "source": [
        "\n",
        "\n",
        "*   Key()\n",
        "*   values()\n",
        "*   items()\n",
        "*   update()\n",
        "\n",
        "\n",
        "\n"
      ]
    },
    {
      "cell_type": "code",
      "execution_count": null,
      "metadata": {
        "id": "17wl5ApRbF7u"
      },
      "outputs": [],
      "source": [
        "#Dictionary methos\n",
        "keys=my_dict.keys()\n",
        "print(keys)\n",
        "\n",
        "values= my_dict.values()\n",
        "print(values)\n",
        "\n",
        "items = my_dict.items()\n",
        "print(items)\n",
        "\n",
        "#Update the dictoionary\n",
        "\n",
        "my_dict.update({'town': 'Los Angeles', 'phone': '123-456-7890'})\n",
        "print(my_dict)"
      ]
    },
    {
      "cell_type": "code",
      "execution_count": null,
      "metadata": {
        "id": "4LuWnFoNb5DT"
      },
      "outputs": [],
      "source": [
        "#Iterative over key\n",
        "for key in my_dict:\n",
        "  print (key,my_dict[key])\n",
        "\n",
        "#Iteraing over values\n",
        "\n",
        "for value in my_dict.values():\n",
        "  print(value)\n",
        "\n",
        "#Iteratiove over key-value pairs\n",
        "for key,value in my_dict.items():\n",
        "  print(key,value)"
      ]
    },
    {
      "cell_type": "code",
      "execution_count": null,
      "metadata": {
        "id": "zwOaavD6eFRD"
      },
      "outputs": [],
      "source": [
        "my={\n",
        "    'name': 'Md Mominul Islam',\n",
        "    'regino': '2019135158',\n",
        "    'semester': '7th',\n",
        "    'session': '2019-20',\n",
        "    'email': 'mominul.sust2020@gmail.com',\n",
        "    'address': 'Shahporan Hall, SUST',\n",
        "    'department': 'GEE'\n",
        "}\n",
        "\n",
        "#Access a value\n",
        "print (my['name'])\n",
        "print (my['regino'])"
      ]
    },
    {
      "cell_type": "code",
      "execution_count": null,
      "metadata": {
        "id": "x23M2gwReShb"
      },
      "outputs": [],
      "source": [
        "#modify a value\n",
        "my['department']='Geography and Environment'\n",
        "print (my)"
      ]
    },
    {
      "cell_type": "code",
      "execution_count": null,
      "metadata": {
        "id": "qj2nBXREgb-j"
      },
      "outputs": [],
      "source": [
        "#add a new key-value pair\n",
        "\n",
        "del my['address']\n",
        "print(my)"
      ]
    },
    {
      "cell_type": "code",
      "execution_count": null,
      "metadata": {
        "id": "FP1rEMD1gsKq"
      },
      "outputs": [],
      "source": [
        "#using dictionary method\n",
        "print(my.keys())\n",
        "print (my.values())\n",
        "print(my.items())"
      ]
    },
    {
      "cell_type": "code",
      "execution_count": null,
      "metadata": {
        "id": "LhXUDcDChVFp"
      },
      "outputs": [],
      "source": [
        "#Iterating over dictionary\n",
        "for key, value in my.items():\n",
        "  print (key,value)"
      ]
    },
    {
      "cell_type": "code",
      "execution_count": null,
      "metadata": {
        "id": "K3ls0jivsZxI"
      },
      "outputs": [],
      "source": [
        "##counting values in a list\n",
        "lis=[1,2,3,4,4,6,8,0,10]\n",
        "count_dict={}\n",
        "for num in lis:\n",
        "  existing_count=count_dict.get(num)\n",
        "  if (existing_count == None):\n",
        "    count_dict[num]=0\n",
        "  count_dict[num]+=1\n",
        "for key, value in count_dict.items():\n",
        "  print (key,value)\n"
      ]
    },
    {
      "cell_type": "code",
      "execution_count": null,
      "metadata": {
        "id": "rRp2dvY3wedf"
      },
      "outputs": [],
      "source": [
        "word=[\"Thank you for your help. Thank you so much\"]\n",
        "word_str = word[0]\n",
        "lis= word_str.split( )\n",
        "count_dict={}\n",
        "for num in lis:\n",
        "  existing_count=count_dict.get(num)\n",
        "  if (existing_count == None):\n",
        "    count_dict[num]=0\n",
        "  count_dict[num]+=1\n",
        "for key, value in count_dict.items():\n",
        "  print (key,value)"
      ]
    },
    {
      "cell_type": "code",
      "execution_count": null,
      "metadata": {
        "id": "4uR2owcIxvk3"
      },
      "outputs": [],
      "source": [
        "word=[\"MOMINUL\"]\n",
        "for lis in word:\n",
        "\n",
        "  count_dict={}\n",
        "  for num in lis:\n",
        "    existing_count=count_dict.get(num)\n",
        "    if (existing_count == None):\n",
        "      count_dict[num]=0\n",
        "    count_dict[num]+=1\n",
        "  for key, value in count_dict.items():\n",
        "    print(key,value)"
      ]
    },
    {
      "cell_type": "code",
      "execution_count": null,
      "metadata": {
        "id": "y186mnys1uIO"
      },
      "outputs": [],
      "source": [
        "w = [\"Mominul\"]\n",
        "word = \" \".join(w)  # Convert the list to a string.\n",
        "word = word.lower()\n",
        "for lis in word:\n",
        "\n",
        "  count_dict={}\n",
        "  for num in lis:\n",
        "    existing_count=count_dict.get(num)\n",
        "    if (existing_count == None):\n",
        "      count_dict[num]=0\n",
        "    count_dict[num]+=1\n",
        "  for key, value in count_dict.items():\n",
        "    print(key,value)"
      ]
    },
    {
      "cell_type": "markdown",
      "metadata": {
        "id": "eQWyfyhF19Vr"
      },
      "source": [
        "#**Class 7 (23/06/2024)**"
      ]
    },
    {
      "cell_type": "markdown",
      "metadata": {
        "id": "EZHTJTDZ5Wh6"
      },
      "source": [
        "##Class Exercise"
      ]
    },
    {
      "cell_type": "code",
      "execution_count": null,
      "metadata": {
        "collapsed": true,
        "id": "6AE8GJkD2GcL"
      },
      "outputs": [],
      "source": [
        "#exercise-1 || There number rang is 1 to 100, print them which follow (num %3==0) using loop\n",
        "for num in range(1,101):\n",
        "  if num % 3 == 0:\n",
        "    print(num)"
      ]
    },
    {
      "cell_type": "code",
      "execution_count": null,
      "metadata": {
        "id": "WKSTPdEd69Zh"
      },
      "outputs": [],
      "source": [
        "#result = [num for num in range(1, 101) if num % 3 == 0]\n",
        "#print(result)\n",
        "\n",
        "numbers= list(range(1,100))\n",
        "result=[]\n",
        "for num in numbers:\n",
        "  if num % 3 == 0:\n",
        "    result.append(num)\n",
        "print(result)\n",
        "#print(num)"
      ]
    },
    {
      "cell_type": "code",
      "execution_count": null,
      "metadata": {
        "id": "aF6-Rhb721GK"
      },
      "outputs": [],
      "source": [
        "# Exercise 2|| Dictionary example\n",
        "my={\n",
        "    'name': 'ABC',\n",
        "    'regino': '2019135158',\n",
        "    'semester': '7th',\n",
        "    'session': '2019-20',\n",
        "    'email': 'xyz@gmail.com',\n",
        "    'address': 'Shahporan Hall, SUST',\n",
        "    'department': 'GEE'\n",
        "}\n",
        "\n",
        "#Access a value\n",
        "print (my['name'])\n",
        "print (my['regino'])"
      ]
    },
    {
      "cell_type": "code",
      "execution_count": null,
      "metadata": {
        "id": "dxgyaoPV4ebL"
      },
      "outputs": [],
      "source": [
        "del my['address']\n",
        "del my['department']\n",
        "print(my)"
      ]
    },
    {
      "cell_type": "code",
      "execution_count": null,
      "metadata": {
        "id": "uVZjra1X5MNI"
      },
      "outputs": [],
      "source": [
        "#using dictionary method\n",
        "print(my.keys())\n",
        "print (my.values())\n",
        "print(my.items())"
      ]
    },
    {
      "cell_type": "markdown",
      "metadata": {
        "id": "nTfksm-pEAhw"
      },
      "source": [
        "##Set"
      ]
    },
    {
      "cell_type": "markdown",
      "metadata": {
        "id": "S-l7o3IcSjvj"
      },
      "source": [
        "In Python, a set is an unordered collection of unique elements. It's defined by enclosing comma-separated elements within curly braces {} or by using the set() constructor.\n",
        "\n",
        "*Key characteristics of sets:*\n",
        "\n",
        "Unordered: Elements have no defined order, so indexing or slicing is not supported.\n",
        "\n",
        "Unique: Duplicate elements are automatically eliminated.\n",
        "\n",
        "Mutable: You can add or remove elements after creation."
      ]
    },
    {
      "cell_type": "code",
      "execution_count": null,
      "metadata": {
        "id": "r5PwIq4kRCsO"
      },
      "outputs": [],
      "source": [
        "#crewating a set with curly braces\n",
        "my_set= {1,2,3,4,5}\n",
        "print(my_set)\n",
        "\n",
        "#creating a set from a list using the set function\n",
        "my_set= set([1,2,3,4,5])\n",
        "print(my_set)\n",
        "\n",
        "#creating a set from a string\n",
        "my_set= set('hello')\n",
        "print(my_set)"
      ]
    },
    {
      "cell_type": "code",
      "execution_count": null,
      "metadata": {
        "id": "4so8GOELR6s0"
      },
      "outputs": [],
      "source": [
        "#Adding s single element\n",
        "my_set={1,2,3}\n",
        "my_set.add(4)\n",
        "print(my_set) #output= {1, 2, 3, 4}\n",
        "\n",
        "#Adding multiple elements\n",
        "my_set.update([5,6,7])\n",
        "print(my_set) #output= {1, 2, 3, 4, 5, 6, 7}\n",
        "\n"
      ]
    },
    {
      "cell_type": "code",
      "execution_count": null,
      "metadata": {
        "id": "S29bZ_yDTM40"
      },
      "outputs": [],
      "source": [
        "#Removing an element\n",
        "my_set={1,2,3,4}\n",
        "my_set.remove(3)\n",
        "print(my_set) #output= {1, 2, 4}\n",
        "\n",
        "#Removing an element that doesn't exist using discard (no error)\n",
        "my_set.discard(5)\n",
        "print(my_set) #output= {1, 2, 4}\n",
        "\n"
      ]
    },
    {
      "cell_type": "code",
      "execution_count": null,
      "metadata": {
        "id": "6D8uHCIVUFeF"
      },
      "outputs": [],
      "source": [
        "#Clearing a set\n",
        "my_set={1,2,3,4}\n",
        "my_set.clear()\n",
        "print(my_set) #output= set()"
      ]
    },
    {
      "cell_type": "markdown",
      "metadata": {
        "id": "0aM-CHTCUXzs"
      },
      "source": [
        "###Set Operation"
      ]
    },
    {
      "cell_type": "code",
      "execution_count": null,
      "metadata": {
        "id": "4Rze-TBrUcbV"
      },
      "outputs": [],
      "source": [
        "#Creatin a set\n",
        "set_a={1,2,3}\n",
        "set_b={3,4,5}\n",
        "\n",
        "#Union\n",
        "union_set= set_a.union(set_b)\n",
        "print(union_set) #output= {1, 2, 3, 4, 5}\n",
        "\n",
        "#Intersection\n",
        "intersection_set= set_a.intersection(set_b)\n",
        "print(intersection_set) #output= {3}\n",
        "\n",
        "#Difference\n",
        "difference_set= set_a.difference(set_b)\n",
        "print(difference_set) #output= {1, 2}\n",
        "\n",
        "#Symmetric Difference\n",
        "symmetric_difference_set= set_a.symmetric_difference(set_b)\n",
        "print(symmetric_difference_set) #output= {1, 2, 4, 5}"
      ]
    },
    {
      "cell_type": "markdown",
      "metadata": {
        "id": "HHNhmG_-VFYl"
      },
      "source": [
        "###Set Comperisions"
      ]
    },
    {
      "cell_type": "code",
      "execution_count": null,
      "metadata": {
        "id": "vBafz85GVROE"
      },
      "outputs": [],
      "source": [
        "#subset\n",
        "set_a={1,2,3}\n",
        "set_b={1,2}\n",
        "\n",
        "print(set_b.issubset(set_a)) #output= True\n",
        "\n",
        "#Superset\n",
        "print(set_a.issuperset(set_b)) #output= True\n",
        "\n",
        "#Equality\n",
        "set_c={1,2,3}\n",
        "print(set_a==set_c) #output= True"
      ]
    },
    {
      "cell_type": "code",
      "execution_count": null,
      "metadata": {
        "id": "eL18hlNTVz_s"
      },
      "outputs": [],
      "source": [
        "#Iterating over a set\n",
        "my_set={1,2,3,4,5}\n",
        "for num in my_set:\n",
        "  print(num)"
      ]
    },
    {
      "cell_type": "code",
      "execution_count": null,
      "metadata": {
        "id": "s3hZxSxeV_yF"
      },
      "outputs": [],
      "source": [
        "#Full Example ( Suggested code may be subject to a licence |https://github.com/meghshah136/PDS-practicals)\n",
        "\n",
        "#creating sets\n",
        "set1={1,2,3,4}\n",
        "set2={3,4,5,6}\n",
        "\n",
        "#Add elements\n",
        "set1.add(7)\n",
        "set1.update([8,9])\n",
        "\n",
        "#Remove elements\n",
        "set1.remove(9)\n",
        "set1.discard(10) #no error if 10 is not the set\n",
        "\n",
        "#Union, Intersection, Difference, Symmetric Difference\n",
        "union_set= set1.union(set2)\n",
        "intersection_set= set1.intersection(set2)\n",
        "difference_set= set1.difference(set2)\n",
        "symmetric_difference_set= set1.symmetric_difference(set2)\n",
        "\n",
        "#Subset, Superset, Equality\n",
        "subset= set2.issubset(set1)\n",
        "superset= set1.issuperset(set2)\n",
        "equality= set1==set2\n",
        "\n",
        "#print results\n",
        "print(set1)\n",
        "print(set2)\n",
        "print(union_set)\n",
        "print(intersection_set)\n",
        "print(difference_set)\n",
        "print(symmetric_difference_set)\n",
        "print(subset)\n",
        "print(superset)\n",
        "print(equality)"
      ]
    },
    {
      "cell_type": "markdown",
      "metadata": {
        "id": "LmiuWSBYJLqE"
      },
      "source": [
        "# **Class 8 (25/06/2024)**"
      ]
    },
    {
      "cell_type": "markdown",
      "metadata": {
        "id": "LLhPLQeIJWw6"
      },
      "source": [
        "##Function"
      ]
    },
    {
      "cell_type": "markdown",
      "metadata": {
        "id": "X_H3tA4nJl3J"
      },
      "source": [
        "In Python, a function is a block of reusable code that performs a specific task. It helps organize code, making it more readable and maintainable.\n",
        "\n",
        "To define a function, you use the def keyword followed by the function name, parentheses for parameters (if any), and a colon. The code to be executed within the function is indented"
      ]
    },
    {
      "cell_type": "code",
      "execution_count": null,
      "metadata": {
        "id": "kuXXyIRhJuIJ"
      },
      "outputs": [],
      "source": [
        "def my_funtion():\n",
        "  print(\"Hello from a function\")\n"
      ]
    },
    {
      "cell_type": "code",
      "execution_count": null,
      "metadata": {
        "id": "8hgqDn0uJ93y"
      },
      "outputs": [],
      "source": [
        "def my_funtion():\n",
        "  print(\"Hello from a funtion\")\n",
        "\n",
        "print(\"Before calling the function\")\n",
        "my_funtion()"
      ]
    },
    {
      "cell_type": "code",
      "execution_count": null,
      "metadata": {
        "id": "yfc9RWbtKnhI"
      },
      "outputs": [],
      "source": [
        "def my_funtion():\n",
        "  print(\"Hello from a function\")\n",
        "\n",
        "  print(\"Before calling the function\")\n",
        "my_funtion()"
      ]
    },
    {
      "cell_type": "code",
      "execution_count": null,
      "metadata": {
        "id": "7nFbYYObMKbu"
      },
      "outputs": [],
      "source": [
        "def my_details():\n",
        "  print(\"Name       : Md Mominul Islam\")\n",
        "  print(\"Reg No     : 2019135158\")\n",
        "  print(\"Semester   : 7th\")\n",
        "  print(\"Session    : 2019-20\")\n",
        "  print(\"Email      : mominul.sust2020@gmail.com\")\n",
        "  print(\"Address    : Shahporan Hall, SUST\")\n",
        "  print(\"Department : Geography and Environment\")\n",
        "  print(\"Phone No   : 01766418148\")\n",
        "\n",
        "print(\"Informtaion about me\")\n",
        "my_details()"
      ]
    },
    {
      "cell_type": "code",
      "execution_count": null,
      "metadata": {
        "id": "kYkMwM8WPD2U"
      },
      "outputs": [],
      "source": [
        "def isEven(num):\n",
        "  # Check if a number is even\n",
        "  if num % 2 == 0:\n",
        "    return True\n",
        "  else:\n",
        "    return False\n",
        "\n",
        "num= int(input(\"Enter a number: \"))\n",
        "if isEven(num):\n",
        "  print(f\"{num} is even\")\n",
        "else:\n",
        "  print(f\"{num} is odd\")"
      ]
    },
    {
      "cell_type": "code",
      "execution_count": null,
      "metadata": {
        "id": "tQegD50dK-ci"
      },
      "outputs": [],
      "source": [
        "#Arguments: Information can be passed into function as arguments\n",
        "def printName(name):\n",
        "  print(f\"Name is {name}\")\n",
        "name= input(\"Enter your name: \")\n",
        "printName(name)\n",
        "printName(\"Karim\")\n",
        "printName(\"name\")"
      ]
    },
    {
      "cell_type": "code",
      "execution_count": null,
      "metadata": {
        "id": "hWfUcH09QKsc"
      },
      "outputs": [],
      "source": [
        "def my_name(name):\n",
        "  print(f\"My Name is  : {name}\")\n",
        "name= input(\"Enter your name: \")\n",
        "\n",
        "def my_reg(reg):\n",
        "  print(f\"Reg No      : {reg}\")\n",
        "reg= input(\"Enter your Regi. no: \")\n",
        "\n",
        "def my_dept(dept):\n",
        "  print(f\"Department  : {dept}\")\n",
        "dept= input(\"Enter your Department: \")\n",
        "\n",
        "my_name(name)\n",
        "my_reg(reg)\n",
        "my_dept(dept)"
      ]
    },
    {
      "cell_type": "code",
      "execution_count": null,
      "metadata": {
        "id": "nADJCjZxVT7z"
      },
      "outputs": [],
      "source": [
        "#whre numbers= [3,7,8,9,10]\n",
        "def isEven (num):\n",
        "  if num % 2 == 0:\n",
        "    print (\"Even\")\n",
        "  else:\n",
        "    print(\"Odd\")\n",
        "\n",
        "numbers = [3,7,8,9,10]\n",
        "for num in numbers:\n",
        "  isEven(num)"
      ]
    },
    {
      "cell_type": "code",
      "execution_count": null,
      "metadata": {
        "id": "IlGhPW9rWozE"
      },
      "outputs": [],
      "source": [
        "def isEven (num):\n",
        "  if num % 2 == 0:\n",
        "    print (\"Even\")\n",
        "  else:\n",
        "    print(\"Odd\")\n",
        "\n",
        "numbers= [3,7,8,9,10]\n",
        "\n",
        "def test(n):\n",
        "  print(type(n))\n",
        "for num in numbers:\n",
        "  isEven(num)"
      ]
    },
    {
      "cell_type": "code",
      "execution_count": null,
      "metadata": {
        "id": "KgfxPg05j4NR"
      },
      "outputs": [],
      "source": [
        "def add(a,b):\n",
        "  print(f\"Sum of {a} and {b} is {a+b}\")\n",
        "add(4,5)\n",
        "add(24523,23455234)"
      ]
    },
    {
      "cell_type": "code",
      "execution_count": null,
      "metadata": {
        "id": "VEy1VGIfkVRo"
      },
      "outputs": [],
      "source": [
        "#Invalid number of parameter pass\n",
        "def add(a,b,c):\n",
        "  print(f\"Sum of {a} and {b} is {a+b}\")\n",
        "add(4,5)\n",
        "add(24523,23455234)"
      ]
    },
    {
      "cell_type": "code",
      "execution_count": null,
      "metadata": {
        "id": "IEZOSEl7kh1Y"
      },
      "outputs": [],
      "source": [
        "#Return from funtion\n",
        "def centimeterToInch(cm):\n",
        "  inch= cm*0.393701\n",
        "  return inch\n",
        "\n",
        "cm= int(input(\"Enter the centimeter: \"))\n",
        "inch= centimeterToInch(cm)\n",
        "print(f\"{cm} centimeter is equal to {inch} inch\")"
      ]
    },
    {
      "cell_type": "code",
      "execution_count": null,
      "metadata": {
        "id": "B1KAf3-DnHYg"
      },
      "outputs": [],
      "source": [
        "#Return from funtion\n",
        "def centimeterToInch(cm):\n",
        "  inch= cm*0.393701\n",
        "  return inch\n",
        "\n",
        "cm_10= centimeterToInch(10)\n",
        "print(f\"10 centimeter is {cm_10} inch\")\n",
        "print(f\"15 centimeter is {centimeterToInch(15)} inch\")"
      ]
    },
    {
      "cell_type": "code",
      "execution_count": null,
      "metadata": {
        "id": "dXU0ombooVLn"
      },
      "outputs": [],
      "source": [
        "def details(name, age, dob, nationality):\n",
        "  return{\n",
        "      \"name\": name,\n",
        "      \"age\": age,\n",
        "      \"dob\": dob,\n",
        "      \"birth year\": dob[:4],\n",
        "      \"birth month\": dob[5:7],\n",
        "      \"birth day\": dob[8:],\n",
        "      \"nationality\": nationality\n",
        "  }\n",
        "MrZ = details (\"Mr. Z\", 36, \"1987-04-23\", \"Pakistani\")\n",
        "print(MrZ)"
      ]
    },
    {
      "cell_type": "code",
      "execution_count": null,
      "metadata": {
        "id": "aH0famAR8dYf"
      },
      "outputs": [],
      "source": [
        "def details(name, age, dob, nationality):\n",
        "  a={\n",
        "    \"name\": name,\n",
        "    \"age\": age,\n",
        "    \"dob\": dob,\n",
        "    \"birth year\": dob[:4],\n",
        "    \"birth month\": dob[5:7],\n",
        "    \"birth day\": dob[8:],\n",
        "    \"nationality\": nationality\n",
        "  }\n",
        "  return (a)\n",
        "dictonary = details (\"Mr. Z\", 36, \"1987-04-23\", \"Pakistani\")\n",
        "print(dictonary.keys())"
      ]
    },
    {
      "cell_type": "code",
      "execution_count": null,
      "metadata": {
        "id": "lPkxjtQpqZVu"
      },
      "outputs": [],
      "source": [
        "#Packing argumnets\n",
        "def pack(*args):\n",
        "  print(type(args))\n",
        "  print(args)\n",
        "\n",
        "pack(1,2,3,4) #output= <class 'tuple'>\n",
        "pack(1,2,3,4,5,6,7,8,9,10) #output= (1, 2, 3, 4, 5, 6, 7, 8, 9, 10)\n",
        "\n"
      ]
    },
    {
      "cell_type": "code",
      "execution_count": null,
      "metadata": {
        "id": "1No75Scoq5aw"
      },
      "outputs": [],
      "source": [
        "#Packing argumnets\n",
        "#Packing argumnets\n",
        "def details(*args):\n",
        "  # Unpack the arguments into individual variables\n",
        "  name, age, dob, nationality = args\n",
        "  return{\n",
        "      \"name\": name,\n",
        "      \"age\": age,\n",
        "      \"dob\": dob,\n",
        "      \"birth year\": dob[:4],\n",
        "      \"birth month\": dob[5:7],\n",
        "      \"birth day\": dob[8:],\n",
        "      \"nationality\": nationality\n",
        "  }\n",
        "\n",
        "Mr_Z = details(\"Mr. Z\", 36, \"1987-04-23\", \"Pakistani\") # Corrected variable name\n",
        "print(Mr_Z)"
      ]
    },
    {
      "cell_type": "code",
      "execution_count": null,
      "metadata": {
        "id": "g2Dekez-_Zc3"
      },
      "outputs": [],
      "source": [
        "#Unpacking arguments\n",
        "def unpack(a,b,c):\n",
        "  print(a,b,c)\n",
        "\n",
        "args= (1,2,3)\n",
        "unpack(*args) #output= 1 2 3"
      ]
    },
    {
      "cell_type": "code",
      "execution_count": null,
      "metadata": {
        "id": "J-Q5-ZTY_0Wo"
      },
      "outputs": [],
      "source": [
        "#Unpacking arguments\n",
        "def unpack(a,b,c):\n",
        "  print(a,b,c)\n",
        "\n",
        "args= (1,2,3,4)\n",
        "unpack(*args) #output= Error"
      ]
    },
    {
      "cell_type": "code",
      "execution_count": null,
      "metadata": {
        "id": "gg0vayERrqPf"
      },
      "outputs": [],
      "source": [
        "def details(name, age, dob, nationality):\n",
        "  return{\n",
        "      \"name\": name,\n",
        "      \"age\": age,\n",
        "      \"dob\": dob,\n",
        "      \"birth year\": dob[:4],\n",
        "      \"birth month\": dob[5:7],\n",
        "      \"birth day\": dob[8:],\n",
        "      \"nationality\": nationality\n",
        "  }\n",
        "arg = details (\"Mr. Z\", 36, \"1987-04-23\", \"Pakistani\")\n",
        "MrZ= details(*arg)\n",
        "print(MrZ)"
      ]
    },
    {
      "cell_type": "markdown",
      "metadata": {
        "id": "Tlmzkm2KdAqW"
      },
      "source": [
        "#**Class 9 (27/06/2024)**"
      ]
    },
    {
      "cell_type": "markdown",
      "metadata": {
        "id": "EA17JscarEax"
      },
      "source": [
        "## 3 Exercise"
      ]
    },
    {
      "cell_type": "markdown",
      "metadata": {
        "id": "bcI0d_4RfSoO"
      },
      "source": [
        "1. Take two integer input user. write  afucntion to recieve two parameter and return a list containing those 2 number in increasing order. from the main method, print out the list returned from the function"
      ]
    },
    {
      "cell_type": "code",
      "execution_count": null,
      "metadata": {
        "id": "irRfxTqlc_GO"
      },
      "outputs": [],
      "source": [
        "def two_numbers(a, b):\n",
        "  if a < b:\n",
        "    return [a, b]\n",
        "  else:\n",
        "    return [b, a]\n",
        "\n",
        "\n",
        "a = int(input(\"Enter the first number: \"))\n",
        "b = int(input(\"Enter the second number: \"))\n",
        "\n",
        "\n",
        "result = two_numbers(a, b)\n",
        "print(result)"
      ]
    },
    {
      "cell_type": "code",
      "execution_count": null,
      "metadata": {
        "id": "QoXlwemEjFln"
      },
      "outputs": [],
      "source": [
        "#Another solution\n",
        "def two_numbers(a, b):\n",
        "  numbers = [a, b]\n",
        "  numbers.sort()\n",
        "  return numbers\n",
        "\n",
        "a = int(input(\"Enter the first number: \"))\n",
        "b = int(input(\"Enter the second number: \"))\n",
        "\n",
        "result = two_numbers(a, b)\n",
        "print(result)"
      ]
    },
    {
      "cell_type": "code",
      "execution_count": null,
      "metadata": {
        "id": "82YOPskrjpV2"
      },
      "outputs": [],
      "source": [
        "#Another Solution\n",
        "\n",
        "a= int(input(\"Enter the first number: \"))\n",
        "b= int(input(\"Enter the second number: \"))\n",
        "\n",
        "lis=[]\n",
        "\n",
        "if a<b:\n",
        "  lis.append(a)\n",
        "  lis.append(b)\n",
        "else:\n",
        "  lis.append(b)\n",
        "  lis.append(a)\n",
        "\n",
        "print(lis)"
      ]
    },
    {
      "cell_type": "markdown",
      "metadata": {
        "id": "1ac03CSJfZ6V"
      },
      "source": [
        "2. Take 2 string input from user, write a function to recieve 2 parameter and return a dictionary in where thekey value is as dhown in the example. the dictionary will contain the string and its length. from the main method, point out the whole dictionary returned from the function.\n"
      ]
    },
    {
      "cell_type": "code",
      "execution_count": null,
      "metadata": {
        "id": "z9UzBupvgXdl"
      },
      "outputs": [],
      "source": [
        "def string(first, second):\n",
        "  return {\n",
        "      \"first\": len(first),\n",
        "      \"second\": len(second)\n",
        "  }\n",
        "\n",
        "first= input(\"Enter the first string: \")\n",
        "second = input(\"Enter the second string: \")\n",
        "result= string(first, second)\n",
        "print(result)\n"
      ]
    },
    {
      "cell_type": "code",
      "execution_count": null,
      "metadata": {
        "id": "1CU7e9x-kM7_"
      },
      "outputs": [],
      "source": [
        "#Another Solution using dictonary\n",
        "\n",
        "first= input(\"Enter the first string: \")\n",
        "second = input(\"Enter the second string: \")\n",
        "\n",
        "first_dic= dict(string= first, length= len(first))\n",
        "\n",
        "second_dic= {\n",
        "    \"string\": second,\n",
        "    \"length\": len(second)\n",
        "}\n",
        "\n",
        "dict_list= [first_dic, second_dic]\n",
        "print(dict_list)"
      ]
    },
    {
      "cell_type": "code",
      "execution_count": null,
      "metadata": {
        "id": "iUNO60VSnnFv"
      },
      "outputs": [],
      "source": [
        "#If smaller length take first place... then follow this step\n",
        "#-----------------------------------------------------------\n",
        "\n",
        "first= input(\"Enter the first string: \")\n",
        "second = input(\"Enter the second string: \")\n",
        "\n",
        "first_dic= dict(string= first, length= len(first))\n",
        "\n",
        "second_dic= {\n",
        "    \"string\": second,\n",
        "    \"length\": len(second)\n",
        "}\n",
        "\n",
        "#dict_list= [first_dic, second_dic]\n",
        "lis=[]\n",
        "\n",
        "if first_dic[\"length\"] < second_dic[\"length\"]:\n",
        "  lis.append(first_dic)\n",
        "  lis.append(second_dic)\n",
        "else:\n",
        "  lis.append(second_dic)\n",
        "  lis.append(first_dic)\n",
        "\n",
        "print(lis)\n"
      ]
    },
    {
      "cell_type": "markdown",
      "metadata": {
        "id": "T5Dtqt7rhxAH"
      },
      "source": [
        "3. Take three integer input from user. write a function to recieve 3 parameter and in the function insert them in a list in increasing order and return that. from the main method, print out the list returned from the function."
      ]
    },
    {
      "cell_type": "code",
      "execution_count": null,
      "metadata": {
        "id": "KFODdaWFiLrH"
      },
      "outputs": [],
      "source": [
        "def three_numbers(a, b, c):\n",
        "  numbers = [a, b, c]\n",
        "  numbers.sort()\n",
        "  return numbers\n",
        "\n",
        "a = int(input(\"Enter the first number: \"))\n",
        "b = int(input(\"Enter the second number: \"))\n",
        "c = int(input(\"Enter the third number: \"))\n",
        "\n",
        "result = three_numbers(a, b, c)\n",
        "print(result)"
      ]
    },
    {
      "cell_type": "markdown",
      "metadata": {
        "id": "I77OxrEi3zun"
      },
      "source": [
        "## Function Arguments"
      ]
    },
    {
      "cell_type": "markdown",
      "metadata": {
        "id": "1IDbrosr7MWn"
      },
      "source": [
        "Function arguments in python are the inputs passed to a function to execute a specific task. Arguments are enclosed within parentheses, separated by commas, and can be of any data type. Arguments are used to make the function more versatile and adaptable. In Python, there are several types of function arguments in python, let’s understand them briefly here then we will see all of them with the example:\n",
        "\n",
        "**Positional arguments:**\n",
        "These are arguments that are passed to a function in the order they are defined in the function’s parameter list.\n",
        "\n",
        "**Default arguments:** These are arguments that have default values assigned to them in the function definition. The default value will be used in the case when the argument is not provided in the function.\n",
        "\n",
        "**Keyword arguments:** These are arguments that are passed to a function with the parameter name explicitly specified. This allows the arguments to be passed in any order, as long as the parameter name is specified.\n",
        "\n",
        "**Variable-length arguments:** These are arguments that allow a function to accept an arbitrary number of arguments.\n",
        "In Python, there are two types of variable-length arguments: *args, which accepts a variable number of positional arguments, and **kwargs, which accepts a variable number of keyword arguments."
      ]
    },
    {
      "cell_type": "code",
      "execution_count": null,
      "metadata": {
        "id": "_B_ukT0v33o-"
      },
      "outputs": [],
      "source": [
        "#"
      ]
    },
    {
      "cell_type": "markdown",
      "metadata": {
        "id": "V6NuciRbIGz3"
      },
      "source": [
        "#**Class 10 (30/06/2024)**"
      ]
    },
    {
      "cell_type": "markdown",
      "metadata": {
        "id": "XBR-52yLS3Fz"
      },
      "source": [
        "## Practice Problem"
      ]
    },
    {
      "cell_type": "markdown",
      "metadata": {
        "id": "56pu5p_ZS4Og"
      },
      "source": [
        "### Problem 01\n",
        "You are given a list of daily temperatures for a week. Write a program to find the average temperature for the week and print it. Also, determine the highest and lowest temperatures recorded during the week."
      ]
    },
    {
      "cell_type": "code",
      "execution_count": null,
      "metadata": {
        "id": "ssVa57-U9Yfi"
      },
      "outputs": [],
      "source": [
        "#Solution\n",
        "#----------------------------------------------------------------------\n",
        "temp = [28, 30, 25, 28, 29, 27, 32]\n",
        "\n",
        "#The average temperature\n",
        "avg_temp= sum(temp) / len(temp)\n",
        "print(\"Average temperature for the week:\", avg_temp)\n",
        "\n",
        "highest_temp = max(temp)\n",
        "lowest_temp = min(temp)\n",
        "\n",
        "print(\"Highest temperature:\", highest_temp)\n",
        "print(\"Lowest temperature:\", lowest_temp)"
      ]
    },
    {
      "cell_type": "code",
      "execution_count": null,
      "metadata": {
        "id": "zmgo7Nhf9nKy"
      },
      "outputs": [],
      "source": [
        "#Another Solution (with for loop)\n",
        "#----------------------------------------------------------------------\n",
        "temperatures = [28, 30, 25, 28, 29, 27, 32]\n",
        "total_temp=0.0\n",
        "length = 0\n",
        "\n",
        "min_temp, max_temp = temperatures[0], temperatures[0]\n",
        "\n",
        "for temp in temperatures:\n",
        "  total_temp += temp\n",
        "  length += 1\n",
        "\n",
        "  if min_temp > temp:\n",
        "    min_temp = temp\n",
        "  if max_temp < temp:\n",
        "    max_temp = temp\n",
        "\n",
        "avg_temp = total_temp / length\n",
        "print(f\"Average temperature for the week: {avg_temp}, Min:{min_temp}, Max:{max_temp}\")\n"
      ]
    },
    {
      "cell_type": "markdown",
      "metadata": {
        "id": "sEblSVJkS-WW"
      },
      "source": [
        "### Problem 02\n",
        "You have two sets of email addresses: one from a newsletter signup form and another from a purchase form on your website. Write a program to find and print the email addresses that appear in both sets."
      ]
    },
    {
      "cell_type": "markdown",
      "source": [],
      "metadata": {
        "id": "_ayMd3z49dP6"
      }
    },
    {
      "cell_type": "code",
      "execution_count": null,
      "metadata": {
        "id": "b1zefXeD9gnD"
      },
      "outputs": [],
      "source": [
        "#Solution\n",
        "#------------------------------------------------------------------------------\n",
        "newsletter_emails = {\"rahim@gmail.com\", \"karim@gmail.com\", \"abdul@gmail.com\"}\n",
        "purchase_emails = {\"karim@gmail.com\", \"mehedi@gmail.com\", \"hasan@egmail.com\"}\n",
        "\n",
        "common_emails = newsletter_emails.intersection(purchase_emails)\n",
        "\n",
        "print(\"Common email addresses:\", common_emails)"
      ]
    },
    {
      "cell_type": "code",
      "execution_count": null,
      "metadata": {
        "id": "Cz7byuRgFArP"
      },
      "outputs": [],
      "source": [
        "#Another Solution\n",
        "#--------------------------------------\n",
        "newsletter_emails = {\"rahim@gmail.com\", \"karim@gmail.com\", \"abdul@gmail.com\"}\n",
        "purchase_emails = {\"karim@gmail.com\", \"mehedi@gmail.com\", \"hasan@egmail.com\"}\n",
        "\n",
        "common_emails=[]\n",
        "for newsletter_email in newsletter_emails:\n",
        "  for purchase_email in purchase_emails:\n",
        "    if newsletter_email == purchase_email:\n",
        "      common_emails.append(newsletter_email)\n",
        "\n",
        "print(\"Common email addresses:\", common_emails)"
      ]
    },
    {
      "cell_type": "markdown",
      "metadata": {
        "id": "kEHNTL6ETARW"
      },
      "source": [
        "### Problem 03\n",
        "You are organizing a coding competition. Write a program that takes a list of participants, where each participant is represented by a dictionary with keys \"name\" and \"score\". Calculate the average score and print a congratulatory message for participants who scored above the average."
      ]
    },
    {
      "cell_type": "code",
      "execution_count": null,
      "metadata": {
        "id": "Ozu5qCXEBSbK"
      },
      "outputs": [],
      "source": [
        "participants = {\n",
        "    'Rahim': 25,\n",
        "    'Karim': 30,\n",
        "    'Mehedi': 40,\n",
        "    'Hasan': 50,\n",
        "    'Rasel': 60,\n",
        "}\n",
        "\n",
        "total_score = 0\n",
        "for name, score in participants.items():\n",
        "  total_score += score\n",
        "  if score > average_score:\n",
        "    print(f\"Congratulations! {name} scored {score} in the competition.\")\n",
        "\n",
        "average_score = total_score / len(participants)\n",
        "print(\"Average score:\", average_score)\n"
      ]
    },
    {
      "cell_type": "code",
      "execution_count": null,
      "metadata": {
        "id": "cVmF-LUaHlRH"
      },
      "outputs": [],
      "source": [
        "participants = {\n",
        "    'Rahim': 25,\n",
        "    'Karim': 30,\n",
        "    'Mehedi': 40,\n",
        "    'Hasan': 50,\n",
        "    'Rasel': 60,\n",
        "}\n",
        "avg_score = sum(participants.values()) / len(participants)\n",
        "print(\"Average score:\", avg_score)\n",
        "for name, score in participants.items():\n",
        "  if score > avg_score:\n",
        "    print(f\"Congratulations! {name} scored {score} in the competition.\")"
      ]
    },
    {
      "cell_type": "code",
      "execution_count": null,
      "metadata": {
        "id": "cFjCZNvXVnsK"
      },
      "outputs": [],
      "source": [
        "def make_dictionary(name, score):\n",
        "  return dict(name=name, score=score)\n",
        "\n",
        "first_perticipant_name = input(\"Enter the first participant's name: \")\n",
        "first_perticipant_score = float(input(\"Enter the first participant's score: \"))\n",
        "\n",
        "second_perticipant_name = input(\"Enter the second participant's name: \")\n",
        "second_perticipant_score = float(input(\"Enter the second participant's score: \"))\n",
        "\n",
        "third_perticipant_name = input(\"Enter the third participant's name: \")\n",
        "third_perticipant_score = float(input(\"Enter the third participant's score: \"))\n",
        "\n",
        "first_person = make_dictionary(first_perticipant_name, first_perticipant_score)\n",
        "second_person = make_dictionary(second_perticipant_name, second_perticipant_score)\n",
        "third_person = make_dictionary(third_perticipant_name, third_perticipant_score)\n",
        "\n",
        "participants = [first_person, second_person, third_person]\n",
        "\n",
        "total_score = 0\n",
        "for participant in participants:\n",
        "  total_score += participant['score']\n",
        "\n",
        "average_score = total_score / len(participants)\n",
        "print(f\"Average score is {average_score}\")\n",
        "\n",
        "for participant in participants:\n",
        "  if participant['score'] > average_score:\n",
        "    print(f\"Congratulations! {participant['name']} scored {participant['score']} in the competition.\")"
      ]
    },
    {
      "cell_type": "markdown",
      "metadata": {
        "id": "KawpDH_mTCYM"
      },
      "source": [
        "### Problem 04\n",
        "You have a dictionary of books where each key is a book title and each value is a boolean indicating whether the book is available (True) or not (False). The goal is to extract a list of book titles that are currently available and store them in a separate list."
      ]
    },
    {
      "cell_type": "code",
      "execution_count": null,
      "metadata": {
        "id": "hmoyhMriYTvR"
      },
      "outputs": [],
      "source": [
        "books = {\n",
        "    \"The Alchemist\": True,\n",
        "    \"Origin\": False,\n",
        "    \"Wonderland\": True,\n",
        "}\n",
        "available_books = []\n",
        "for title, available in books.items():\n",
        "  if available:\n",
        "    available_books.append(title)\n",
        "\n",
        "print(available_books)"
      ]
    },
    {
      "cell_type": "markdown",
      "metadata": {
        "id": "zwOfSlyTTHHE"
      },
      "source": [
        "###Problem 05\n",
        "\n",
        "You have a list of fruits where some fruit names may appear multiple times. The objective is to count the occurrences of each fruit in the list and store these counts in a dictionary."
      ]
    },
    {
      "cell_type": "code",
      "execution_count": null,
      "metadata": {
        "id": "Id3G--VwbEQB"
      },
      "outputs": [],
      "source": [
        "fruits= [\"apple\", \"banana\", \"apple\", \"orange\", \"banana\", \"apple\"]\n",
        "fruit_count = {}\n",
        "\n",
        "for fruit in fruits:\n",
        "  if fruit in fruit_count:\n",
        "    fruit_count[fruit] += 1\n",
        "  else:\n",
        "    fruit_count[fruit] = 1\n",
        "\n",
        "print(fruit_count)"
      ]
    },
    {
      "cell_type": "markdown",
      "metadata": {
        "id": "aX99-B3UTJT_"
      },
      "source": [
        "###Problem 06\n",
        "\n",
        "You have a dictionary of employees' salaries where each key is an employee's name and each value is their current salary. The goal is to adjust the salaries based on the following criteria:\n",
        "\n",
        "1.   If the salary is greater than 5000, increase it by 50%.\n",
        "2.   If the salary is 5000 or less, increase it by 30%."
      ]
    },
    {
      "cell_type": "code",
      "execution_count": null,
      "metadata": {
        "id": "YvKrswoFcSLH"
      },
      "outputs": [],
      "source": [
        "def make_dictionary(name, salary):\n",
        "  return dict(name=name, salary=salary)\n",
        "\n",
        "first_employees_name =input(\"Enter the first employees name: \")\n",
        "first_employees_salary =float(input(\"Enter the first employees salary: \"))\n",
        "\n",
        "second_employees_name =input(\"Enter the second employees name: \")\n",
        "second_employees_salary =float(input(\"Enter the second employees salary: \"))\n",
        "\n",
        "third_employees_name =input(\"Enter the third employees name: \")\n",
        "third_employees_salary =float(input(\"Enter the third employees salary: \"))\n",
        "\n",
        "employees = {\n",
        "    'first_employees_name': first_employees_salary,\n",
        "    'second_employees_name': second_employees_salary,\n",
        "    'third_employees_name': third_employees_salary\n",
        "}\n",
        "for name, salary in employees.items():\n",
        "  if salary > 5000:\n",
        "    employees[name] = salary * 1.5\n",
        "  elif salary <= 5000:\n",
        "    employees[name] = salary * 1.3\n",
        "\n",
        "print(employees)"
      ]
    },
    {
      "cell_type": "markdown",
      "metadata": {
        "id": "KbHzdarK9QJl"
      },
      "source": [
        "###Problem 07\n",
        "\n",
        "You have a dictionary stat where each key is a student's name and each value is their corresponding mark. Your task is to iterate through this dictionary and print out the grade each student achieved based on the following grading scale:\n",
        "\n",
        "*   A+ : 80 - 100\n",
        "*   A : 70 - 79\n",
        "*   A- : 60 - 69\n",
        "*   B : 50 - 59\n",
        "*   F : below 50\n",
        "\n",
        "Write a program that iterates through the stat dictionary, evaluates each student's mark against the grading scale, and prints a message indicating the grade obtained by each student."
      ]
    },
    {
      "cell_type": "markdown",
      "source": [
        "#**MID TERM TEST**\n",
        "\n",
        "---\n",
        "\n",
        "---\n",
        "\n",
        "\n",
        " **Md. Mominul Isla**m  |  Reg. No: 2019135158\n",
        "\n",
        "Batch: PP05  ||  Serial ID: 23\n"
      ],
      "metadata": {
        "id": "jhIhbOuJ9ndf"
      }
    },
    {
      "cell_type": "markdown",
      "source": [
        "**Question 1:** Write a loop in python that prints the numbers from 1 to 100"
      ],
      "metadata": {
        "id": "f37gKufP_XgN"
      }
    },
    {
      "cell_type": "code",
      "source": [
        "# Answer to the ques. no. 1\n",
        "for m in range(1, 101):\n",
        "  print(m)\n"
      ],
      "metadata": {
        "collapsed": true,
        "id": "xEezM2qM9xZW"
      },
      "execution_count": null,
      "outputs": []
    },
    {
      "cell_type": "markdown",
      "source": [
        "**Question 2:** write a python code snippet that check if a number is even or odd. The number will be provided by user. So you have to take a number as input then check if the number is even or odd."
      ],
      "metadata": {
        "id": "gfKxhPEN-oRu"
      }
    },
    {
      "cell_type": "code",
      "source": [
        "#-- Answer to the Question No-2\n",
        "\n",
        "number = int(input(\"Enter a number: \"))\n",
        "if number % 2 == 0:\n",
        "  print(f\"{number} is even\")\n",
        "else:\n",
        "  print(f\"{number} is odd\")"
      ],
      "metadata": {
        "id": "v5BHnpxh-aFH"
      },
      "execution_count": null,
      "outputs": []
    },
    {
      "cell_type": "markdown",
      "source": [
        "**Question 3:** Write a python program that prints the multiplication table of 5 ( from 1 to 10)"
      ],
      "metadata": {
        "id": "UZVfJZxj_kFN"
      }
    },
    {
      "cell_type": "code",
      "source": [
        "# Anser to the Question No-3\n",
        "\n",
        "for p in range(1, 11):\n",
        "    print(f\"5 x {p} = {5 * p}\")"
      ],
      "metadata": {
        "id": "saHD8i9n_7Ue"
      },
      "execution_count": null,
      "outputs": []
    },
    {
      "cell_type": "markdown",
      "source": [
        "**Question 4:** write a python code snippet that check if a number is even or odd. The number will be provided by user. So you have to take a number as input then check if the number is even or odd."
      ],
      "metadata": {
        "id": "6MrxDa0FAKFd"
      }
    },
    {
      "cell_type": "code",
      "source": [
        "#-- Answer to the Question No-4\n",
        "\n",
        "number = int(input(\"Enter a number: \"))\n",
        "if number % 2 == 0:\n",
        "  print(f\"{number} is even\")\n",
        "else:\n",
        "  print(f\"{number} is odd\")"
      ],
      "metadata": {
        "id": "nHZiGiV4AVZd"
      },
      "execution_count": null,
      "outputs": []
    },
    {
      "cell_type": "markdown",
      "source": [
        "**Question 5:** Write a python program that prints the multiplication table of 5 ( from 1 to 10)"
      ],
      "metadata": {
        "id": "_XlNAzUbAu-d"
      }
    },
    {
      "cell_type": "code",
      "source": [
        "# Anser to the Question No-5\n",
        "\n",
        "for m in range(1, 11):\n",
        "    print(f\"5 x {m} = {5 * m}\")"
      ],
      "metadata": {
        "id": "5SwPzzKmAxwd"
      },
      "execution_count": null,
      "outputs": []
    },
    {
      "cell_type": "markdown",
      "source": [
        "#**Class 11 (21/11/2024)**\n"
      ],
      "metadata": {
        "id": "_VVh2_ZbT19h"
      }
    },
    {
      "cell_type": "markdown",
      "source": [
        "-  Previous Classes Summery"
      ],
      "metadata": {
        "id": "2PuDx_NaUIN6"
      }
    },
    {
      "cell_type": "markdown",
      "source": [
        "# **Class 12 (24/11/2024)**"
      ],
      "metadata": {
        "id": "EM9gjeDcPflE"
      }
    },
    {
      "cell_type": "markdown",
      "source": [
        "## Closure\n",
        "\n",
        "- What is Closure\n",
        "- Its Uses"
      ],
      "metadata": {
        "id": "a-0JNwK2Pqz8"
      }
    },
    {
      "cell_type": "code",
      "source": [
        "def test(msg):\n",
        "  def printer():\n",
        "    print(msg)\n",
        "  printer()\n",
        "\n",
        "test(\"Hello world\")"
      ],
      "metadata": {
        "id": "1lm1tKVgQal0"
      },
      "execution_count": null,
      "outputs": []
    },
    {
      "cell_type": "code",
      "source": [
        "test (\"Hello world\")\n"
      ],
      "metadata": {
        "id": "xf5gcxbUQ1qq"
      },
      "execution_count": null,
      "outputs": []
    },
    {
      "cell_type": "code",
      "source": [
        "def outer_function(msg):\n",
        "  def inner_function():\n",
        "    print(msg)\n",
        "  return inner_function\n",
        "\n",
        "hi_func = outer_function(\"Hi\")\n",
        "hello_func = outer_function(\"Hello\")\n",
        "\n",
        "hi_func()\n",
        "hello_func()"
      ],
      "metadata": {
        "id": "dOhDDA5vRydC"
      },
      "execution_count": null,
      "outputs": []
    },
    {
      "cell_type": "code",
      "source": [
        "def outer_function(x):\n",
        "  def inner_function(y):\n",
        "    print(x + y)\n",
        "  return inner_function\n",
        "\n",
        "closure = outer_function(10)\n",
        "closure(5) #output=15"
      ],
      "metadata": {
        "id": "P48dKbwOSQra"
      },
      "execution_count": null,
      "outputs": []
    },
    {
      "cell_type": "code",
      "source": [
        "def make_counter():\n",
        "  count = 0\n",
        "  def counter():\n",
        "    nonlocal count #the nonlocal keyword is python is usewd to refer to variables from an enclosing funct\n",
        "    count += 1\n",
        "    return count\n",
        "  return counter\n",
        "counter_1 = make_counter()\n",
        "print(counter_1())\n",
        "print(counter_1())\n",
        "print(counter_1())"
      ],
      "metadata": {
        "id": "Tga8QzUSSkNx"
      },
      "execution_count": null,
      "outputs": []
    },
    {
      "cell_type": "code",
      "source": [
        "def add(a,b):\n",
        "  return a+b\n",
        "\n",
        "add(3,5)"
      ],
      "metadata": {
        "id": "P3BWi1bcULKv"
      },
      "execution_count": null,
      "outputs": []
    },
    {
      "cell_type": "code",
      "source": [
        "def add(a,b):\n",
        "  return a+b\n",
        "\n",
        "add(a=3,b=5)"
      ],
      "metadata": {
        "id": "bImJjYhUUjzu"
      },
      "execution_count": null,
      "outputs": []
    },
    {
      "cell_type": "code",
      "source": [
        "def add (a,b,c=4):\n",
        "  return a+b+c\n",
        "\n",
        "add(3,4,5)\n",
        "#add(3,3) Answer=10\n",
        "#add(3)  not running"
      ],
      "metadata": {
        "id": "V8HkHcg7VVP2"
      },
      "execution_count": null,
      "outputs": []
    },
    {
      "cell_type": "markdown",
      "source": [
        "#**Class 13 (26/11/2024)**\n",
        "What is a Closure?\n",
        "\n",
        "In Python, a closure is created when a nested function references a value from its enclosing function's scope, even after the enclosing function has finished executing. This allows the nested function to \"remember\" and access the variables from the outer function's scope.\n",
        "\n",
        "Key components of a Closure\n",
        "\n",
        "A nested function: This is a function defined within another function.\n",
        "A free variable: This is a variable that is referenced in the nested function but is defined in the enclosing function's scope.\n",
        "Returning the nested function: The enclosing function must return the nested function for a closure to be formed."
      ],
      "metadata": {
        "id": "IzmHMkVmQU_o"
      }
    },
    {
      "cell_type": "code",
      "source": [
        "def outer_function(x):\n",
        "    def inner_function(y):\n",
        "        return x + y  # inner_function accesses 'x' from the outer scope\n",
        "    return inner_function\n",
        "\n",
        "closure = outer_function(10)  # 'closure' now holds the inner_function\n",
        "result = closure(5)          # Calling 'closure' with 'y' = 5\n",
        "print(result)                # Output: 15 (10 + 5)"
      ],
      "metadata": {
        "id": "s6byQHKZXSem"
      },
      "execution_count": null,
      "outputs": []
    },
    {
      "cell_type": "code",
      "source": [
        "# return function\n",
        "\n",
        "def add (a,b):\n",
        "  return a+b\n",
        "v= add(3,5)\n",
        "\n",
        "print(v)"
      ],
      "metadata": {
        "id": "Uq8hcc3cV2rh"
      },
      "execution_count": null,
      "outputs": []
    },
    {
      "cell_type": "code",
      "source": [
        "#একটি ফাংশন থেকে আরেকটি ফাংশন রিটার্ন করতে পারে। তাকে clouser বলে।"
      ],
      "metadata": {
        "id": "TuIgG4WDWhgO"
      },
      "execution_count": null,
      "outputs": []
    },
    {
      "cell_type": "code",
      "source": [
        "def make_counter():\n",
        "  count = \"a\"\n",
        "  def counter():\n",
        "    count = \"a\"\n",
        "    count += 1\n",
        "    return count\n",
        "  return counter\n",
        "counter_1 = make_counter()\n",
        "print(counter_1())\n",
        "print(counter_1())\n",
        "print(counter_1())"
      ],
      "metadata": {
        "id": "iZYs7yDvXfGW"
      },
      "execution_count": null,
      "outputs": []
    },
    {
      "cell_type": "code",
      "source": [
        "# Decorator-------------------\n",
        "\n"
      ],
      "metadata": {
        "id": "Txx_1ji8aAH9"
      },
      "execution_count": null,
      "outputs": []
    }
  ],
  "metadata": {
    "colab": {
      "collapsed_sections": [
        "F-E1YyYO5Skh",
        "jd6Bu-PyrSoU",
        "0aM-CHTCUXzs",
        "sEblSVJkS-WW"
      ],
      "provenance": [],
      "toc_visible": true
    },
    "kernelspec": {
      "display_name": "Python 3",
      "name": "python3"
    }
  },
  "nbformat": 4,
  "nbformat_minor": 0
}
